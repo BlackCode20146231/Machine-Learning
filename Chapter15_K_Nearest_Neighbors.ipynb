{
  "nbformat": 4,
  "nbformat_minor": 0,
  "metadata": {
    "colab": {
      "provenance": [],
      "authorship_tag": "ABX9TyOSKEZBXBmb8WzwJxq2aCGL",
      "include_colab_link": true
    },
    "kernelspec": {
      "name": "python3",
      "display_name": "Python 3"
    },
    "language_info": {
      "name": "python"
    }
  },
  "cells": [
    {
      "cell_type": "markdown",
      "metadata": {
        "id": "view-in-github",
        "colab_type": "text"
      },
      "source": [
        "<a href=\"https://colab.research.google.com/github/blowmeaway1234/Machine-Learning/blob/main/Chapter15_K_Nearest_Neighbors.ipynb\" target=\"_parent\"><img src=\"https://colab.research.google.com/assets/colab-badge.svg\" alt=\"Open In Colab\"/></a>"
      ]
    },
    {
      "cell_type": "markdown",
      "source": [
        "# 15.1 Finding an Observation’s Nearest Neighbors"
      ],
      "metadata": {
        "id": "YMcqtBhoOCF8"
      }
    },
    {
      "cell_type": "code",
      "execution_count": null,
      "metadata": {
        "colab": {
          "base_uri": "https://localhost:8080/"
        },
        "id": "TvqxakMqLRum",
        "outputId": "21d61eee-d560-4e0d-b74b-954412662b65"
      },
      "outputs": [
        {
          "output_type": "execute_result",
          "data": {
            "text/plain": [
              "array([[[1.03800476, 0.55861082, 1.10378283, 1.18556721],\n",
              "        [0.79566902, 0.32841405, 0.76275827, 1.05393502]]])"
            ]
          },
          "metadata": {},
          "execution_count": 12
        }
      ],
      "source": [
        "# Load libraries\n",
        "from sklearn import datasets\n",
        "from sklearn.neighbors import NearestNeighbors\n",
        "from sklearn.preprocessing import StandardScaler\n",
        "# Load data\n",
        "iris = datasets.load_iris()\n",
        "features = iris.data\n",
        "standardizer = StandardScaler()\n",
        "# Standardize features\n",
        "features_standardized = standardizer.fit_transform(features)\n",
        "# Two nearest neighbors\n",
        "nearest_neighbors = NearestNeighbors(n_neighbors=2).fit(features_standardized)\n",
        "# Create an observation\n",
        "new_observation = [ 1, 1, 1, 1]\n",
        "# Find distances and indices of the observation's nearest neighbors\n",
        "distances, indices = nearest_neighbors.kneighbors([new_observation])\n",
        "# View the nearest neighbors\n",
        "features_standardized[indices]"
      ]
    },
    {
      "cell_type": "code",
      "source": [
        "standardizer = StandardScaler()\n",
        "# Standardize features\n",
        "features_standardized = standardizer.fit_transform(features)\n",
        "# Two nearest neighbors\n",
        "nearest_neighbors = NearestNeighbors(n_neighbors=2).fit(features_standardized)\n",
        "# Create an observation\n",
        "new_observation = [ 1, 1, 1, 1]\n",
        "# Find distances and indices of the observation's nearest neighbors\n",
        "distances, indices = nearest_neighbors.kneighbors([new_observation])\n",
        "# View the nearest neighbors\n",
        "features_standardized[indices]"
      ],
      "metadata": {
        "colab": {
          "base_uri": "https://localhost:8080/"
        },
        "id": "JwHb5kOLMD6Y",
        "outputId": "23eca89b-4601-444f-94f5-d395a09ec4de"
      },
      "execution_count": null,
      "outputs": [
        {
          "output_type": "execute_result",
          "data": {
            "text/plain": [
              "array([[[1.03800476, 0.55861082, 1.10378283, 1.18556721],\n",
              "        [0.79566902, 0.32841405, 0.76275827, 1.05393502]]])"
            ]
          },
          "metadata": {},
          "execution_count": 13
        }
      ]
    },
    {
      "cell_type": "code",
      "source": [
        "# View distances\n",
        "distances"
      ],
      "metadata": {
        "colab": {
          "base_uri": "https://localhost:8080/"
        },
        "id": "6tLBlJvyMMEh",
        "outputId": "5a4b069a-48f5-483d-e42c-c2dae15d6d99"
      },
      "execution_count": null,
      "outputs": [
        {
          "output_type": "execute_result",
          "data": {
            "text/plain": [
              "array([[0.49140089, 0.74294782]])"
            ]
          },
          "metadata": {},
          "execution_count": 14
        }
      ]
    },
    {
      "cell_type": "code",
      "source": [
        "# Find each observation's three nearest neighbors\n",
        "# based on euclidean distance (including itself)\n",
        "nearestneighbors_euclidean = NearestNeighbors(\n",
        "n_neighbors=3, metric=\"euclidean\").fit(features_standardized)\n",
        "# List of lists indicating each observation's 3 nearest neighbors\n",
        "# (including itself)\n",
        "nearest_neighbors_with_self = nearestneighbors_euclidean.kneighbors_graph(\n",
        " features_standardized).toarray()\n",
        "# Remove 1's marking an observation is a nearest neighbor to itself\n",
        "for i, x in enumerate(nearest_neighbors_with_self):\n",
        " x[i] = 0\n",
        "# View first observation's two nearest neighbors\n",
        "nearest_neighbors_with_self[0]"
      ],
      "metadata": {
        "colab": {
          "base_uri": "https://localhost:8080/"
        },
        "id": "-nigB0fjMUjX",
        "outputId": "310d954a-7fce-4ef9-f185-73ebff0ba83f"
      },
      "execution_count": null,
      "outputs": [
        {
          "output_type": "execute_result",
          "data": {
            "text/plain": [
              "array([0., 0., 0., 0., 0., 0., 0., 0., 0., 0., 0., 0., 0., 0., 0., 0., 0.,\n",
              "       1., 0., 0., 0., 0., 0., 0., 0., 0., 0., 1., 0., 0., 0., 0., 0., 0.,\n",
              "       0., 0., 0., 0., 0., 0., 0., 0., 0., 0., 0., 0., 0., 0., 0., 0., 0.,\n",
              "       0., 0., 0., 0., 0., 0., 0., 0., 0., 0., 0., 0., 0., 0., 0., 0., 0.,\n",
              "       0., 0., 0., 0., 0., 0., 0., 0., 0., 0., 0., 0., 0., 0., 0., 0., 0.,\n",
              "       0., 0., 0., 0., 0., 0., 0., 0., 0., 0., 0., 0., 0., 0., 0., 0., 0.,\n",
              "       0., 0., 0., 0., 0., 0., 0., 0., 0., 0., 0., 0., 0., 0., 0., 0., 0.,\n",
              "       0., 0., 0., 0., 0., 0., 0., 0., 0., 0., 0., 0., 0., 0., 0., 0., 0.,\n",
              "       0., 0., 0., 0., 0., 0., 0., 0., 0., 0., 0., 0., 0., 0.])"
            ]
          },
          "metadata": {},
          "execution_count": 15
        }
      ]
    },
    {
      "cell_type": "markdown",
      "source": [
        "#15.2 Creating a K-Nearest Neighbor Classifie"
      ],
      "metadata": {
        "id": "Hr95xGhVMiX5"
      }
    },
    {
      "cell_type": "code",
      "source": [
        "# Load libraries\n",
        "from sklearn.neighbors import KNeighborsClassifier\n",
        "from sklearn.preprocessing import StandardScaler\n",
        "from sklearn import datasets\n",
        "# Load data\n",
        "iris = datasets.load_iris()\n",
        "X = iris.data\n",
        "y = iris.target\n",
        "# Create standardizer\n",
        "standardizer = StandardScaler()\n",
        "# Standardize features\n",
        "X_std = standardizer.fit_transform(X)\n",
        "# Train a KNN classifier with 5 neighbors\n",
        "knn = KNeighborsClassifier(n_neighbors=5, n_jobs=-1).fit(X_std, y)\n",
        "# Create two observations\n",
        "new_observations = [[ 0.75, 0.75, 0.75, 0.75],\n",
        " [ 1, 1, 1, 1]]\n",
        "# Predict the class of two observations\n",
        "knn.predict(new_observations)"
      ],
      "metadata": {
        "colab": {
          "base_uri": "https://localhost:8080/"
        },
        "id": "f7ohtImPMj1F",
        "outputId": "005e579c-b4ac-4f62-f408-ade3fe081f45"
      },
      "execution_count": null,
      "outputs": [
        {
          "output_type": "execute_result",
          "data": {
            "text/plain": [
              "array([1, 2])"
            ]
          },
          "metadata": {},
          "execution_count": 16
        }
      ]
    },
    {
      "cell_type": "code",
      "source": [
        "# View probability each observation is one of three classes\n",
        "knn.predict_proba(new_observations)"
      ],
      "metadata": {
        "colab": {
          "base_uri": "https://localhost:8080/"
        },
        "id": "QW6NO5hHMr1Z",
        "outputId": "42d3391f-ff5d-4bfe-d098-ef2c6b88f342"
      },
      "execution_count": null,
      "outputs": [
        {
          "output_type": "execute_result",
          "data": {
            "text/plain": [
              "array([[0. , 0.6, 0.4],\n",
              "       [0. , 0. , 1. ]])"
            ]
          },
          "metadata": {},
          "execution_count": 17
        }
      ]
    },
    {
      "cell_type": "markdown",
      "source": [
        "# 15.3 Identifying the Best Neighborhood Size"
      ],
      "metadata": {
        "id": "PmUUjsFiM5n7"
      }
    },
    {
      "cell_type": "code",
      "source": [
        "# Load libraries\n",
        "from sklearn.neighbors import KNeighborsClassifier\n",
        "from sklearn import datasets\n",
        "from sklearn.preprocessing import StandardScaler\n",
        "from sklearn.pipeline import Pipeline, FeatureUnion\n",
        "from sklearn.model_selection import GridSearchCV\n",
        "# Load data\n",
        "iris = datasets.load_iris()\n",
        "features = iris.data\n",
        "target = iris.target\n",
        "# Create standardizer\n",
        "standardizer = StandardScaler()\n",
        "# Standardize features\n",
        "features_standardized = standardizer.fit_transform(features)\n",
        "# Create a KNN classifier\n",
        "knn = KNeighborsClassifier(n_neighbors=5, n_jobs=-1)\n",
        "# Create a pipeline\n",
        "pipe = Pipeline([(\"standardizer\", standardizer), (\"knn\", knn)])\n",
        "# Create space of candidate values\n",
        "search_space = [{\"knn__n_neighbors\": [1, 2, 3, 4, 5, 6, 7, 8, 9, 10]}]\n",
        "# Create grid search\n",
        "classifier = GridSearchCV(\n",
        " pipe, search_space, cv=5, verbose=0).fit(features_standardized, target)\n",
        " # Best neighborhood size (k)\n",
        "classifier.best_estimator_.get_params()[\"knn__n_neighbors\"]"
      ],
      "metadata": {
        "colab": {
          "base_uri": "https://localhost:8080/"
        },
        "id": "i1EC_lpRNA4S",
        "outputId": "227d2520-522a-45df-d5c1-0394cbee2969"
      },
      "execution_count": null,
      "outputs": [
        {
          "output_type": "execute_result",
          "data": {
            "text/plain": [
              "6"
            ]
          },
          "metadata": {},
          "execution_count": 18
        }
      ]
    },
    {
      "cell_type": "markdown",
      "source": [
        "#15.4 Creating a Radius-Based Nearest Neighbor Classifier"
      ],
      "metadata": {
        "id": "ztrVGvehNUIN"
      }
    },
    {
      "cell_type": "code",
      "source": [
        "# Load libraries\n",
        "from sklearn.neighbors import RadiusNeighborsClassifier\n",
        "from sklearn.preprocessing import StandardScaler\n",
        "from sklearn import datasets\n",
        "# Load data\n",
        "iris = datasets.load_iris()\n",
        "features = iris.data\n",
        "target = iris.target\n",
        "# Create standardizer\n",
        "standardizer = StandardScaler()\n",
        "# Standardize features\n",
        "features_standardized = standardizer.fit_transform(features)\n",
        "# Train a radius neighbors classifier\n",
        "rnn = RadiusNeighborsClassifier(\n",
        " radius=.5, n_jobs=-1).fit(features_standardized, target)\n",
        "# Create two observations\n",
        "new_observations = [[ 1, 1, 1, 1]]\n",
        "# Predict the class of two observations\n",
        "rnn.predict(new_observations)"
      ],
      "metadata": {
        "colab": {
          "base_uri": "https://localhost:8080/"
        },
        "id": "zuPs32MWNV4-",
        "outputId": "e40d05d2-49f7-4f27-827f-387c39f7cd0e"
      },
      "execution_count": null,
      "outputs": [
        {
          "output_type": "execute_result",
          "data": {
            "text/plain": [
              "array([2])"
            ]
          },
          "metadata": {},
          "execution_count": 20
        }
      ]
    }
  ]
}