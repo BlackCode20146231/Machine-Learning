{
  "nbformat": 4,
  "nbformat_minor": 0,
  "metadata": {
    "colab": {
      "provenance": [],
      "authorship_tag": "ABX9TyOMz19jvpsr/Odj3oWuZ+x7",
      "include_colab_link": true
    },
    "kernelspec": {
      "name": "python3",
      "display_name": "Python 3"
    },
    "language_info": {
      "name": "python"
    }
  },
  "cells": [
    {
      "cell_type": "markdown",
      "metadata": {
        "id": "view-in-github",
        "colab_type": "text"
      },
      "source": [
        "<a href=\"https://colab.research.google.com/github/blowmeaway1234/Machine-Learning/blob/main/CHAPTER_21_Saving_and_Loading_Trained_Models.ipynb\" target=\"_parent\"><img src=\"https://colab.research.google.com/assets/colab-badge.svg\" alt=\"Open In Colab\"/></a>"
      ]
    },
    {
      "cell_type": "markdown",
      "source": [
        "# 21.1 Saving and Loading a scikit-learn Model"
      ],
      "metadata": {
        "id": "M2WmQnjhVmpH"
      }
    },
    {
      "cell_type": "markdown",
      "source": [
        "Problem\n",
        "\n",
        "You have a trained scikit-learn model and want to save it and load it elsewhere.\n",
        "\n",
        "Solution\n",
        "\n",
        "Save the model as a pickle file:"
      ],
      "metadata": {
        "id": "vzdlDgOOV0Nd"
      }
    },
    {
      "cell_type": "code",
      "source": [
        "# Load libraries\n",
        "from sklearn.ensemble import RandomForestClassifier\n",
        "from sklearn import datasets\n",
        "import joblib\n",
        "# Load data\n",
        "iris = datasets.load_iris()\n",
        "features = iris.data\n",
        "target = iris.target\n",
        "# Create decision tree classifer object\n",
        "classifer = RandomForestClassifier()\n",
        "# Train model\n",
        "model = classifer.fit(features, target)\n",
        "# Save model as pickle file\n",
        "joblib.dump(model, \"model.pkl\")"
      ],
      "metadata": {
        "colab": {
          "base_uri": "https://localhost:8080/"
        },
        "id": "TGxvCQB4Vxug",
        "outputId": "31f06780-3910-4323-bc06-92c380818895"
      },
      "execution_count": 2,
      "outputs": [
        {
          "output_type": "execute_result",
          "data": {
            "text/plain": [
              "['model.pkl']"
            ]
          },
          "metadata": {},
          "execution_count": 2
        }
      ]
    },
    {
      "cell_type": "code",
      "source": [
        "# Load model from file\n",
        "classifer = joblib.load(\"model.pkl\")"
      ],
      "metadata": {
        "id": "JuEyoiswV-N0"
      },
      "execution_count": 3,
      "outputs": []
    },
    {
      "cell_type": "code",
      "source": [
        "# Create new observation\n",
        "new_observation = [[ 5.2, 3.2, 1.1, 0.1]]"
      ],
      "metadata": {
        "id": "T3G8E90JWNuz"
      },
      "execution_count": 5,
      "outputs": []
    },
    {
      "cell_type": "code",
      "source": [
        "# Predict observation's class\n",
        "classifer.predict(new_observation)"
      ],
      "metadata": {
        "colab": {
          "base_uri": "https://localhost:8080/"
        },
        "id": "Y6B3mlbJWQeI",
        "outputId": "9c2c3e4e-492b-486e-a686-854e697a681a"
      },
      "execution_count": 6,
      "outputs": [
        {
          "output_type": "execute_result",
          "data": {
            "text/plain": [
              "array([0])"
            ]
          },
          "metadata": {},
          "execution_count": 6
        }
      ]
    },
    {
      "cell_type": "markdown",
      "source": [
        "# 21.2 Saving and Loading a Keras Model"
      ],
      "metadata": {
        "id": "cH-5NYFIVtOY"
      }
    },
    {
      "cell_type": "code",
      "source": [
        "# Load libraries\n",
        "import numpy as np\n",
        "from keras.datasets import imdb\n",
        "from keras.preprocessing.text import Tokenizer\n",
        "from keras import models\n",
        "from keras import layers\n",
        "from keras.models import load_model\n",
        "# Set random seed\n",
        "np.random.seed(0)\n",
        "# Set the number of features we want\n",
        "number_of_features = 1000\n",
        "# Load data and target vector from movie review data\n",
        "(train_data, train_target), (test_data, test_target) = imdb.load_data(\n",
        " num_words=number_of_features)\n",
        "# Convert movie review data to a one-hot encoded feature matrix\n",
        "tokenizer = Tokenizer(num_words=number_of_features)\n",
        "train_features = tokenizer.sequences_to_matrix(train_data, mode=\"binary\")\n",
        "test_features = tokenizer.sequences_to_matrix(test_data, mode=\"binary\")\n",
        "# Start neural network\n",
        "network = models.Sequential()\n",
        "# Add fully connected layer with a ReLU activation function\n",
        "network.add(layers.Dense(units=16,\n",
        " activation=\"relu\",\n",
        "input_shape=(number_of_features,)))\n",
        "# Add fully connected layer with a sigmoid activation function\n",
        "network.add(layers.Dense(units=1, activation=\"sigmoid\"))\n",
        "# Compile neural network\n",
        "network.compile(loss=\"binary_crossentropy\", # Cross-entropy\n",
        " optimizer=\"rmsprop\", # Root Mean Square Propagation\n",
        " metrics=[\"accuracy\"]) # Accuracy performance metric\n",
        "# Train neural network\n",
        "history = network.fit(train_features, # Features\n",
        "                      train_target, # Target vector\n",
        "epochs=3, # Number of epochs\n",
        " verbose=0, # No output\n",
        " batch_size=100, # Number of observations per batch\n",
        " validation_data=(test_features, test_target)) # Test data"
      ],
      "metadata": {
        "colab": {
          "base_uri": "https://localhost:8080/"
        },
        "id": "C6bdu9jAWV8d",
        "outputId": "03152c61-2118-4402-bbb2-f530f9f2fa6b"
      },
      "execution_count": 7,
      "outputs": [
        {
          "output_type": "stream",
          "name": "stdout",
          "text": [
            "Downloading data from https://storage.googleapis.com/tensorflow/tf-keras-datasets/imdb.npz\n",
            "17464789/17464789 [==============================] - 0s 0us/step\n"
          ]
        }
      ]
    },
    {
      "cell_type": "code",
      "source": [
        "# Save neural network\n",
        "network.save(\"model.h5\")"
      ],
      "metadata": {
        "id": "eaJfVCYEWZm0"
      },
      "execution_count": 8,
      "outputs": []
    },
    {
      "cell_type": "code",
      "source": [
        "# Load neural network\n",
        "network = load_model(\"model.h5\")"
      ],
      "metadata": {
        "id": "ieFO5SAFWbqG"
      },
      "execution_count": 9,
      "outputs": []
    }
  ]
}