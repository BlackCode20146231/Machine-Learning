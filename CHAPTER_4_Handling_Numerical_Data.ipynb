{
  "nbformat": 4,
  "nbformat_minor": 0,
  "metadata": {
    "colab": {
      "provenance": [],
      "collapsed_sections": [
        "hE7knFIPubhp",
        "UAz1PMlevxUk"
      ],
      "authorship_tag": "ABX9TyPEM4HkqawDUTwQr2EKiuiG",
      "include_colab_link": true
    },
    "kernelspec": {
      "name": "python3",
      "display_name": "Python 3"
    },
    "language_info": {
      "name": "python"
    }
  },
  "cells": [
    {
      "cell_type": "markdown",
      "metadata": {
        "id": "view-in-github",
        "colab_type": "text"
      },
      "source": [
        "<a href=\"https://colab.research.google.com/github/BlackCode20146231/Machine-Learning/blob/main/CHAPTER_4_Handling_Numerical_Data.ipynb\" target=\"_parent\"><img src=\"https://colab.research.google.com/assets/colab-badge.svg\" alt=\"Open In Colab\"/></a>"
      ]
    },
    {
      "cell_type": "markdown",
      "source": [
        "# 4.1 Rescaling a Feature"
      ],
      "metadata": {
        "id": "hE7knFIPubhp"
      }
    },
    {
      "cell_type": "markdown",
      "source": [
        "You need to rescale the values of a numerical feature to be between two values.\n",
        "\n",
        "Use scikit-learn’s MinMaxScaler to rescale a feature array:"
      ],
      "metadata": {
        "id": "x9IjaTdXudZu"
      }
    },
    {
      "cell_type": "code",
      "execution_count": 1,
      "metadata": {
        "colab": {
          "base_uri": "https://localhost:8080/"
        },
        "id": "zBm4L9q-kM7-",
        "outputId": "8be603b5-65ad-49be-d63e-265f517f7f06"
      },
      "outputs": [
        {
          "output_type": "execute_result",
          "data": {
            "text/plain": [
              "array([[0.        ],\n",
              "       [0.28571429],\n",
              "       [0.35714286],\n",
              "       [0.42857143],\n",
              "       [1.        ]])"
            ]
          },
          "metadata": {},
          "execution_count": 1
        }
      ],
      "source": [
        "# Load libraries\n",
        "import numpy as np\n",
        "from sklearn import preprocessing\n",
        "# Create feature\n",
        "feature = np.array([[-500.5],\n",
        " [-100.1],\n",
        " [0],\n",
        " [100.1],\n",
        " [900.9]])\n",
        "# Create scaler\n",
        "minmax_scale = preprocessing.MinMaxScaler(feature_range=(0, 1))\n",
        "# Scale feature\n",
        "scaled_feature = minmax_scale.fit_transform(feature)\n",
        "# Show feature\n",
        "scaled_feature"
      ]
    },
    {
      "cell_type": "markdown",
      "source": [
        "**Discussion**\n",
        "\n",
        "    Rescaling is a common preprocessing task in machine learning.\n",
        "    Many of the algo‐rithms described later in this book will assume all features are on the same scale, typi‐cally 0 to 1 or –1 to 1.\n",
        "\n",
        "    There are a number of rescaling techniques, but one of the simplest is called min-max scaling.\n",
        "\n",
        "    One option is to use fit to calculate the minimum and maximum values of the feature, then use trans form to rescale the feature. \n",
        "    The second option is to use fit_transform to do both operations at once.\n",
        "\n"
      ],
      "metadata": {
        "id": "SUl1o0cKu0zm"
      }
    },
    {
      "cell_type": "markdown",
      "source": [
        "# 4.2 Standardizing (tiêu chuẩn hóa) a Feature "
      ],
      "metadata": {
        "id": "UAz1PMlevxUk"
      }
    },
    {
      "cell_type": "markdown",
      "source": [
        "You want to transform a feature to have a mean of 0 and a standard deviation of 1.\n",
        "\n",
        "scikit-learn’s StandardScaler performs both transformations:\n",
        "\n"
      ],
      "metadata": {
        "id": "XpAJheHLv71v"
      }
    },
    {
      "cell_type": "code",
      "source": [
        "# Load libraries\n",
        "import numpy as np\n",
        "from sklearn import preprocessing\n",
        "# Create feature\n",
        "x = np.array([[-1000.1],\n",
        "              [-200.2],\n",
        "              [500.5],\n",
        "              [600.6],\n",
        "              [9000.9]])\n",
        "# Create scaler\n",
        "scaler = preprocessing.StandardScaler()\n",
        "# Transform the feature\n",
        "standardized = scaler.fit_transform(x)\n",
        "# Show feature\n",
        "standardized"
      ],
      "metadata": {
        "id": "haws1tdOv-LN"
      },
      "execution_count": null,
      "outputs": []
    },
    {
      "cell_type": "markdown",
      "source": [
        "**Discussion**"
      ],
      "metadata": {
        "id": "Uss9-UzGwfkG"
      }
    },
    {
      "cell_type": "markdown",
      "source": [
        "    A common alternative to min-max scaling discussed in Recipe 4.1 is rescaling of fea‐\n",
        "    tures to be approximately standard normally distributed\n",
        "    To achieve this, we use \n",
        "    standardization to transform the data such that it has a mean, x̄, of 0 and a standard\n",
        "    deviation, σ, of 1\n"
      ],
      "metadata": {
        "id": "H7e2Fzq1wZgh"
      }
    },
    {
      "cell_type": "code",
      "source": [
        "# Print mean and standard deviation\n",
        "print(\"Mean:\", round(standardized.mean()))\n",
        "print(\"Standard deviation:\", standardized.std())"
      ],
      "metadata": {
        "colab": {
          "base_uri": "https://localhost:8080/"
        },
        "id": "1WoQLr7NwGZk",
        "outputId": "f2e24a16-741a-49da-f9d9-411a109c4d82"
      },
      "execution_count": 4,
      "outputs": [
        {
          "output_type": "stream",
          "name": "stdout",
          "text": [
            "Mean: 0\n",
            "Standard deviation: 1.0\n"
          ]
        }
      ]
    },
    {
      "cell_type": "markdown",
      "source": [
        "In this scenario, it is often helpful to instead\n",
        "rescale the feature using the median and quartile range. In scikit-learn, we do this\n",
        "using the RobustScaler method"
      ],
      "metadata": {
        "id": "4BGnufBmw1yT"
      }
    },
    {
      "cell_type": "code",
      "source": [
        "# Create scaler\n",
        "robust_scaler = preprocessing.RobustScaler()\n",
        "# Transform feature\n",
        "robust_scaler.fit_transform(x)"
      ],
      "metadata": {
        "colab": {
          "base_uri": "https://localhost:8080/"
        },
        "id": "CYYAwrrHw2yP",
        "outputId": "249afcda-511c-43b1-e510-e73c80a59163"
      },
      "execution_count": 5,
      "outputs": [
        {
          "output_type": "execute_result",
          "data": {
            "text/plain": [
              "array([[-1.87387612],\n",
              "       [-0.875     ],\n",
              "       [ 0.        ],\n",
              "       [ 0.125     ],\n",
              "       [10.61488511]])"
            ]
          },
          "metadata": {},
          "execution_count": 5
        }
      ]
    },
    {
      "cell_type": "markdown",
      "source": [
        "# 4.3 Normalizing Observations"
      ],
      "metadata": {
        "id": "iDxGk78Cw7pu"
      }
    },
    {
      "cell_type": "markdown",
      "source": [
        "You want to rescale the feature values of observations to have unit norm (a total\n",
        "length of 1).\n",
        "\n",
        "Use Normalizer with a norm argument:"
      ],
      "metadata": {
        "id": "URIYYqqBw_UG"
      }
    },
    {
      "cell_type": "code",
      "source": [
        "# Load libraries\n",
        "import numpy as np\n",
        "from sklearn.preprocessing import Normalizer\n",
        "# Create feature matrix\n",
        "features = np.array([[0.5, 0.5],\n",
        " [1.1, 3.4],\n",
        " [1.5, 20.2],\n",
        " [1.63, 34.4],\n",
        " [10.9, 3.3]])\n",
        "# Create normalizer\n",
        "normalizer = Normalizer(norm=\"l2\")\n",
        "# Transform feature matrix\n",
        "normalizer.transform(features)"
      ],
      "metadata": {
        "colab": {
          "base_uri": "https://localhost:8080/"
        },
        "id": "z3QKAaUCxBrk",
        "outputId": "5cab5c7c-0626-4b96-c3d3-ef4975621176"
      },
      "execution_count": 6,
      "outputs": [
        {
          "output_type": "execute_result",
          "data": {
            "text/plain": [
              "array([[0.70710678, 0.70710678],\n",
              "       [0.30782029, 0.95144452],\n",
              "       [0.07405353, 0.99725427],\n",
              "       [0.04733062, 0.99887928],\n",
              "       [0.95709822, 0.28976368]])"
            ]
          },
          "metadata": {},
          "execution_count": 6
        }
      ]
    },
    {
      "cell_type": "markdown",
      "source": [
        "**Discussion**"
      ],
      "metadata": {
        "id": "b2W3Jv7PxUSo"
      }
    },
    {
      "cell_type": "markdown",
      "source": [
        "    Many rescaling methods (e.g., min-max scaling and standardization) operate on fea‐\n",
        "    tures; however, we can also rescale across individual observations. Normalizer\n",
        "    rescales the values on individual observations to have unit norm (the sum of their\n",
        "    lengths is 1). This type of rescaling is often used when we have many equivalent fea‐\n",
        "    tures (e.g., text classification when every word or n-word group is a feature).\n",
        "    Normalizer provides three norm options with \n",
        "    \n",
        "    Euclidean norm (often called L2)\n",
        "\n"
      ],
      "metadata": {
        "id": "EE5SEEQwxI5T"
      }
    },
    {
      "cell_type": "code",
      "source": [
        "# Transform feature matrix\n",
        "features_l2_norm = Normalizer(norm=\"l2\").transform(features)\n",
        "# Show feature matrix\n",
        "features_l2_norm"
      ],
      "metadata": {
        "colab": {
          "base_uri": "https://localhost:8080/"
        },
        "id": "gMXzXM0xxZMI",
        "outputId": "72545170-a3f7-4766-f290-421b62069072"
      },
      "execution_count": 7,
      "outputs": [
        {
          "output_type": "execute_result",
          "data": {
            "text/plain": [
              "array([[0.70710678, 0.70710678],\n",
              "       [0.30782029, 0.95144452],\n",
              "       [0.07405353, 0.99725427],\n",
              "       [0.04733062, 0.99887928],\n",
              "       [0.95709822, 0.28976368]])"
            ]
          },
          "metadata": {},
          "execution_count": 7
        }
      ]
    },
    {
      "cell_type": "markdown",
      "source": [
        "    Alternatively, we can specify \n",
        "    \n",
        "    Manhattan norm (L1):"
      ],
      "metadata": {
        "id": "qQZNY_L1xeKg"
      }
    },
    {
      "cell_type": "code",
      "source": [
        "# Transform feature matrix\n",
        "features_l1_norm = Normalizer(norm=\"l1\").transform(features)\n",
        "# Show feature matrix\n",
        "features_l1_norm"
      ],
      "metadata": {
        "colab": {
          "base_uri": "https://localhost:8080/"
        },
        "id": "OIt9_V0vxekf",
        "outputId": "e2ad109f-08ba-4d5f-b92e-8dbd705066d0"
      },
      "execution_count": 8,
      "outputs": [
        {
          "output_type": "execute_result",
          "data": {
            "text/plain": [
              "array([[0.5       , 0.5       ],\n",
              "       [0.24444444, 0.75555556],\n",
              "       [0.06912442, 0.93087558],\n",
              "       [0.04524008, 0.95475992],\n",
              "       [0.76760563, 0.23239437]])"
            ]
          },
          "metadata": {},
          "execution_count": 8
        }
      ]
    },
    {
      "cell_type": "markdown",
      "source": [
        "    Practically, notice that norm='l1' rescales an observation’s values so they sum to 1,\n",
        "    which can sometimes be a desirable quality:"
      ],
      "metadata": {
        "id": "c2p5vN7Ex63y"
      }
    },
    {
      "cell_type": "code",
      "source": [
        "# Print sum\n",
        "print(\"Sum of the first observation\\'s values:\",\n",
        " features_l1_norm[0, 0] + features_l1_norm[0, 1])"
      ],
      "metadata": {
        "colab": {
          "base_uri": "https://localhost:8080/"
        },
        "id": "roFKW-hixwcE",
        "outputId": "4cb6b315-1b25-4fc5-8fe7-3e0bc5671252"
      },
      "execution_count": 9,
      "outputs": [
        {
          "output_type": "stream",
          "name": "stdout",
          "text": [
            "Sum of the first observation's values: 1.0\n"
          ]
        }
      ]
    },
    {
      "cell_type": "markdown",
      "source": [
        "# 4.4 Generating Polynomial and Interaction Features"
      ],
      "metadata": {
        "id": "Bxe6Us7Pyex9"
      }
    },
    {
      "cell_type": "markdown",
      "source": [
        "You want to create polynominal and interaction features.\n",
        "\n",
        "Even though some choose to create polynomial and interaction features manually,\n",
        "scikit-learn offers a built-in method:"
      ],
      "metadata": {
        "id": "vpMtGZVMyhFM"
      }
    },
    {
      "cell_type": "code",
      "source": [
        "# Load libraries\n",
        "import numpy as np\n",
        "from sklearn.preprocessing import PolynomialFeatures\n",
        "# Create feature matrix\n",
        "features = np.array([[2, 3],\n",
        "                    [2, 3],\n",
        "                    [2, 3]])\n"
      ],
      "metadata": {
        "id": "rHx7QqNRyjZI"
      },
      "execution_count": 10,
      "outputs": []
    },
    {
      "cell_type": "code",
      "source": [
        "# Create PolynomialFeatures object\n",
        "polynomial_interaction = PolynomialFeatures(degree=2, include_bias=False)\n",
        "# Create polynomial features\n",
        "polynomial_interaction.fit_transform(features)"
      ],
      "metadata": {
        "colab": {
          "base_uri": "https://localhost:8080/"
        },
        "id": "wJY5zpgfyp9D",
        "outputId": "f9e71556-a6ee-488d-c2a3-9b329d0bcb23"
      },
      "execution_count": 11,
      "outputs": [
        {
          "output_type": "execute_result",
          "data": {
            "text/plain": [
              "array([[2., 3., 4., 6., 9.],\n",
              "       [2., 3., 4., 6., 9.],\n",
              "       [2., 3., 4., 6., 9.]])"
            ]
          },
          "metadata": {},
          "execution_count": 11
        }
      ]
    },
    {
      "cell_type": "code",
      "source": [
        "interaction = PolynomialFeatures(degree=2,\n",
        "              interaction_only=True, include_bias=False)\n",
        "interaction.fit_transform(features)"
      ],
      "metadata": {
        "colab": {
          "base_uri": "https://localhost:8080/"
        },
        "id": "nd6zYI14ysYv",
        "outputId": "b71a0f05-9e08-455d-d00b-854d79e83a38"
      },
      "execution_count": 16,
      "outputs": [
        {
          "output_type": "execute_result",
          "data": {
            "text/plain": [
              "array([[2., 3., 6.],\n",
              "       [2., 3., 6.],\n",
              "       [2., 3., 6.]])"
            ]
          },
          "metadata": {},
          "execution_count": 16
        }
      ]
    },
    {
      "cell_type": "markdown",
      "source": [
        "# 4.5 Transforming Features\n",
        "\n"
      ],
      "metadata": {
        "id": "MsGnIf1zzJ5D"
      }
    },
    {
      "cell_type": "markdown",
      "source": [
        "You want to make a custom transformation to one or more features\n",
        "\n",
        "In scikit-learn, use FunctionTransformer to apply a function to a set of features:"
      ],
      "metadata": {
        "id": "7XDpyOf9zP5P"
      }
    },
    {
      "cell_type": "code",
      "source": [
        "# Load libraries\n",
        "import numpy as np\n",
        "from sklearn.preprocessing import FunctionTransformer\n",
        "# Create feature matrix\n",
        "features = np.array([[2, 3],\n",
        " [2, 3],\n",
        " [2, 3]])\n",
        "# Define a simple function\n",
        "def add_ten(x):\n",
        " return x + 10\n",
        "# Create transformer\n",
        "ten_transformer = FunctionTransformer(add_ten)\n",
        "# Transform feature matrix\n",
        "ten_transformer.transform(features)"
      ],
      "metadata": {
        "colab": {
          "base_uri": "https://localhost:8080/"
        },
        "id": "6CI7v2U3zMPZ",
        "outputId": "8da4da41-3fbb-4eae-f5f7-0c20276b6bb0"
      },
      "execution_count": 17,
      "outputs": [
        {
          "output_type": "execute_result",
          "data": {
            "text/plain": [
              "array([[12, 13],\n",
              "       [12, 13],\n",
              "       [12, 13]])"
            ]
          },
          "metadata": {},
          "execution_count": 17
        }
      ]
    },
    {
      "cell_type": "code",
      "source": [
        "# Load library\n",
        "import pandas as pd\n",
        "# Create DataFrame\n",
        "df = pd.DataFrame(features, columns=[\"feature_1\", \"feature_2\"])\n",
        "# Apply function\n",
        "df.apply(add_ten)"
      ],
      "metadata": {
        "colab": {
          "base_uri": "https://localhost:8080/",
          "height": 143
        },
        "id": "gu-K7OpFzUZf",
        "outputId": "7bd8fbf1-3cff-424d-d715-4c6e87f60d21"
      },
      "execution_count": 19,
      "outputs": [
        {
          "output_type": "execute_result",
          "data": {
            "text/plain": [
              "   feature_1  feature_2\n",
              "0         12         13\n",
              "1         12         13\n",
              "2         12         13"
            ],
            "text/html": [
              "\n",
              "  <div id=\"df-d68d3271-1ac6-4402-bf3d-74baf0a17592\">\n",
              "    <div class=\"colab-df-container\">\n",
              "      <div>\n",
              "<style scoped>\n",
              "    .dataframe tbody tr th:only-of-type {\n",
              "        vertical-align: middle;\n",
              "    }\n",
              "\n",
              "    .dataframe tbody tr th {\n",
              "        vertical-align: top;\n",
              "    }\n",
              "\n",
              "    .dataframe thead th {\n",
              "        text-align: right;\n",
              "    }\n",
              "</style>\n",
              "<table border=\"1\" class=\"dataframe\">\n",
              "  <thead>\n",
              "    <tr style=\"text-align: right;\">\n",
              "      <th></th>\n",
              "      <th>feature_1</th>\n",
              "      <th>feature_2</th>\n",
              "    </tr>\n",
              "  </thead>\n",
              "  <tbody>\n",
              "    <tr>\n",
              "      <th>0</th>\n",
              "      <td>12</td>\n",
              "      <td>13</td>\n",
              "    </tr>\n",
              "    <tr>\n",
              "      <th>1</th>\n",
              "      <td>12</td>\n",
              "      <td>13</td>\n",
              "    </tr>\n",
              "    <tr>\n",
              "      <th>2</th>\n",
              "      <td>12</td>\n",
              "      <td>13</td>\n",
              "    </tr>\n",
              "  </tbody>\n",
              "</table>\n",
              "</div>\n",
              "      <button class=\"colab-df-convert\" onclick=\"convertToInteractive('df-d68d3271-1ac6-4402-bf3d-74baf0a17592')\"\n",
              "              title=\"Convert this dataframe to an interactive table.\"\n",
              "              style=\"display:none;\">\n",
              "        \n",
              "  <svg xmlns=\"http://www.w3.org/2000/svg\" height=\"24px\"viewBox=\"0 0 24 24\"\n",
              "       width=\"24px\">\n",
              "    <path d=\"M0 0h24v24H0V0z\" fill=\"none\"/>\n",
              "    <path d=\"M18.56 5.44l.94 2.06.94-2.06 2.06-.94-2.06-.94-.94-2.06-.94 2.06-2.06.94zm-11 1L8.5 8.5l.94-2.06 2.06-.94-2.06-.94L8.5 2.5l-.94 2.06-2.06.94zm10 10l.94 2.06.94-2.06 2.06-.94-2.06-.94-.94-2.06-.94 2.06-2.06.94z\"/><path d=\"M17.41 7.96l-1.37-1.37c-.4-.4-.92-.59-1.43-.59-.52 0-1.04.2-1.43.59L10.3 9.45l-7.72 7.72c-.78.78-.78 2.05 0 2.83L4 21.41c.39.39.9.59 1.41.59.51 0 1.02-.2 1.41-.59l7.78-7.78 2.81-2.81c.8-.78.8-2.07 0-2.86zM5.41 20L4 18.59l7.72-7.72 1.47 1.35L5.41 20z\"/>\n",
              "  </svg>\n",
              "      </button>\n",
              "      \n",
              "  <style>\n",
              "    .colab-df-container {\n",
              "      display:flex;\n",
              "      flex-wrap:wrap;\n",
              "      gap: 12px;\n",
              "    }\n",
              "\n",
              "    .colab-df-convert {\n",
              "      background-color: #E8F0FE;\n",
              "      border: none;\n",
              "      border-radius: 50%;\n",
              "      cursor: pointer;\n",
              "      display: none;\n",
              "      fill: #1967D2;\n",
              "      height: 32px;\n",
              "      padding: 0 0 0 0;\n",
              "      width: 32px;\n",
              "    }\n",
              "\n",
              "    .colab-df-convert:hover {\n",
              "      background-color: #E2EBFA;\n",
              "      box-shadow: 0px 1px 2px rgba(60, 64, 67, 0.3), 0px 1px 3px 1px rgba(60, 64, 67, 0.15);\n",
              "      fill: #174EA6;\n",
              "    }\n",
              "\n",
              "    [theme=dark] .colab-df-convert {\n",
              "      background-color: #3B4455;\n",
              "      fill: #D2E3FC;\n",
              "    }\n",
              "\n",
              "    [theme=dark] .colab-df-convert:hover {\n",
              "      background-color: #434B5C;\n",
              "      box-shadow: 0px 1px 3px 1px rgba(0, 0, 0, 0.15);\n",
              "      filter: drop-shadow(0px 1px 2px rgba(0, 0, 0, 0.3));\n",
              "      fill: #FFFFFF;\n",
              "    }\n",
              "  </style>\n",
              "\n",
              "      <script>\n",
              "        const buttonEl =\n",
              "          document.querySelector('#df-d68d3271-1ac6-4402-bf3d-74baf0a17592 button.colab-df-convert');\n",
              "        buttonEl.style.display =\n",
              "          google.colab.kernel.accessAllowed ? 'block' : 'none';\n",
              "\n",
              "        async function convertToInteractive(key) {\n",
              "          const element = document.querySelector('#df-d68d3271-1ac6-4402-bf3d-74baf0a17592');\n",
              "          const dataTable =\n",
              "            await google.colab.kernel.invokeFunction('convertToInteractive',\n",
              "                                                     [key], {});\n",
              "          if (!dataTable) return;\n",
              "\n",
              "          const docLinkHtml = 'Like what you see? Visit the ' +\n",
              "            '<a target=\"_blank\" href=https://colab.research.google.com/notebooks/data_table.ipynb>data table notebook</a>'\n",
              "            + ' to learn more about interactive tables.';\n",
              "          element.innerHTML = '';\n",
              "          dataTable['output_type'] = 'display_data';\n",
              "          await google.colab.output.renderOutput(dataTable, element);\n",
              "          const docLink = document.createElement('div');\n",
              "          docLink.innerHTML = docLinkHtml;\n",
              "          element.appendChild(docLink);\n",
              "        }\n",
              "      </script>\n",
              "    </div>\n",
              "  </div>\n",
              "  "
            ]
          },
          "metadata": {},
          "execution_count": 19
        }
      ]
    },
    {
      "cell_type": "markdown",
      "source": [
        "# 4.6 Detecting Outliers"
      ],
      "metadata": {
        "id": "vOYyJRNyzfBF"
      }
    },
    {
      "cell_type": "markdown",
      "source": [
        "You want to identify extreme observations.\n",
        "\n",
        "Detecting outliers is unfortunately more of an art than a science. However, a common\n",
        "method is to assume the data is normally distributed and based on that assumption\n",
        "“draw” an ellipse around the data, classifying any observation inside the ellipse as an\n",
        "inlier (labeled as 1) and any observation outside the ellipse as an outlier (labeled as\n",
        "-1):"
      ],
      "metadata": {
        "id": "kbBha9c3zgCV"
      }
    },
    {
      "cell_type": "code",
      "source": [
        "# Load libraries\n",
        "import numpy as np\n",
        "from sklearn.covariance import EllipticEnvelope\n",
        "from sklearn.datasets import make_blobs\n",
        "\n",
        "# Create simulated data\n",
        "features, _ = make_blobs(n_samples = 10,\n",
        "              n_features = 2,\n",
        "              centers = 1,\n",
        "              random_state = 1)\n",
        "\n",
        "# Replace the first observation's values with extreme values\n",
        "features[0,0] = 10000\n",
        "features[0,1] = 10000\n",
        "\n",
        "# Create detector\n",
        "outlier_detector = EllipticEnvelope(contamination=.1) #???\n",
        "\n",
        "# Fit detector\n",
        "outlier_detector.fit(features)\n",
        "\n",
        "# Predict outliers\n",
        "outlier_detector.predict(features)"
      ],
      "metadata": {
        "colab": {
          "base_uri": "https://localhost:8080/"
        },
        "id": "1slwp1sTzlhm",
        "outputId": "58b020d8-0cf4-48a7-f3a7-35177c229d50"
      },
      "execution_count": 22,
      "outputs": [
        {
          "output_type": "execute_result",
          "data": {
            "text/plain": [
              "array([-1,  1,  1,  1,  1,  1,  1,  1,  1,  1])"
            ]
          },
          "metadata": {},
          "execution_count": 22
        }
      ]
    },
    {
      "cell_type": "markdown",
      "source": [
        "Instead of looking at observations as a whole, we can instead look at individual fea‐\n",
        "tures and identify extreme values in those features using interquartile range (IQR):"
      ],
      "metadata": {
        "id": "M6eXOvvw0F4K"
      }
    },
    {
      "cell_type": "code",
      "source": [
        "# Create one feature\n",
        "feature = features[:,0]\n",
        "# Create a function to return index of outliers\n",
        "def indicies_of_outliers(x):\n",
        " q1, q3 = np.percentile(x, [25, 75])\n",
        " iqr = q3 - q1\n",
        " lower_bound = q1 - (iqr * 1.5)\n",
        " upper_bound = q3 + (iqr * 1.5)\n",
        " return np.where((x > upper_bound) | (x < lower_bound))\n",
        "# Run function\n",
        "indicies_of_outliers(feature)"
      ],
      "metadata": {
        "colab": {
          "base_uri": "https://localhost:8080/"
        },
        "id": "sRjgXDuE0E8k",
        "outputId": "dd437637-81de-4e3a-f308-7c7c80359073"
      },
      "execution_count": 23,
      "outputs": [
        {
          "output_type": "execute_result",
          "data": {
            "text/plain": [
              "(array([0]),)"
            ]
          },
          "metadata": {},
          "execution_count": 23
        }
      ]
    },
    {
      "cell_type": "markdown",
      "source": [
        "IQR is the difference between the first and third quartile of a set of data. You can\n",
        "think of IQR as the spread of the bulk of the data, with outliers being observations far\n",
        "from the main concentration of data. Outliers are commonly defined as any value 1.5\n",
        "IQRs less than the first quartile or 1.5 IQRs greater than the third quartile."
      ],
      "metadata": {
        "id": "1xPIGxDg0mcH"
      }
    },
    {
      "cell_type": "markdown",
      "source": [
        "**Discussion**\n",
        "\n",
        "    There is no single best technique for detecting outliers. Instead, we have a collection\n",
        "    of techniques all with their own advantages and disadvantages. Our best strategy is\n",
        "    often trying multiple techniques (e.g., both EllipticEnvelope and IQR-based detec‐\n",
        "    tion) and looking at the results as a whole.\n",
        "    If at all possible, we should take a look at observations we detect as outliers and try to\n",
        "    understand them. For example, if we have a dataset of houses and one feature is num‐ber of rooms, is an outlier with 100 rooms really a house or is it actually a hotel that\n",
        "    has been misclassified?\n"
      ],
      "metadata": {
        "id": "HJ6iWDx-0sqL"
      }
    },
    {
      "cell_type": "markdown",
      "source": [
        "# 4.7 Handling Outliers (Xử lí giá trị ngoại lai)"
      ],
      "metadata": {
        "id": "A8w7CjFg0zuZ"
      }
    },
    {
      "cell_type": "markdown",
      "source": [
        "You have outliers.\n",
        "\n",
        "Typically we have three strategies we can use to handle outliers. First, we can drop\n",
        "them:"
      ],
      "metadata": {
        "id": "5uXsXlVo08v-"
      }
    },
    {
      "cell_type": "code",
      "source": [
        "# Load library\n",
        "import pandas as pd\n",
        "# Create DataFrame\n",
        "houses = pd.DataFrame()\n",
        "houses['Price'] = [534433, 392333, 293222, 4322032]\n",
        "houses['Bathrooms'] = [2, 3.5, 2, 116]\n",
        "houses['Square_Feet'] = [1500, 2500, 1500, 48000]\n",
        "# Filter observations\n",
        "houses[houses['Bathrooms'] < 20]"
      ],
      "metadata": {
        "colab": {
          "base_uri": "https://localhost:8080/",
          "height": 143
        },
        "id": "DVArSx0M1Bi3",
        "outputId": "79aa9701-e95f-4c70-f605-e758b5071cd2"
      },
      "execution_count": 24,
      "outputs": [
        {
          "output_type": "execute_result",
          "data": {
            "text/plain": [
              "    Price  Bathrooms  Square_Feet\n",
              "0  534433        2.0         1500\n",
              "1  392333        3.5         2500\n",
              "2  293222        2.0         1500"
            ],
            "text/html": [
              "\n",
              "  <div id=\"df-45854927-2a7c-44b8-aa88-9e86c33aa126\">\n",
              "    <div class=\"colab-df-container\">\n",
              "      <div>\n",
              "<style scoped>\n",
              "    .dataframe tbody tr th:only-of-type {\n",
              "        vertical-align: middle;\n",
              "    }\n",
              "\n",
              "    .dataframe tbody tr th {\n",
              "        vertical-align: top;\n",
              "    }\n",
              "\n",
              "    .dataframe thead th {\n",
              "        text-align: right;\n",
              "    }\n",
              "</style>\n",
              "<table border=\"1\" class=\"dataframe\">\n",
              "  <thead>\n",
              "    <tr style=\"text-align: right;\">\n",
              "      <th></th>\n",
              "      <th>Price</th>\n",
              "      <th>Bathrooms</th>\n",
              "      <th>Square_Feet</th>\n",
              "    </tr>\n",
              "  </thead>\n",
              "  <tbody>\n",
              "    <tr>\n",
              "      <th>0</th>\n",
              "      <td>534433</td>\n",
              "      <td>2.0</td>\n",
              "      <td>1500</td>\n",
              "    </tr>\n",
              "    <tr>\n",
              "      <th>1</th>\n",
              "      <td>392333</td>\n",
              "      <td>3.5</td>\n",
              "      <td>2500</td>\n",
              "    </tr>\n",
              "    <tr>\n",
              "      <th>2</th>\n",
              "      <td>293222</td>\n",
              "      <td>2.0</td>\n",
              "      <td>1500</td>\n",
              "    </tr>\n",
              "  </tbody>\n",
              "</table>\n",
              "</div>\n",
              "      <button class=\"colab-df-convert\" onclick=\"convertToInteractive('df-45854927-2a7c-44b8-aa88-9e86c33aa126')\"\n",
              "              title=\"Convert this dataframe to an interactive table.\"\n",
              "              style=\"display:none;\">\n",
              "        \n",
              "  <svg xmlns=\"http://www.w3.org/2000/svg\" height=\"24px\"viewBox=\"0 0 24 24\"\n",
              "       width=\"24px\">\n",
              "    <path d=\"M0 0h24v24H0V0z\" fill=\"none\"/>\n",
              "    <path d=\"M18.56 5.44l.94 2.06.94-2.06 2.06-.94-2.06-.94-.94-2.06-.94 2.06-2.06.94zm-11 1L8.5 8.5l.94-2.06 2.06-.94-2.06-.94L8.5 2.5l-.94 2.06-2.06.94zm10 10l.94 2.06.94-2.06 2.06-.94-2.06-.94-.94-2.06-.94 2.06-2.06.94z\"/><path d=\"M17.41 7.96l-1.37-1.37c-.4-.4-.92-.59-1.43-.59-.52 0-1.04.2-1.43.59L10.3 9.45l-7.72 7.72c-.78.78-.78 2.05 0 2.83L4 21.41c.39.39.9.59 1.41.59.51 0 1.02-.2 1.41-.59l7.78-7.78 2.81-2.81c.8-.78.8-2.07 0-2.86zM5.41 20L4 18.59l7.72-7.72 1.47 1.35L5.41 20z\"/>\n",
              "  </svg>\n",
              "      </button>\n",
              "      \n",
              "  <style>\n",
              "    .colab-df-container {\n",
              "      display:flex;\n",
              "      flex-wrap:wrap;\n",
              "      gap: 12px;\n",
              "    }\n",
              "\n",
              "    .colab-df-convert {\n",
              "      background-color: #E8F0FE;\n",
              "      border: none;\n",
              "      border-radius: 50%;\n",
              "      cursor: pointer;\n",
              "      display: none;\n",
              "      fill: #1967D2;\n",
              "      height: 32px;\n",
              "      padding: 0 0 0 0;\n",
              "      width: 32px;\n",
              "    }\n",
              "\n",
              "    .colab-df-convert:hover {\n",
              "      background-color: #E2EBFA;\n",
              "      box-shadow: 0px 1px 2px rgba(60, 64, 67, 0.3), 0px 1px 3px 1px rgba(60, 64, 67, 0.15);\n",
              "      fill: #174EA6;\n",
              "    }\n",
              "\n",
              "    [theme=dark] .colab-df-convert {\n",
              "      background-color: #3B4455;\n",
              "      fill: #D2E3FC;\n",
              "    }\n",
              "\n",
              "    [theme=dark] .colab-df-convert:hover {\n",
              "      background-color: #434B5C;\n",
              "      box-shadow: 0px 1px 3px 1px rgba(0, 0, 0, 0.15);\n",
              "      filter: drop-shadow(0px 1px 2px rgba(0, 0, 0, 0.3));\n",
              "      fill: #FFFFFF;\n",
              "    }\n",
              "  </style>\n",
              "\n",
              "      <script>\n",
              "        const buttonEl =\n",
              "          document.querySelector('#df-45854927-2a7c-44b8-aa88-9e86c33aa126 button.colab-df-convert');\n",
              "        buttonEl.style.display =\n",
              "          google.colab.kernel.accessAllowed ? 'block' : 'none';\n",
              "\n",
              "        async function convertToInteractive(key) {\n",
              "          const element = document.querySelector('#df-45854927-2a7c-44b8-aa88-9e86c33aa126');\n",
              "          const dataTable =\n",
              "            await google.colab.kernel.invokeFunction('convertToInteractive',\n",
              "                                                     [key], {});\n",
              "          if (!dataTable) return;\n",
              "\n",
              "          const docLinkHtml = 'Like what you see? Visit the ' +\n",
              "            '<a target=\"_blank\" href=https://colab.research.google.com/notebooks/data_table.ipynb>data table notebook</a>'\n",
              "            + ' to learn more about interactive tables.';\n",
              "          element.innerHTML = '';\n",
              "          dataTable['output_type'] = 'display_data';\n",
              "          await google.colab.output.renderOutput(dataTable, element);\n",
              "          const docLink = document.createElement('div');\n",
              "          docLink.innerHTML = docLinkHtml;\n",
              "          element.appendChild(docLink);\n",
              "        }\n",
              "      </script>\n",
              "    </div>\n",
              "  </div>\n",
              "  "
            ]
          },
          "metadata": {},
          "execution_count": 24
        }
      ]
    },
    {
      "cell_type": "markdown",
      "source": [
        "Second, we can mark them as outliers and include it as a feature:"
      ],
      "metadata": {
        "id": "8x2XjX6X1D08"
      }
    },
    {
      "cell_type": "code",
      "source": [
        "# Load library\n",
        "import numpy as np\n",
        "# Create feature based on boolean condition\n",
        "houses[\"Outlier\"] = np.where(houses[\"Bathrooms\"] < 20, 0, 1)\n",
        "# Show data\n",
        "houses"
      ],
      "metadata": {
        "colab": {
          "base_uri": "https://localhost:8080/",
          "height": 175
        },
        "id": "i6c4mpQk1E6M",
        "outputId": "cb638d68-6a48-48e3-afec-ad43f57332bf"
      },
      "execution_count": 25,
      "outputs": [
        {
          "output_type": "execute_result",
          "data": {
            "text/plain": [
              "     Price  Bathrooms  Square_Feet  Outlier\n",
              "0   534433        2.0         1500        0\n",
              "1   392333        3.5         2500        0\n",
              "2   293222        2.0         1500        0\n",
              "3  4322032      116.0        48000        1"
            ],
            "text/html": [
              "\n",
              "  <div id=\"df-a07b6024-78bb-46cb-bb5d-c42ffa778671\">\n",
              "    <div class=\"colab-df-container\">\n",
              "      <div>\n",
              "<style scoped>\n",
              "    .dataframe tbody tr th:only-of-type {\n",
              "        vertical-align: middle;\n",
              "    }\n",
              "\n",
              "    .dataframe tbody tr th {\n",
              "        vertical-align: top;\n",
              "    }\n",
              "\n",
              "    .dataframe thead th {\n",
              "        text-align: right;\n",
              "    }\n",
              "</style>\n",
              "<table border=\"1\" class=\"dataframe\">\n",
              "  <thead>\n",
              "    <tr style=\"text-align: right;\">\n",
              "      <th></th>\n",
              "      <th>Price</th>\n",
              "      <th>Bathrooms</th>\n",
              "      <th>Square_Feet</th>\n",
              "      <th>Outlier</th>\n",
              "    </tr>\n",
              "  </thead>\n",
              "  <tbody>\n",
              "    <tr>\n",
              "      <th>0</th>\n",
              "      <td>534433</td>\n",
              "      <td>2.0</td>\n",
              "      <td>1500</td>\n",
              "      <td>0</td>\n",
              "    </tr>\n",
              "    <tr>\n",
              "      <th>1</th>\n",
              "      <td>392333</td>\n",
              "      <td>3.5</td>\n",
              "      <td>2500</td>\n",
              "      <td>0</td>\n",
              "    </tr>\n",
              "    <tr>\n",
              "      <th>2</th>\n",
              "      <td>293222</td>\n",
              "      <td>2.0</td>\n",
              "      <td>1500</td>\n",
              "      <td>0</td>\n",
              "    </tr>\n",
              "    <tr>\n",
              "      <th>3</th>\n",
              "      <td>4322032</td>\n",
              "      <td>116.0</td>\n",
              "      <td>48000</td>\n",
              "      <td>1</td>\n",
              "    </tr>\n",
              "  </tbody>\n",
              "</table>\n",
              "</div>\n",
              "      <button class=\"colab-df-convert\" onclick=\"convertToInteractive('df-a07b6024-78bb-46cb-bb5d-c42ffa778671')\"\n",
              "              title=\"Convert this dataframe to an interactive table.\"\n",
              "              style=\"display:none;\">\n",
              "        \n",
              "  <svg xmlns=\"http://www.w3.org/2000/svg\" height=\"24px\"viewBox=\"0 0 24 24\"\n",
              "       width=\"24px\">\n",
              "    <path d=\"M0 0h24v24H0V0z\" fill=\"none\"/>\n",
              "    <path d=\"M18.56 5.44l.94 2.06.94-2.06 2.06-.94-2.06-.94-.94-2.06-.94 2.06-2.06.94zm-11 1L8.5 8.5l.94-2.06 2.06-.94-2.06-.94L8.5 2.5l-.94 2.06-2.06.94zm10 10l.94 2.06.94-2.06 2.06-.94-2.06-.94-.94-2.06-.94 2.06-2.06.94z\"/><path d=\"M17.41 7.96l-1.37-1.37c-.4-.4-.92-.59-1.43-.59-.52 0-1.04.2-1.43.59L10.3 9.45l-7.72 7.72c-.78.78-.78 2.05 0 2.83L4 21.41c.39.39.9.59 1.41.59.51 0 1.02-.2 1.41-.59l7.78-7.78 2.81-2.81c.8-.78.8-2.07 0-2.86zM5.41 20L4 18.59l7.72-7.72 1.47 1.35L5.41 20z\"/>\n",
              "  </svg>\n",
              "      </button>\n",
              "      \n",
              "  <style>\n",
              "    .colab-df-container {\n",
              "      display:flex;\n",
              "      flex-wrap:wrap;\n",
              "      gap: 12px;\n",
              "    }\n",
              "\n",
              "    .colab-df-convert {\n",
              "      background-color: #E8F0FE;\n",
              "      border: none;\n",
              "      border-radius: 50%;\n",
              "      cursor: pointer;\n",
              "      display: none;\n",
              "      fill: #1967D2;\n",
              "      height: 32px;\n",
              "      padding: 0 0 0 0;\n",
              "      width: 32px;\n",
              "    }\n",
              "\n",
              "    .colab-df-convert:hover {\n",
              "      background-color: #E2EBFA;\n",
              "      box-shadow: 0px 1px 2px rgba(60, 64, 67, 0.3), 0px 1px 3px 1px rgba(60, 64, 67, 0.15);\n",
              "      fill: #174EA6;\n",
              "    }\n",
              "\n",
              "    [theme=dark] .colab-df-convert {\n",
              "      background-color: #3B4455;\n",
              "      fill: #D2E3FC;\n",
              "    }\n",
              "\n",
              "    [theme=dark] .colab-df-convert:hover {\n",
              "      background-color: #434B5C;\n",
              "      box-shadow: 0px 1px 3px 1px rgba(0, 0, 0, 0.15);\n",
              "      filter: drop-shadow(0px 1px 2px rgba(0, 0, 0, 0.3));\n",
              "      fill: #FFFFFF;\n",
              "    }\n",
              "  </style>\n",
              "\n",
              "      <script>\n",
              "        const buttonEl =\n",
              "          document.querySelector('#df-a07b6024-78bb-46cb-bb5d-c42ffa778671 button.colab-df-convert');\n",
              "        buttonEl.style.display =\n",
              "          google.colab.kernel.accessAllowed ? 'block' : 'none';\n",
              "\n",
              "        async function convertToInteractive(key) {\n",
              "          const element = document.querySelector('#df-a07b6024-78bb-46cb-bb5d-c42ffa778671');\n",
              "          const dataTable =\n",
              "            await google.colab.kernel.invokeFunction('convertToInteractive',\n",
              "                                                     [key], {});\n",
              "          if (!dataTable) return;\n",
              "\n",
              "          const docLinkHtml = 'Like what you see? Visit the ' +\n",
              "            '<a target=\"_blank\" href=https://colab.research.google.com/notebooks/data_table.ipynb>data table notebook</a>'\n",
              "            + ' to learn more about interactive tables.';\n",
              "          element.innerHTML = '';\n",
              "          dataTable['output_type'] = 'display_data';\n",
              "          await google.colab.output.renderOutput(dataTable, element);\n",
              "          const docLink = document.createElement('div');\n",
              "          docLink.innerHTML = docLinkHtml;\n",
              "          element.appendChild(docLink);\n",
              "        }\n",
              "      </script>\n",
              "    </div>\n",
              "  </div>\n",
              "  "
            ]
          },
          "metadata": {},
          "execution_count": 25
        }
      ]
    },
    {
      "cell_type": "markdown",
      "source": [
        "Finally, we can transform the feature to dampen the effect of the outlier:"
      ],
      "metadata": {
        "id": "2NNgEXEI1Rfs"
      }
    },
    {
      "cell_type": "code",
      "source": [
        "# Log feature\n",
        "houses[\"Log_Of_Square_Feet\"] = [np.log(x) for x in houses[\"Square_Feet\"]]\n",
        "# Show data\n",
        "houses"
      ],
      "metadata": {
        "colab": {
          "base_uri": "https://localhost:8080/",
          "height": 175
        },
        "id": "EkU3UIQh1R5z",
        "outputId": "6234755f-e91e-46fb-8ad1-819c020cade0"
      },
      "execution_count": 26,
      "outputs": [
        {
          "output_type": "execute_result",
          "data": {
            "text/plain": [
              "     Price  Bathrooms  Square_Feet  Outlier  Log_Of_Square_Feet\n",
              "0   534433        2.0         1500        0            7.313220\n",
              "1   392333        3.5         2500        0            7.824046\n",
              "2   293222        2.0         1500        0            7.313220\n",
              "3  4322032      116.0        48000        1           10.778956"
            ],
            "text/html": [
              "\n",
              "  <div id=\"df-1366f938-7740-426f-9890-6cdd5a606ec4\">\n",
              "    <div class=\"colab-df-container\">\n",
              "      <div>\n",
              "<style scoped>\n",
              "    .dataframe tbody tr th:only-of-type {\n",
              "        vertical-align: middle;\n",
              "    }\n",
              "\n",
              "    .dataframe tbody tr th {\n",
              "        vertical-align: top;\n",
              "    }\n",
              "\n",
              "    .dataframe thead th {\n",
              "        text-align: right;\n",
              "    }\n",
              "</style>\n",
              "<table border=\"1\" class=\"dataframe\">\n",
              "  <thead>\n",
              "    <tr style=\"text-align: right;\">\n",
              "      <th></th>\n",
              "      <th>Price</th>\n",
              "      <th>Bathrooms</th>\n",
              "      <th>Square_Feet</th>\n",
              "      <th>Outlier</th>\n",
              "      <th>Log_Of_Square_Feet</th>\n",
              "    </tr>\n",
              "  </thead>\n",
              "  <tbody>\n",
              "    <tr>\n",
              "      <th>0</th>\n",
              "      <td>534433</td>\n",
              "      <td>2.0</td>\n",
              "      <td>1500</td>\n",
              "      <td>0</td>\n",
              "      <td>7.313220</td>\n",
              "    </tr>\n",
              "    <tr>\n",
              "      <th>1</th>\n",
              "      <td>392333</td>\n",
              "      <td>3.5</td>\n",
              "      <td>2500</td>\n",
              "      <td>0</td>\n",
              "      <td>7.824046</td>\n",
              "    </tr>\n",
              "    <tr>\n",
              "      <th>2</th>\n",
              "      <td>293222</td>\n",
              "      <td>2.0</td>\n",
              "      <td>1500</td>\n",
              "      <td>0</td>\n",
              "      <td>7.313220</td>\n",
              "    </tr>\n",
              "    <tr>\n",
              "      <th>3</th>\n",
              "      <td>4322032</td>\n",
              "      <td>116.0</td>\n",
              "      <td>48000</td>\n",
              "      <td>1</td>\n",
              "      <td>10.778956</td>\n",
              "    </tr>\n",
              "  </tbody>\n",
              "</table>\n",
              "</div>\n",
              "      <button class=\"colab-df-convert\" onclick=\"convertToInteractive('df-1366f938-7740-426f-9890-6cdd5a606ec4')\"\n",
              "              title=\"Convert this dataframe to an interactive table.\"\n",
              "              style=\"display:none;\">\n",
              "        \n",
              "  <svg xmlns=\"http://www.w3.org/2000/svg\" height=\"24px\"viewBox=\"0 0 24 24\"\n",
              "       width=\"24px\">\n",
              "    <path d=\"M0 0h24v24H0V0z\" fill=\"none\"/>\n",
              "    <path d=\"M18.56 5.44l.94 2.06.94-2.06 2.06-.94-2.06-.94-.94-2.06-.94 2.06-2.06.94zm-11 1L8.5 8.5l.94-2.06 2.06-.94-2.06-.94L8.5 2.5l-.94 2.06-2.06.94zm10 10l.94 2.06.94-2.06 2.06-.94-2.06-.94-.94-2.06-.94 2.06-2.06.94z\"/><path d=\"M17.41 7.96l-1.37-1.37c-.4-.4-.92-.59-1.43-.59-.52 0-1.04.2-1.43.59L10.3 9.45l-7.72 7.72c-.78.78-.78 2.05 0 2.83L4 21.41c.39.39.9.59 1.41.59.51 0 1.02-.2 1.41-.59l7.78-7.78 2.81-2.81c.8-.78.8-2.07 0-2.86zM5.41 20L4 18.59l7.72-7.72 1.47 1.35L5.41 20z\"/>\n",
              "  </svg>\n",
              "      </button>\n",
              "      \n",
              "  <style>\n",
              "    .colab-df-container {\n",
              "      display:flex;\n",
              "      flex-wrap:wrap;\n",
              "      gap: 12px;\n",
              "    }\n",
              "\n",
              "    .colab-df-convert {\n",
              "      background-color: #E8F0FE;\n",
              "      border: none;\n",
              "      border-radius: 50%;\n",
              "      cursor: pointer;\n",
              "      display: none;\n",
              "      fill: #1967D2;\n",
              "      height: 32px;\n",
              "      padding: 0 0 0 0;\n",
              "      width: 32px;\n",
              "    }\n",
              "\n",
              "    .colab-df-convert:hover {\n",
              "      background-color: #E2EBFA;\n",
              "      box-shadow: 0px 1px 2px rgba(60, 64, 67, 0.3), 0px 1px 3px 1px rgba(60, 64, 67, 0.15);\n",
              "      fill: #174EA6;\n",
              "    }\n",
              "\n",
              "    [theme=dark] .colab-df-convert {\n",
              "      background-color: #3B4455;\n",
              "      fill: #D2E3FC;\n",
              "    }\n",
              "\n",
              "    [theme=dark] .colab-df-convert:hover {\n",
              "      background-color: #434B5C;\n",
              "      box-shadow: 0px 1px 3px 1px rgba(0, 0, 0, 0.15);\n",
              "      filter: drop-shadow(0px 1px 2px rgba(0, 0, 0, 0.3));\n",
              "      fill: #FFFFFF;\n",
              "    }\n",
              "  </style>\n",
              "\n",
              "      <script>\n",
              "        const buttonEl =\n",
              "          document.querySelector('#df-1366f938-7740-426f-9890-6cdd5a606ec4 button.colab-df-convert');\n",
              "        buttonEl.style.display =\n",
              "          google.colab.kernel.accessAllowed ? 'block' : 'none';\n",
              "\n",
              "        async function convertToInteractive(key) {\n",
              "          const element = document.querySelector('#df-1366f938-7740-426f-9890-6cdd5a606ec4');\n",
              "          const dataTable =\n",
              "            await google.colab.kernel.invokeFunction('convertToInteractive',\n",
              "                                                     [key], {});\n",
              "          if (!dataTable) return;\n",
              "\n",
              "          const docLinkHtml = 'Like what you see? Visit the ' +\n",
              "            '<a target=\"_blank\" href=https://colab.research.google.com/notebooks/data_table.ipynb>data table notebook</a>'\n",
              "            + ' to learn more about interactive tables.';\n",
              "          element.innerHTML = '';\n",
              "          dataTable['output_type'] = 'display_data';\n",
              "          await google.colab.output.renderOutput(dataTable, element);\n",
              "          const docLink = document.createElement('div');\n",
              "          docLink.innerHTML = docLinkHtml;\n",
              "          element.appendChild(docLink);\n",
              "        }\n",
              "      </script>\n",
              "    </div>\n",
              "  </div>\n",
              "  "
            ]
          },
          "metadata": {},
          "execution_count": 26
        }
      ]
    },
    {
      "cell_type": "markdown",
      "source": [
        "**Discussion**\n",
        "\n",
        "    Similar to detecting outliers, there is no hard-and-fast rule for handling them. How\n",
        "    we handle them should be based on two aspects. First, we should consider what\n",
        "    makes them an outlier. If we believe they are errors in the data such as from a broken\n",
        "    sensor or a miscoded value, then we might drop the observation or replace outlier\n",
        "    values with NaN since we can’t believe those values. However, if we believe the outliers\n",
        "    are genuine extreme values (e.g., a house [mansion] with 200 bathrooms), then mark‐\n",
        "    ing them as outliers or transforming their values is more appropriate.\n",
        "    Second, how we handle outliers should be based on our goal for machine learning.\n",
        "    For example, if we want to predict house prices based on features of the house, we\n",
        "    might reasonably assume the price for mansions with over 100 bathrooms is driven\n",
        "    by a different dynamic than regular family homes. Furthermore, if we are training a\n",
        "    model to use as part of an online home loan web application, we might assume that\n",
        "    our potential users will not include billionaires looking to buy a mansion.\n",
        "    So what should we do if we have outliers? Think about why they are outliers, have an\n",
        "    end goal in mind for the data, and, most importantly, remember that not making a\n",
        "    decision to address outliers is itself a decision with implications.\n",
        "    One additional point: if you do have outliers standardization might not be appropri‐\n",
        "    ate because the mean and variance might be highly influenced by the outliers. In this\n",
        "    case, use a rescaling method more robust against outliers like RobustScaler."
      ],
      "metadata": {
        "id": "uRATIwAH1YrF"
      }
    },
    {
      "cell_type": "markdown",
      "source": [
        "4.8 Discretizating Features"
      ],
      "metadata": {
        "id": "SY00Wn2h1ej7"
      }
    },
    {
      "cell_type": "markdown",
      "source": [
        "You have a numerical feature and want to break it up into discrete bins.\n",
        "\n",
        "Depending on how we want to break up the data, there are two techniques we can\n",
        "use. First, we can binarize the feature according to some threshold:"
      ],
      "metadata": {
        "id": "G8mptgB43mtj"
      }
    },
    {
      "cell_type": "code",
      "source": [
        "# Load libraries\n",
        "import numpy as np\n",
        "from sklearn.preprocessing import Binarizer\n",
        "# Create feature\n",
        "age = np.array([[6],\n",
        "                [12],\n",
        "                [20],\n",
        "                [36],\n",
        "                [65]])\n",
        "# Create binarizer\n",
        "binarizer = preprocessing.Binarizer(threshold=18)\n",
        "# Transform feature\n",
        "binarizer.fit_transform(age)"
      ],
      "metadata": {
        "colab": {
          "base_uri": "https://localhost:8080/"
        },
        "id": "5xy5PW9Y1d71",
        "outputId": "a33eab1c-5eb9-4442-b674-3a2af414b95e"
      },
      "execution_count": 46,
      "outputs": [
        {
          "output_type": "execute_result",
          "data": {
            "text/plain": [
              "array([[0],\n",
              "       [0],\n",
              "       [1],\n",
              "       [1],\n",
              "       [1]])"
            ]
          },
          "metadata": {},
          "execution_count": 46
        }
      ]
    },
    {
      "cell_type": "markdown",
      "source": [
        "Second, we can break up numerical features according to multiple thresholds:"
      ],
      "metadata": {
        "id": "9y-KzBWg3pJN"
      }
    },
    {
      "cell_type": "code",
      "source": [
        "# Bin feature\n",
        "np.digitize(age, bins=[20,30,64])"
      ],
      "metadata": {
        "colab": {
          "base_uri": "https://localhost:8080/"
        },
        "id": "4-3PYWjU3jfx",
        "outputId": "dedd20a2-7e08-4792-83b3-74708abcb1d3"
      },
      "execution_count": 47,
      "outputs": [
        {
          "output_type": "execute_result",
          "data": {
            "text/plain": [
              "array([[0],\n",
              "       [0],\n",
              "       [1],\n",
              "       [2],\n",
              "       [3]])"
            ]
          },
          "metadata": {},
          "execution_count": 47
        }
      ]
    },
    {
      "cell_type": "markdown",
      "source": [
        "Note that the arguments for the bins parameter denote the left edge of each bin. For\n",
        "example, the 20 argument does not include the element with the value of 20, only the\n",
        "two values smaller than 20. We can switch this behavior by setting the parameter\n",
        "right to True:"
      ],
      "metadata": {
        "id": "wVLs3es03rt3"
      }
    },
    {
      "cell_type": "code",
      "source": [
        "# Bin feature\n",
        "np.digitize(age, bins=[20,30,64], right=True)"
      ],
      "metadata": {
        "colab": {
          "base_uri": "https://localhost:8080/"
        },
        "id": "HVYfFl9O3u1H",
        "outputId": "69b38da9-fc6f-49b3-ef04-6c699e617531"
      },
      "execution_count": 48,
      "outputs": [
        {
          "output_type": "execute_result",
          "data": {
            "text/plain": [
              "array([[0],\n",
              "       [0],\n",
              "       [0],\n",
              "       [2],\n",
              "       [3]])"
            ]
          },
          "metadata": {},
          "execution_count": 48
        }
      ]
    },
    {
      "cell_type": "markdown",
      "source": [
        "**Discussion**\n",
        "\n",
        "    Discretization can be a fruitful strategy when we have reason to believe that a numeri‐\n",
        "    cal feature should behave more like a categorical feature. For example, we might\n",
        "    believe there is very little difference in the spending habits of 19- and 20-year-olds,\n",
        "    but a significant difference between 20- and 21-year-olds (the age in the United States\n",
        "    when young adults can consume alcohol). In that example, it could be useful to break\n",
        "    up individuals in our data into those who can drink alcohol and those who cannot.\n",
        "    Similarly, in other cases it might be useful to discretize our data into three or more\n",
        "    bins.\n",
        "    In the solution, we saw two methods of discretization—scikit-learn’s Binarizer for\n",
        "    two bins and NumPy’s digitize for three or more bins—however, we can also use\n",
        "    digitize to binarize features like Binarizer by only specifying a single threshold:"
      ],
      "metadata": {
        "id": "TRmt5e3q34jL"
      }
    },
    {
      "cell_type": "code",
      "source": [
        "# Bin feature\n",
        "np.digitize(age, bins=[18])"
      ],
      "metadata": {
        "colab": {
          "base_uri": "https://localhost:8080/"
        },
        "id": "DKutuhe133Si",
        "outputId": "0ca92f04-c988-41d5-d50a-52e69ab1311a"
      },
      "execution_count": 49,
      "outputs": [
        {
          "output_type": "execute_result",
          "data": {
            "text/plain": [
              "array([[0],\n",
              "       [0],\n",
              "       [1],\n",
              "       [1],\n",
              "       [1]])"
            ]
          },
          "metadata": {},
          "execution_count": 49
        }
      ]
    },
    {
      "cell_type": "markdown",
      "source": [
        "# 4.9 Grouping Observations Using Clustering (Phân cụm)"
      ],
      "metadata": {
        "id": "7BzLz7hA4ETd"
      }
    },
    {
      "cell_type": "markdown",
      "source": [
        "You want to cluster observations so that similar observations are grouped together\n",
        "\n",
        "If you know that you have k groups, you can use k-means clustering to group similar\n",
        "observations and output a new feature containing each observation’s group member‐\n",
        "ship:"
      ],
      "metadata": {
        "id": "IJCH19xi4JR7"
      }
    },
    {
      "cell_type": "code",
      "source": [
        "# Load libraries\n",
        "import pandas as pd\n",
        "from sklearn.datasets import make_blobs\n",
        "from sklearn.cluster import KMeans\n",
        "# Make simulated feature matrix\n",
        "features, _ = make_blobs(n_samples = 50,\n",
        " n_features = 2,\n",
        " centers = 3,\n",
        " random_state = 1)\n",
        "# Create DataFrame\n",
        "dataframe = pd.DataFrame(features, columns=[\"feature_1\", \"feature_2\"])\n",
        "# Make k-means clusterer\n",
        "clusterer = KMeans(3, random_state=0)\n",
        "# Fit clusterer\n",
        "clusterer.fit(features)\n",
        "# Predict values\n",
        "dataframe[\"group\"] = clusterer.predict(features)\n",
        "# View first few observations\n",
        "dataframe.head(5)"
      ],
      "metadata": {
        "colab": {
          "base_uri": "https://localhost:8080/",
          "height": 261
        },
        "id": "V3_tFYi94Drx",
        "outputId": "16cce77e-0e85-4cf3-e133-48bac2e62e42"
      },
      "execution_count": 50,
      "outputs": [
        {
          "output_type": "stream",
          "name": "stderr",
          "text": [
            "/usr/local/lib/python3.9/dist-packages/sklearn/cluster/_kmeans.py:870: FutureWarning: The default value of `n_init` will change from 10 to 'auto' in 1.4. Set the value of `n_init` explicitly to suppress the warning\n",
            "  warnings.warn(\n"
          ]
        },
        {
          "output_type": "execute_result",
          "data": {
            "text/plain": [
              "   feature_1  feature_2  group\n",
              "0  -9.877554  -3.336145      0\n",
              "1  -7.287210  -8.353986      2\n",
              "2  -6.943061  -7.023744      2\n",
              "3  -7.440167  -8.791959      2\n",
              "4  -6.641388  -8.075888      2"
            ],
            "text/html": [
              "\n",
              "  <div id=\"df-89c96f86-0166-4860-85fb-4b2342e98632\">\n",
              "    <div class=\"colab-df-container\">\n",
              "      <div>\n",
              "<style scoped>\n",
              "    .dataframe tbody tr th:only-of-type {\n",
              "        vertical-align: middle;\n",
              "    }\n",
              "\n",
              "    .dataframe tbody tr th {\n",
              "        vertical-align: top;\n",
              "    }\n",
              "\n",
              "    .dataframe thead th {\n",
              "        text-align: right;\n",
              "    }\n",
              "</style>\n",
              "<table border=\"1\" class=\"dataframe\">\n",
              "  <thead>\n",
              "    <tr style=\"text-align: right;\">\n",
              "      <th></th>\n",
              "      <th>feature_1</th>\n",
              "      <th>feature_2</th>\n",
              "      <th>group</th>\n",
              "    </tr>\n",
              "  </thead>\n",
              "  <tbody>\n",
              "    <tr>\n",
              "      <th>0</th>\n",
              "      <td>-9.877554</td>\n",
              "      <td>-3.336145</td>\n",
              "      <td>0</td>\n",
              "    </tr>\n",
              "    <tr>\n",
              "      <th>1</th>\n",
              "      <td>-7.287210</td>\n",
              "      <td>-8.353986</td>\n",
              "      <td>2</td>\n",
              "    </tr>\n",
              "    <tr>\n",
              "      <th>2</th>\n",
              "      <td>-6.943061</td>\n",
              "      <td>-7.023744</td>\n",
              "      <td>2</td>\n",
              "    </tr>\n",
              "    <tr>\n",
              "      <th>3</th>\n",
              "      <td>-7.440167</td>\n",
              "      <td>-8.791959</td>\n",
              "      <td>2</td>\n",
              "    </tr>\n",
              "    <tr>\n",
              "      <th>4</th>\n",
              "      <td>-6.641388</td>\n",
              "      <td>-8.075888</td>\n",
              "      <td>2</td>\n",
              "    </tr>\n",
              "  </tbody>\n",
              "</table>\n",
              "</div>\n",
              "      <button class=\"colab-df-convert\" onclick=\"convertToInteractive('df-89c96f86-0166-4860-85fb-4b2342e98632')\"\n",
              "              title=\"Convert this dataframe to an interactive table.\"\n",
              "              style=\"display:none;\">\n",
              "        \n",
              "  <svg xmlns=\"http://www.w3.org/2000/svg\" height=\"24px\"viewBox=\"0 0 24 24\"\n",
              "       width=\"24px\">\n",
              "    <path d=\"M0 0h24v24H0V0z\" fill=\"none\"/>\n",
              "    <path d=\"M18.56 5.44l.94 2.06.94-2.06 2.06-.94-2.06-.94-.94-2.06-.94 2.06-2.06.94zm-11 1L8.5 8.5l.94-2.06 2.06-.94-2.06-.94L8.5 2.5l-.94 2.06-2.06.94zm10 10l.94 2.06.94-2.06 2.06-.94-2.06-.94-.94-2.06-.94 2.06-2.06.94z\"/><path d=\"M17.41 7.96l-1.37-1.37c-.4-.4-.92-.59-1.43-.59-.52 0-1.04.2-1.43.59L10.3 9.45l-7.72 7.72c-.78.78-.78 2.05 0 2.83L4 21.41c.39.39.9.59 1.41.59.51 0 1.02-.2 1.41-.59l7.78-7.78 2.81-2.81c.8-.78.8-2.07 0-2.86zM5.41 20L4 18.59l7.72-7.72 1.47 1.35L5.41 20z\"/>\n",
              "  </svg>\n",
              "      </button>\n",
              "      \n",
              "  <style>\n",
              "    .colab-df-container {\n",
              "      display:flex;\n",
              "      flex-wrap:wrap;\n",
              "      gap: 12px;\n",
              "    }\n",
              "\n",
              "    .colab-df-convert {\n",
              "      background-color: #E8F0FE;\n",
              "      border: none;\n",
              "      border-radius: 50%;\n",
              "      cursor: pointer;\n",
              "      display: none;\n",
              "      fill: #1967D2;\n",
              "      height: 32px;\n",
              "      padding: 0 0 0 0;\n",
              "      width: 32px;\n",
              "    }\n",
              "\n",
              "    .colab-df-convert:hover {\n",
              "      background-color: #E2EBFA;\n",
              "      box-shadow: 0px 1px 2px rgba(60, 64, 67, 0.3), 0px 1px 3px 1px rgba(60, 64, 67, 0.15);\n",
              "      fill: #174EA6;\n",
              "    }\n",
              "\n",
              "    [theme=dark] .colab-df-convert {\n",
              "      background-color: #3B4455;\n",
              "      fill: #D2E3FC;\n",
              "    }\n",
              "\n",
              "    [theme=dark] .colab-df-convert:hover {\n",
              "      background-color: #434B5C;\n",
              "      box-shadow: 0px 1px 3px 1px rgba(0, 0, 0, 0.15);\n",
              "      filter: drop-shadow(0px 1px 2px rgba(0, 0, 0, 0.3));\n",
              "      fill: #FFFFFF;\n",
              "    }\n",
              "  </style>\n",
              "\n",
              "      <script>\n",
              "        const buttonEl =\n",
              "          document.querySelector('#df-89c96f86-0166-4860-85fb-4b2342e98632 button.colab-df-convert');\n",
              "        buttonEl.style.display =\n",
              "          google.colab.kernel.accessAllowed ? 'block' : 'none';\n",
              "\n",
              "        async function convertToInteractive(key) {\n",
              "          const element = document.querySelector('#df-89c96f86-0166-4860-85fb-4b2342e98632');\n",
              "          const dataTable =\n",
              "            await google.colab.kernel.invokeFunction('convertToInteractive',\n",
              "                                                     [key], {});\n",
              "          if (!dataTable) return;\n",
              "\n",
              "          const docLinkHtml = 'Like what you see? Visit the ' +\n",
              "            '<a target=\"_blank\" href=https://colab.research.google.com/notebooks/data_table.ipynb>data table notebook</a>'\n",
              "            + ' to learn more about interactive tables.';\n",
              "          element.innerHTML = '';\n",
              "          dataTable['output_type'] = 'display_data';\n",
              "          await google.colab.output.renderOutput(dataTable, element);\n",
              "          const docLink = document.createElement('div');\n",
              "          docLink.innerHTML = docLinkHtml;\n",
              "          element.appendChild(docLink);\n",
              "        }\n",
              "      </script>\n",
              "    </div>\n",
              "  </div>\n",
              "  "
            ]
          },
          "metadata": {},
          "execution_count": 50
        }
      ]
    },
    {
      "cell_type": "markdown",
      "source": [
        "# 4.10 Deleting Observations with Missing Values (Giá trị bị thiếu)"
      ],
      "metadata": {
        "id": "feSA2Ugz4aEy"
      }
    },
    {
      "cell_type": "markdown",
      "source": [
        "You need to delete observations containing missing values.\n",
        "\n",
        "Deleting observations with missing values is easy with a clever line of NumPy:"
      ],
      "metadata": {
        "id": "7CkjEOd64b8b"
      }
    },
    {
      "cell_type": "code",
      "source": [
        "# Load library\n",
        "import numpy as np\n",
        "# Create feature matrix\n",
        "features = np.array([[1.1, 11.1],\n",
        " [2.2, 22.2],\n",
        " [3.3, 33.3],\n",
        " [4.4, 44.4],\n",
        " [np.nan, 55]])\n",
        "# Keep only observations that are not (denoted by ~) missing\n",
        "features[~np.isnan(features).any(axis=1)]"
      ],
      "metadata": {
        "colab": {
          "base_uri": "https://localhost:8080/"
        },
        "id": "N7czily14YjT",
        "outputId": "b22a50d0-238f-4499-cc6c-93230bf8f019"
      },
      "execution_count": 51,
      "outputs": [
        {
          "output_type": "execute_result",
          "data": {
            "text/plain": [
              "array([[ 1.1, 11.1],\n",
              "       [ 2.2, 22.2],\n",
              "       [ 3.3, 33.3],\n",
              "       [ 4.4, 44.4]])"
            ]
          },
          "metadata": {},
          "execution_count": 51
        }
      ]
    },
    {
      "cell_type": "markdown",
      "source": [
        "Alternatively, we can drop missing observations using pandas:"
      ],
      "metadata": {
        "id": "HmZ7a-Ip4gZ6"
      }
    },
    {
      "cell_type": "code",
      "source": [
        "# Load library\n",
        "import pandas as pd\n",
        "# Load data\n",
        "dataframe = pd.DataFrame(features, columns=[\"feature_1\", \"feature_2\"])\n",
        "# Remove observations with missing values\n",
        "dataframe.dropna()"
      ],
      "metadata": {
        "colab": {
          "base_uri": "https://localhost:8080/",
          "height": 175
        },
        "id": "5lT6tKNv4iLH",
        "outputId": "9b67b051-b372-4b1c-a07d-2a3cb8b7aaf5"
      },
      "execution_count": 53,
      "outputs": [
        {
          "output_type": "execute_result",
          "data": {
            "text/plain": [
              "   feature_1  feature_2\n",
              "0        1.1       11.1\n",
              "1        2.2       22.2\n",
              "2        3.3       33.3\n",
              "3        4.4       44.4"
            ],
            "text/html": [
              "\n",
              "  <div id=\"df-b508deaf-9722-4273-81e7-97d059eec50d\">\n",
              "    <div class=\"colab-df-container\">\n",
              "      <div>\n",
              "<style scoped>\n",
              "    .dataframe tbody tr th:only-of-type {\n",
              "        vertical-align: middle;\n",
              "    }\n",
              "\n",
              "    .dataframe tbody tr th {\n",
              "        vertical-align: top;\n",
              "    }\n",
              "\n",
              "    .dataframe thead th {\n",
              "        text-align: right;\n",
              "    }\n",
              "</style>\n",
              "<table border=\"1\" class=\"dataframe\">\n",
              "  <thead>\n",
              "    <tr style=\"text-align: right;\">\n",
              "      <th></th>\n",
              "      <th>feature_1</th>\n",
              "      <th>feature_2</th>\n",
              "    </tr>\n",
              "  </thead>\n",
              "  <tbody>\n",
              "    <tr>\n",
              "      <th>0</th>\n",
              "      <td>1.1</td>\n",
              "      <td>11.1</td>\n",
              "    </tr>\n",
              "    <tr>\n",
              "      <th>1</th>\n",
              "      <td>2.2</td>\n",
              "      <td>22.2</td>\n",
              "    </tr>\n",
              "    <tr>\n",
              "      <th>2</th>\n",
              "      <td>3.3</td>\n",
              "      <td>33.3</td>\n",
              "    </tr>\n",
              "    <tr>\n",
              "      <th>3</th>\n",
              "      <td>4.4</td>\n",
              "      <td>44.4</td>\n",
              "    </tr>\n",
              "  </tbody>\n",
              "</table>\n",
              "</div>\n",
              "      <button class=\"colab-df-convert\" onclick=\"convertToInteractive('df-b508deaf-9722-4273-81e7-97d059eec50d')\"\n",
              "              title=\"Convert this dataframe to an interactive table.\"\n",
              "              style=\"display:none;\">\n",
              "        \n",
              "  <svg xmlns=\"http://www.w3.org/2000/svg\" height=\"24px\"viewBox=\"0 0 24 24\"\n",
              "       width=\"24px\">\n",
              "    <path d=\"M0 0h24v24H0V0z\" fill=\"none\"/>\n",
              "    <path d=\"M18.56 5.44l.94 2.06.94-2.06 2.06-.94-2.06-.94-.94-2.06-.94 2.06-2.06.94zm-11 1L8.5 8.5l.94-2.06 2.06-.94-2.06-.94L8.5 2.5l-.94 2.06-2.06.94zm10 10l.94 2.06.94-2.06 2.06-.94-2.06-.94-.94-2.06-.94 2.06-2.06.94z\"/><path d=\"M17.41 7.96l-1.37-1.37c-.4-.4-.92-.59-1.43-.59-.52 0-1.04.2-1.43.59L10.3 9.45l-7.72 7.72c-.78.78-.78 2.05 0 2.83L4 21.41c.39.39.9.59 1.41.59.51 0 1.02-.2 1.41-.59l7.78-7.78 2.81-2.81c.8-.78.8-2.07 0-2.86zM5.41 20L4 18.59l7.72-7.72 1.47 1.35L5.41 20z\"/>\n",
              "  </svg>\n",
              "      </button>\n",
              "      \n",
              "  <style>\n",
              "    .colab-df-container {\n",
              "      display:flex;\n",
              "      flex-wrap:wrap;\n",
              "      gap: 12px;\n",
              "    }\n",
              "\n",
              "    .colab-df-convert {\n",
              "      background-color: #E8F0FE;\n",
              "      border: none;\n",
              "      border-radius: 50%;\n",
              "      cursor: pointer;\n",
              "      display: none;\n",
              "      fill: #1967D2;\n",
              "      height: 32px;\n",
              "      padding: 0 0 0 0;\n",
              "      width: 32px;\n",
              "    }\n",
              "\n",
              "    .colab-df-convert:hover {\n",
              "      background-color: #E2EBFA;\n",
              "      box-shadow: 0px 1px 2px rgba(60, 64, 67, 0.3), 0px 1px 3px 1px rgba(60, 64, 67, 0.15);\n",
              "      fill: #174EA6;\n",
              "    }\n",
              "\n",
              "    [theme=dark] .colab-df-convert {\n",
              "      background-color: #3B4455;\n",
              "      fill: #D2E3FC;\n",
              "    }\n",
              "\n",
              "    [theme=dark] .colab-df-convert:hover {\n",
              "      background-color: #434B5C;\n",
              "      box-shadow: 0px 1px 3px 1px rgba(0, 0, 0, 0.15);\n",
              "      filter: drop-shadow(0px 1px 2px rgba(0, 0, 0, 0.3));\n",
              "      fill: #FFFFFF;\n",
              "    }\n",
              "  </style>\n",
              "\n",
              "      <script>\n",
              "        const buttonEl =\n",
              "          document.querySelector('#df-b508deaf-9722-4273-81e7-97d059eec50d button.colab-df-convert');\n",
              "        buttonEl.style.display =\n",
              "          google.colab.kernel.accessAllowed ? 'block' : 'none';\n",
              "\n",
              "        async function convertToInteractive(key) {\n",
              "          const element = document.querySelector('#df-b508deaf-9722-4273-81e7-97d059eec50d');\n",
              "          const dataTable =\n",
              "            await google.colab.kernel.invokeFunction('convertToInteractive',\n",
              "                                                     [key], {});\n",
              "          if (!dataTable) return;\n",
              "\n",
              "          const docLinkHtml = 'Like what you see? Visit the ' +\n",
              "            '<a target=\"_blank\" href=https://colab.research.google.com/notebooks/data_table.ipynb>data table notebook</a>'\n",
              "            + ' to learn more about interactive tables.';\n",
              "          element.innerHTML = '';\n",
              "          dataTable['output_type'] = 'display_data';\n",
              "          await google.colab.output.renderOutput(dataTable, element);\n",
              "          const docLink = document.createElement('div');\n",
              "          docLink.innerHTML = docLinkHtml;\n",
              "          element.appendChild(docLink);\n",
              "        }\n",
              "      </script>\n",
              "    </div>\n",
              "  </div>\n",
              "  "
            ]
          },
          "metadata": {},
          "execution_count": 53
        }
      ]
    },
    {
      "cell_type": "markdown",
      "source": [
        "    Missing Completely At Random (MCAR)\n",
        "    The probability that a value is missing is independent of everything. For example,\n",
        "    a survey respondent rolls a die before answering a question: if she rolls a six, she\n",
        "    skips that question.\n",
        "\n",
        "    Missing At Random (MAR)\n",
        "    The probability that a value is missing is not completely random, but depends on\n",
        "    the information captured in other features. For example, a survey asks about gen‐\n",
        "    der identity and annual salary and women are more likely to skip the salary ques‐\n",
        "    tion; however, their nonresponse depends only on information we have captured\n",
        "    in our gender identity feature.\n",
        "    \n",
        "    Missing Not At Random (MNAR)\n",
        "    The probability that a value is missing is not random and depends on informa‐\n",
        "    tion not captured in our features. For example, a survey asks about gender iden‐\n",
        "    tity and women are more likely to skip the salary question, and we do not have a\n",
        "    gender identity feature in our data."
      ],
      "metadata": {
        "id": "O2GiEkjT428q"
      }
    },
    {
      "cell_type": "markdown",
      "source": [
        "# 4.11 Imputing Missing Values"
      ],
      "metadata": {
        "id": "bet_NgwP49dS"
      }
    },
    {
      "cell_type": "markdown",
      "source": [
        "You have missing values in your data and want to fill in or predict their values.\n",
        "\n",
        "If you have a small amount of data, predict the missing values using k-nearest neigh‐\n",
        "bors (KNN):"
      ],
      "metadata": {
        "id": "eZ0lcXU24_xk"
      }
    },
    {
      "cell_type": "code",
      "source": [
        "pip install tensorflow"
      ],
      "metadata": {
        "id": "16-ZnCAK5WdJ"
      },
      "execution_count": null,
      "outputs": []
    },
    {
      "cell_type": "code",
      "source": [
        "pip install scipy"
      ],
      "metadata": {
        "id": "il-e37Lr5p62"
      },
      "execution_count": null,
      "outputs": []
    },
    {
      "cell_type": "code",
      "source": [
        "pip install fancyimpute"
      ],
      "metadata": {
        "id": "QYVCG0j155rd"
      },
      "execution_count": null,
      "outputs": []
    },
    {
      "cell_type": "code",
      "source": [
        "# Load libraries\n",
        "import numpy as np\n",
        "from fancyimpute import KNN\n",
        "from sklearn.preprocessing import StandardScaler\n",
        "from sklearn.datasets import make_blobs\n",
        "# Make a simulated feature matrix\n",
        "features, _ = make_blobs(n_samples = 1000,\n",
        " n_features = 2,\n",
        " random_state = 1)\n",
        "# Standardize the features\n",
        "scaler = StandardScaler()\n",
        "standardized_features = scaler.fit_transform(features)\n",
        "# Replace the first feature's first value with a missing value\n",
        "true_value = standardized_features[0,0]\n",
        "standardized_features[0,0] = np.nan\n",
        "# Predict the missing values in the feature matrix\n",
        "features_knn_imputed = KNN(k=5, verbose=0).fit_transform(standardized_features)\n",
        "# Compare true and imputed values\n",
        "print(\"True Value:\", true_value)\n",
        "print(\"Imputed Value:\", features_knn_imputed[0,0])"
      ],
      "metadata": {
        "colab": {
          "base_uri": "https://localhost:8080/"
        },
        "id": "7zU3g0ba5C1o",
        "outputId": "e00e9dca-255d-49e6-c3a8-be086d94395c"
      },
      "execution_count": 66,
      "outputs": [
        {
          "output_type": "stream",
          "name": "stdout",
          "text": [
            "True Value: 0.8730186113995938\n",
            "Imputed Value: 1.0955332713113226\n"
          ]
        }
      ]
    },
    {
      "cell_type": "code",
      "source": [
        "# Load library\n",
        "#from sklearn.preprocessing import Imputer\n",
        "from sklearn.impute import SimpleImputer\n",
        "\n",
        "# Create imputer\n",
        "mean_imputer = SimpleImputer(strategy=\"mean\")\n",
        "features_mean_imputed = mean_imputer.fit_transform(features)\n",
        "# Compare true and imputed values\n",
        "print(\"True Value:\", true_value)\n",
        "print(\"Imputed Value:\", features_mean_imputed[0,0])"
      ],
      "metadata": {
        "colab": {
          "base_uri": "https://localhost:8080/"
        },
        "id": "5bfViQfZ7Qm3",
        "outputId": "511c1f58-bc5e-4637-c87a-9cdbdc54f2b9"
      },
      "execution_count": 74,
      "outputs": [
        {
          "output_type": "stream",
          "name": "stdout",
          "text": [
            "True Value: 0.8730186113995938\n",
            "Imputed Value: -3.058372724614996\n"
          ]
        }
      ]
    }
  ]
}