{
  "nbformat": 4,
  "nbformat_minor": 0,
  "metadata": {
    "colab": {
      "provenance": [],
      "collapsed_sections": [
        "mYll3Sdq0AT5",
        "gxZO4Yt61r6d",
        "kITxZgw50r5r",
        "jNLKBrTF2RqO",
        "wYjWll1Q2pD8",
        "XRz62iPm3J4z",
        "1kOeZ8E63gVa",
        "ET0MpvAh3soI",
        "iaj6u6BV35LK",
        "zZxZ3Qxm4KcK",
        "1jgjkuPS4T3S",
        "zLymxrCo5Y5c",
        "NiDQSWUI5pw7",
        "z_1ZxRy36DTx",
        "Y6cidGEH6XjE",
        "l2P_2MQz6pGl",
        "pVr4k6ooCS3y"
      ],
      "authorship_tag": "ABX9TyMRoTUsXBHSh3kv9a+MFXev",
      "include_colab_link": true
    },
    "kernelspec": {
      "name": "python3",
      "display_name": "Python 3"
    },
    "language_info": {
      "name": "python"
    }
  },
  "cells": [
    {
      "cell_type": "markdown",
      "metadata": {
        "id": "view-in-github",
        "colab_type": "text"
      },
      "source": [
        "<a href=\"https://colab.research.google.com/github/BlackCode20146231/Machine-Learning/blob/main/CHAPTER_11_Model_Evaluation.ipynb\" target=\"_parent\"><img src=\"https://colab.research.google.com/assets/colab-badge.svg\" alt=\"Open In Colab\"/></a>"
      ]
    },
    {
      "cell_type": "markdown",
      "source": [
        "# CHAPTER 11 Model Evaluation"
      ],
      "metadata": {
        "id": "4zpTJ-TVz3FY"
      }
    },
    {
      "cell_type": "markdown",
      "source": [
        "# 11.1 Cross-Validating Models"
      ],
      "metadata": {
        "id": "mYll3Sdq0AT5"
      }
    },
    {
      "cell_type": "code",
      "source": [
        "# Load libraries\n",
        "from sklearn import datasets\n",
        "from sklearn import metrics\n",
        "from sklearn.model_selection import KFold, cross_val_score\n",
        "from sklearn.pipeline import make_pipeline\n",
        "from sklearn.linear_model import LogisticRegression\n",
        "from sklearn.preprocessing import StandardScaler\n"
      ],
      "metadata": {
        "id": "BctziY5N0ExW"
      },
      "execution_count": null,
      "outputs": []
    },
    {
      "cell_type": "code",
      "source": [
        "# Load digits dataset\n",
        "digits = datasets.load_digits()\n",
        "# Create features matrix\n",
        "features = digits.data\n",
        "# Create target vector\n",
        "target = digits.target\n",
        "# Create standardizer\n",
        "standardizer = StandardScaler()\n",
        "# Create logistic regression object\n",
        "logit = LogisticRegression()\n",
        "# Create a pipeline that standardizes, then runs logistic regression\n",
        "pipeline = make_pipeline(standardizer, logit)\n",
        "# Create k-Fold cross-validation\n",
        "kf = KFold(n_splits=10, shuffle=True, random_state=1)\n",
        "# Conduct k-fold cross-validation\n",
        "cv_results = cross_val_score(pipeline, # Pipeline\n",
        " features, # Feature matrix\n",
        "target, # Target vector\n",
        "cv=kf, # Cross-validation technique\n",
        " scoring=\"accuracy\", # Loss function\n",
        " n_jobs=-1) # Use all CPU scores\n",
        "# Calculate mean\n",
        "cv_results.mean()"
      ],
      "metadata": {
        "colab": {
          "base_uri": "https://localhost:8080/"
        },
        "id": "pEYylpSh0I9q",
        "outputId": "6b162ba3-aa04-468d-8392-2cd4006fcf53"
      },
      "execution_count": null,
      "outputs": [
        {
          "output_type": "execute_result",
          "data": {
            "text/plain": [
              "0.9693916821849783"
            ]
          },
          "metadata": {},
          "execution_count": 5
        }
      ]
    },
    {
      "cell_type": "markdown",
      "source": [
        "**Discussion**"
      ],
      "metadata": {
        "id": "gxZO4Yt61r6d"
      }
    },
    {
      "cell_type": "code",
      "source": [
        "# View score for all 10 folds\n",
        "cv_results"
      ],
      "metadata": {
        "colab": {
          "base_uri": "https://localhost:8080/"
        },
        "id": "o9UuEjZ80THx",
        "outputId": "86b5706c-0b5d-464c-a904-cf54d31bcbf4"
      },
      "execution_count": null,
      "outputs": [
        {
          "output_type": "execute_result",
          "data": {
            "text/plain": [
              "array([0.97777778, 0.98888889, 0.96111111, 0.94444444, 0.97777778,\n",
              "       0.98333333, 0.95555556, 0.98882682, 0.97765363, 0.93854749])"
            ]
          },
          "metadata": {},
          "execution_count": 6
        }
      ]
    },
    {
      "cell_type": "code",
      "source": [
        "# Import library\n",
        "from sklearn.model_selection import train_test_split\n",
        "# Create training and test sets\n",
        "features_train, features_test, target_train, target_test = train_test_split(\n",
        " features, target, test_size=0.1, random_state=1)\n",
        "# Fit standardizer to training set\n",
        "standardizer.fit(features_train)\n",
        "# Apply to both training and test sets\n",
        "features_train_std = standardizer.transform(features_train)\n",
        "features_test_std = standardizer.transform(features_test)\n",
        "\n",
        "# Create a pipeline\n",
        "pipeline = make_pipeline(standardizer, logit)\n",
        "\n",
        "# Do k-fold cross-validation\n",
        "cv_results = cross_val_score(pipeline, # Pipeline\n",
        " features, # Feature matrix\n",
        "target, # Target vector\n",
        "cv=kf, # Cross-validation technique\n",
        " scoring=\"accuracy\", # Loss function\n",
        " n_jobs=-1) # Use all CPU scores\n"
      ],
      "metadata": {
        "id": "B4I_bRTn0UvU"
      },
      "execution_count": null,
      "outputs": []
    },
    {
      "cell_type": "markdown",
      "source": [
        "# 11.2 Creating a Baseline Regression Model"
      ],
      "metadata": {
        "id": "kITxZgw50r5r"
      }
    },
    {
      "cell_type": "code",
      "source": [
        "pip install scikit-learn==1.1.3"
      ],
      "metadata": {
        "colab": {
          "base_uri": "https://localhost:8080/"
        },
        "id": "MS2CzUMx01SS",
        "outputId": "8b906cba-bb04-40ad-90d9-f31400003196"
      },
      "execution_count": null,
      "outputs": [
        {
          "output_type": "stream",
          "name": "stdout",
          "text": [
            "Looking in indexes: https://pypi.org/simple, https://us-python.pkg.dev/colab-wheels/public/simple/\n",
            "Requirement already satisfied: scikit-learn==1.1.3 in /usr/local/lib/python3.9/dist-packages (1.1.3)\n",
            "Requirement already satisfied: joblib>=1.0.0 in /usr/local/lib/python3.9/dist-packages (from scikit-learn==1.1.3) (1.2.0)\n",
            "Requirement already satisfied: threadpoolctl>=2.0.0 in /usr/local/lib/python3.9/dist-packages (from scikit-learn==1.1.3) (3.1.0)\n",
            "Requirement already satisfied: numpy>=1.17.3 in /usr/local/lib/python3.9/dist-packages (from scikit-learn==1.1.3) (1.22.4)\n",
            "Requirement already satisfied: scipy>=1.3.2 in /usr/local/lib/python3.9/dist-packages (from scikit-learn==1.1.3) (1.10.1)\n"
          ]
        }
      ]
    },
    {
      "cell_type": "code",
      "source": [
        "# You want a simple baseline regression model to compare against your model.\n",
        "# Use scikit-learn’s DummyRegressor to create a simple model to use as a baseline:\n",
        "\n",
        "# Load libraries\n",
        "from sklearn.datasets import load_boston\n",
        "from sklearn.dummy import DummyRegressor\n",
        "from sklearn.model_selection import train_test_split\n",
        "# Load data\n",
        "boston = load_boston()\n",
        "# Create features\n",
        "features, target = boston.data, boston.target\n",
        "# Make test and training split\n",
        "features_train, features_test, target_train, target_test = train_test_split(\n",
        " features, target, random_state=0)\n",
        "# Create a dummy regressor\n",
        "dummy = DummyRegressor(strategy='mean')\n",
        "# \"Train\" dummy regressor\n",
        "dummy.fit(features_train, target_train)\n",
        "# Get R-squared score\n",
        "dummy.score(features_test, target_test)"
      ],
      "metadata": {
        "colab": {
          "base_uri": "https://localhost:8080/"
        },
        "id": "203cnxDl0t0G",
        "outputId": "05066793-0827-4671-e520-00aea15ba7af"
      },
      "execution_count": null,
      "outputs": [
        {
          "output_type": "stream",
          "name": "stderr",
          "text": [
            "/usr/local/lib/python3.9/dist-packages/sklearn/utils/deprecation.py:87: FutureWarning: Function load_boston is deprecated; `load_boston` is deprecated in 1.0 and will be removed in 1.2.\n",
            "\n",
            "    The Boston housing prices dataset has an ethical problem. You can refer to\n",
            "    the documentation of this function for further details.\n",
            "\n",
            "    The scikit-learn maintainers therefore strongly discourage the use of this\n",
            "    dataset unless the purpose of the code is to study and educate about\n",
            "    ethical issues in data science and machine learning.\n",
            "\n",
            "    In this special case, you can fetch the dataset from the original\n",
            "    source::\n",
            "\n",
            "        import pandas as pd\n",
            "        import numpy as np\n",
            "\n",
            "        data_url = \"http://lib.stat.cmu.edu/datasets/boston\"\n",
            "        raw_df = pd.read_csv(data_url, sep=\"\\s+\", skiprows=22, header=None)\n",
            "        data = np.hstack([raw_df.values[::2, :], raw_df.values[1::2, :2]])\n",
            "        target = raw_df.values[1::2, 2]\n",
            "\n",
            "    Alternative datasets include the California housing dataset (i.e.\n",
            "    :func:`~sklearn.datasets.fetch_california_housing`) and the Ames housing\n",
            "    dataset. You can load the datasets as follows::\n",
            "\n",
            "        from sklearn.datasets import fetch_california_housing\n",
            "        housing = fetch_california_housing()\n",
            "\n",
            "    for the California housing dataset and::\n",
            "\n",
            "        from sklearn.datasets import fetch_openml\n",
            "        housing = fetch_openml(name=\"house_prices\", as_frame=True)\n",
            "\n",
            "    for the Ames housing dataset.\n",
            "  warnings.warn(msg, category=FutureWarning)\n"
          ]
        },
        {
          "output_type": "execute_result",
          "data": {
            "text/plain": [
              "-0.001119359203955339"
            ]
          },
          "metadata": {},
          "execution_count": 13
        }
      ]
    },
    {
      "cell_type": "code",
      "source": [
        "# To compare, we train our model and evaluate the performance score:\n",
        "# Load library\n",
        "from sklearn.linear_model import LinearRegression\n",
        "# Train simple linear regression model\n",
        "ols = LinearRegression()\n",
        "ols.fit(features_train, target_train)\n",
        "# Get R-squared score\n",
        "ols.score(features_test, target_test)"
      ],
      "metadata": {
        "colab": {
          "base_uri": "https://localhost:8080/"
        },
        "id": "fYBZqKH61c6d",
        "outputId": "85374db1-1cf0-4ecd-b8e3-ecab4e7185e4"
      },
      "execution_count": null,
      "outputs": [
        {
          "output_type": "execute_result",
          "data": {
            "text/plain": [
              "0.6354638433202108"
            ]
          },
          "metadata": {},
          "execution_count": 14
        }
      ]
    },
    {
      "cell_type": "markdown",
      "source": [
        "**Discussion**"
      ],
      "metadata": {
        "id": "iIARfMNi14Wv"
      }
    },
    {
      "cell_type": "code",
      "source": [
        "# Create dummy regressor that predicts 20's for everything\n",
        "clf = DummyRegressor(strategy='constant', constant=20)\n",
        "clf.fit(features_train, target_train)\n",
        "# Evaluate score\n",
        "clf.score(features_test, target_test)"
      ],
      "metadata": {
        "colab": {
          "base_uri": "https://localhost:8080/"
        },
        "id": "_2IOPZlu1idP",
        "outputId": "9c6df32a-4bf9-4673-917f-7817e47459d0"
      },
      "execution_count": null,
      "outputs": [
        {
          "output_type": "execute_result",
          "data": {
            "text/plain": [
              "-0.06510502029325727"
            ]
          },
          "metadata": {},
          "execution_count": 15
        }
      ]
    },
    {
      "cell_type": "markdown",
      "source": [
        "# 11.3 Creating a Baseline Classification Model"
      ],
      "metadata": {
        "id": "jNLKBrTF2RqO"
      }
    },
    {
      "cell_type": "code",
      "source": [
        "# You want a simple baseline classifier to compare against your model\n",
        "# Use scikit-learn’s DummyClassifier:\n",
        "\n",
        "# Load libraries\n",
        "from sklearn.datasets import load_iris\n",
        "from sklearn.dummy import DummyClassifier\n",
        "from sklearn.model_selection import train_test_split\n",
        "# Load data\n",
        "iris = load_iris()\n",
        "# Create target vector and feature matrix\n",
        "features, target = iris.data, iris.target\n",
        "# Split into training and test set\n",
        "features_train, features_test, target_train, target_test = train_test_split(\n",
        "features, target, random_state=0)\n",
        "# Create dummy classifier\n",
        "dummy = DummyClassifier(strategy='uniform', random_state=1)\n",
        "# \"Train\" model\n",
        "dummy.fit(features_train, target_train)\n",
        "# Get accuracy score\n",
        "dummy.score(features_test, target_test)"
      ],
      "metadata": {
        "colab": {
          "base_uri": "https://localhost:8080/"
        },
        "id": "7sXsvd5w2VG1",
        "outputId": "ce2e30bc-1e82-4fcb-8f49-757ffc420afb"
      },
      "execution_count": null,
      "outputs": [
        {
          "output_type": "execute_result",
          "data": {
            "text/plain": [
              "0.42105263157894735"
            ]
          },
          "metadata": {},
          "execution_count": 18
        }
      ]
    },
    {
      "cell_type": "code",
      "source": [
        "# Load library\n",
        "from sklearn.ensemble import RandomForestClassifier\n",
        "# Create classifier\n",
        "classifier = RandomForestClassifier()\n",
        "# Train model\n",
        "classifier.fit(features_train, target_train)\n",
        "# Get accuracy score\n",
        "classifier.score(features_test, target_test)"
      ],
      "metadata": {
        "colab": {
          "base_uri": "https://localhost:8080/"
        },
        "id": "4s6Z_sgE2hYy",
        "outputId": "cdc1719b-6f3a-4426-a57c-f40e951a78a8"
      },
      "execution_count": null,
      "outputs": [
        {
          "output_type": "execute_result",
          "data": {
            "text/plain": [
              "0.9736842105263158"
            ]
          },
          "metadata": {},
          "execution_count": 17
        }
      ]
    },
    {
      "cell_type": "markdown",
      "source": [
        "**Discussion**\n",
        "\n",
        "    A common measure of a classifier’s performance is how much better it is than ran‐dom guessing. \n",
        "    scikit-learn’s DummyClassifier makes this comparison easy. \n",
        "    The strategy parameter gives us a number of options for generating values. There are two par‐ticularly useful strategies. \n",
        "    First, stratified makes predictions that are proportionalto the training set’s target vector’s class proportions \n",
        "    (i.e., if 20% of the observations inthe training data are women, then DummyClassifier will predict women 20% of thetime).\n",
        "    Second, uniform will generate predictions uniformly at random between thedifferent classes. For example,\n",
        "    if 20% of observations are women and 80% are men,uniform will produce predictions that are 50% women and 50% men."
      ],
      "metadata": {
        "id": "wYjWll1Q2pD8"
      }
    },
    {
      "cell_type": "markdown",
      "source": [
        "# 11.4 Evaluating Binary Classifier Predictions\n"
      ],
      "metadata": {
        "id": "XRz62iPm3J4z"
      }
    },
    {
      "cell_type": "code",
      "source": [
        "from sklearn.model_selection import cross_val_score\n",
        "from sklearn.linear_model import LogisticRegression\n",
        "from sklearn.datasets import make_classification\n",
        "#Given a trained classification model, you want to evaluate its quality.\n",
        "\n",
        "# Generate features matrix and target vector\n",
        "X, y = make_classification(n_samples = 10000,\n",
        " n_features = 3,\n",
        " n_informative = 3,\n",
        " n_redundant = 0,\n",
        " n_classes = 2,\n",
        " random_state = 1)\n",
        "# Create logistic regression\n",
        "logit = LogisticRegression()\n",
        "# Cross-validate model using accuracy\n",
        "cross_val_score(logit, X, y, scoring=\"accuracy\")\n",
        "\n",
        "# Cross-validate model using precision\n",
        "cross_val_score(logit, X, y, scoring=\"precision\")\n",
        "\n",
        "# Cross-validate model using recall\n",
        "cross_val_score(logit, X, y, scoring=\"recall\")\n",
        "\n",
        "# Cross-validate model using f1\n",
        "cross_val_score(logit, X, y, scoring=\"f1\")"
      ],
      "metadata": {
        "colab": {
          "base_uri": "https://localhost:8080/"
        },
        "id": "NCfx06wq3QF_",
        "outputId": "8b04b892-94e2-4719-c411-90701ac37f5f"
      },
      "execution_count": null,
      "outputs": [
        {
          "output_type": "execute_result",
          "data": {
            "text/plain": [
              "array([0.95529884, 0.9500998 , 0.95827049, 0.95520886, 0.95577889])"
            ]
          },
          "metadata": {},
          "execution_count": 22
        }
      ]
    },
    {
      "cell_type": "markdown",
      "source": [
        "** Discussion**"
      ],
      "metadata": {
        "id": "1kOeZ8E63gVa"
      }
    },
    {
      "cell_type": "code",
      "source": [
        "# Load library\n",
        "from sklearn.model_selection import train_test_split\n",
        "from sklearn.metrics import accuracy_score\n",
        "# Create training and test split\n",
        "X_train, X_test, y_train, y_test = train_test_split(X,\n",
        " y,\n",
        "test_size=0.1,\n",
        "random_state=1)\n",
        "# Predict values for training target vector\n",
        "y_hat = logit.fit(X_train, y_train).predict(X_test)\n",
        "# Calculate accuracy\n",
        "accuracy_score(y_test, y_hat)"
      ],
      "metadata": {
        "colab": {
          "base_uri": "https://localhost:8080/"
        },
        "id": "biH5-8q23lXH",
        "outputId": "eabd8fba-836a-4f0b-abae-7d5d09fc98b1"
      },
      "execution_count": null,
      "outputs": [
        {
          "output_type": "execute_result",
          "data": {
            "text/plain": [
              "0.947"
            ]
          },
          "metadata": {},
          "execution_count": 23
        }
      ]
    },
    {
      "cell_type": "markdown",
      "source": [
        "# 11.5 Evaluating Binary Classifier Thresholds\n"
      ],
      "metadata": {
        "id": "ET0MpvAh3soI"
      }
    },
    {
      "cell_type": "code",
      "source": [
        "#You want to evaluate a binary classifier and various probability thresholds.\n",
        "\n",
        "# Load libraries\n",
        "import matplotlib.pyplot as plt\n",
        "from sklearn.datasets import make_classification\n",
        "from sklearn.linear_model import LogisticRegression\n",
        "from sklearn.metrics import roc_curve, roc_auc_score\n",
        "from sklearn.model_selection import train_test_split\n",
        "# Create feature matrix and target vector\n",
        "features, target = make_classification(n_samples=10000,\n",
        " n_features=10,\n",
        "n_classes=2,\n",
        "n_informative=3,\n",
        "random_state=3)\n",
        "# Split into training and test sets\n",
        "features_train, features_test, target_train, target_test = train_test_split(\n",
        " features, target, test_size=0.1, random_state=1)"
      ],
      "metadata": {
        "id": "XpTD80ar3v40"
      },
      "execution_count": null,
      "outputs": []
    },
    {
      "cell_type": "code",
      "source": [
        "# Create classifier\n",
        "logit = LogisticRegression()\n",
        "# Train model\n",
        "logit.fit(features_train, target_train)\n",
        "# Get predicted probabilities\n",
        "target_probabilities = logit.predict_proba(features_test)[:,1]\n",
        "# Create true and false positive rates\n",
        "false_positive_rate, true_positive_rate, threshold = roc_curve(target_test,\n",
        " target_probabilities)\n",
        "# Plot ROC curve\n",
        "plt.title(\"Receiver Operating Characteristic\")\n",
        "plt.plot(false_positive_rate, true_positive_rate)\n",
        "plt.plot([0, 1], ls=\"--\")\n",
        "plt.plot([0, 0], [1, 0] , c=\".7\"), plt.plot([1, 1] , c=\".7\")\n",
        "plt.ylabel(\"True Positive Rate\")\n",
        "plt.xlabel(\"False Positive Rate\")\n",
        "plt.show()"
      ],
      "metadata": {
        "colab": {
          "base_uri": "https://localhost:8080/",
          "height": 295
        },
        "id": "RSKesT1k3yIY",
        "outputId": "f1aa0675-57b2-4fed-d69d-1b56c1b5601b"
      },
      "execution_count": null,
      "outputs": [
        {
          "output_type": "display_data",
          "data": {
            "text/plain": [
              "<Figure size 432x288 with 1 Axes>"
            ],
            "image/png": "[encoded data removed]"
          },
          "metadata": {
            "needs_background": "light"
          }
        }
      ]
    },
    {
      "cell_type": "markdown",
      "source": [
        "** Discussion**\n",
        "\n",
        "\n",
        "\n",
        "\n"
      ],
      "metadata": {
        "id": "iaj6u6BV35LK"
      }
    },
    {
      "cell_type": "code",
      "source": [
        "# Get predicted probabilities\n",
        "logit.predict_proba(features_test)[0:1]"
      ],
      "metadata": {
        "colab": {
          "base_uri": "https://localhost:8080/"
        },
        "id": "Zlq09oSQ38OK",
        "outputId": "00b263ca-0b8e-4e16-df54-046ff6635ca7"
      },
      "execution_count": null,
      "outputs": [
        {
          "output_type": "execute_result",
          "data": {
            "text/plain": [
              "array([[0.86891533, 0.13108467]])"
            ]
          },
          "metadata": {},
          "execution_count": 26
        }
      ]
    },
    {
      "cell_type": "code",
      "source": [
        "logit.classes_\n"
      ],
      "metadata": {
        "colab": {
          "base_uri": "https://localhost:8080/"
        },
        "id": "ujw8zhXm39wm",
        "outputId": "bdbc2f7c-21c5-4644-b41d-8389cfd6460e"
      },
      "execution_count": null,
      "outputs": [
        {
          "output_type": "execute_result",
          "data": {
            "text/plain": [
              "array([0, 1])"
            ]
          },
          "metadata": {},
          "execution_count": 27
        }
      ]
    },
    {
      "cell_type": "code",
      "source": [
        "print(\"Threshold:\", threshold[116])\n",
        "print(\"True Positive Rate:\", true_positive_rate[116])\n",
        "print(\"False Positive Rate:\", false_positive_rate[116])"
      ],
      "metadata": {
        "colab": {
          "base_uri": "https://localhost:8080/"
        },
        "id": "1jLZFVYu3_6M",
        "outputId": "ac7a73d8-734d-44de-922d-ce9de009a4c1"
      },
      "execution_count": null,
      "outputs": [
        {
          "output_type": "stream",
          "name": "stdout",
          "text": [
            "Threshold: 0.5331715230155316\n",
            "True Positive Rate: 0.810204081632653\n",
            "False Positive Rate: 0.14901960784313725\n"
          ]
        }
      ]
    },
    {
      "cell_type": "code",
      "source": [
        "print(\"Threshold:\", threshold[45])\n",
        "print(\"True Positive Rate:\", true_positive_rate[45])\n",
        "print(\"False Positive Rate:\", false_positive_rate[45])"
      ],
      "metadata": {
        "colab": {
          "base_uri": "https://localhost:8080/"
        },
        "id": "J5CXWPTu4BhW",
        "outputId": "285b8bc9-31dc-4bb4-f61d-e706632d8e24"
      },
      "execution_count": null,
      "outputs": [
        {
          "output_type": "stream",
          "name": "stdout",
          "text": [
            "Threshold: 0.818913387665929\n",
            "True Positive Rate: 0.5448979591836735\n",
            "False Positive Rate: 0.047058823529411764\n"
          ]
        }
      ]
    },
    {
      "cell_type": "code",
      "source": [
        "# Calculate area under curve\n",
        "roc_auc_score(target_test, target_probabilities)"
      ],
      "metadata": {
        "colab": {
          "base_uri": "https://localhost:8080/"
        },
        "id": "d1IoZyFT4ED4",
        "outputId": "f3ea7fef-cb6a-49e6-8ca5-701432f8fc11"
      },
      "execution_count": null,
      "outputs": [
        {
          "output_type": "execute_result",
          "data": {
            "text/plain": [
              "0.9073389355742297"
            ]
          },
          "metadata": {},
          "execution_count": 30
        }
      ]
    },
    {
      "cell_type": "markdown",
      "source": [
        "# 11.6 Evaluating Multiclass Classifier Predictions"
      ],
      "metadata": {
        "id": "zZxZ3Qxm4KcK"
      }
    },
    {
      "cell_type": "code",
      "source": [
        "# You have a model that predicts three or more classes and want to evaluate its perfor‐mance.\n",
        "# Load libraries\n",
        "from sklearn.model_selection import cross_val_score\n",
        "from sklearn.linear_model import LogisticRegression\n",
        "from sklearn.datasets import make_classification\n",
        "# Generate features matrix and target vector\n",
        "features, target = make_classification(n_samples = 10000,\n",
        " n_features = 3,\n",
        " n_informative = 3,\n",
        " n_redundant = 0,\n",
        " n_classes = 3,\n",
        " random_state = 1)\n",
        "# Create logistic regression\n",
        "logit = LogisticRegression()\n",
        "# Cross-validate model using accuracy\n",
        "cross_val_score(logit, features, target, scoring='accuracy')"
      ],
      "metadata": {
        "colab": {
          "base_uri": "https://localhost:8080/"
        },
        "id": "VLfwHie44MAX",
        "outputId": "ad65352f-e09b-4da2-cb9d-6cbb6eb354a0"
      },
      "execution_count": null,
      "outputs": [
        {
          "output_type": "execute_result",
          "data": {
            "text/plain": [
              "array([0.841 , 0.829 , 0.8265, 0.8155, 0.82  ])"
            ]
          },
          "metadata": {},
          "execution_count": 31
        }
      ]
    },
    {
      "cell_type": "markdown",
      "source": [
        " **Discussion**"
      ],
      "metadata": {
        "id": "1jgjkuPS4T3S"
      }
    },
    {
      "cell_type": "code",
      "source": [
        "# Cross-validate model using macro averaged F1 score\n",
        "cross_val_score(logit, features, target, scoring='f1_macro')"
      ],
      "metadata": {
        "colab": {
          "base_uri": "https://localhost:8080/"
        },
        "id": "-_-vI3SI4V-H",
        "outputId": "098a2b46-dd6f-44e9-ebde-2cce6c2ca991"
      },
      "execution_count": null,
      "outputs": [
        {
          "output_type": "execute_result",
          "data": {
            "text/plain": [
              "array([0.84061272, 0.82895312, 0.82625661, 0.81515121, 0.81992692])"
            ]
          },
          "metadata": {},
          "execution_count": 32
        }
      ]
    },
    {
      "cell_type": "markdown",
      "source": [
        "# 11.7 Visualizing a Classifier’s Performance"
      ],
      "metadata": {
        "id": "zLymxrCo5Y5c"
      }
    },
    {
      "cell_type": "markdown",
      "source": [
        "Given predicted classes and true classes of the test data, you want to visually compare\n",
        "the model’s quality.\n",
        "\n",
        "Use a confusion matrix, which compares predicted classes and true classes:"
      ],
      "metadata": {
        "id": "xCAjoLh95bi8"
      }
    },
    {
      "cell_type": "code",
      "source": [
        "# Load libraries\n",
        "import matplotlib.pyplot as plt\n",
        "import seaborn as sns\n",
        "from sklearn import datasets\n",
        "from sklearn.linear_model import LogisticRegression\n",
        "from sklearn.model_selection import train_test_split\n",
        "from sklearn.metrics import confusion_matrix\n",
        "import pandas as pd\n",
        "# Load data\n",
        "iris = datasets.load_iris()\n",
        "# Create feature matrix\n",
        "features = iris.data\n",
        "# Create target vector\n",
        "target = iris.target\n",
        "# Create list of target class names\n",
        "class_names = iris.target_names\n",
        "# Create training and test set\n",
        "features_train, features_test, target_train, target_test = train_test_split(\n",
        " features, target, random_state=1)"
      ],
      "metadata": {
        "id": "HgD3IkXJ5aJm"
      },
      "execution_count": null,
      "outputs": []
    },
    {
      "cell_type": "code",
      "source": [
        "# Create logistic regression\n",
        "classifier = LogisticRegression()\n",
        "# Train model and make predictions\n",
        "target_predicted = classifier.fit(features_train,\n",
        " target_train).predict(features_test)\n",
        "# Create confusion matrix\n",
        "matrix = confusion_matrix(target_test, target_predicted)\n",
        "# Create pandas dataframe\n",
        "dataframe = pd.DataFrame(matrix, index=class_names, columns=class_names)\n",
        "# Create heatmap\n",
        "sns.heatmap(dataframe, annot=True, cbar=None, cmap=\"Blues\")\n",
        "plt.title(\"Confusion Matrix\"), plt.tight_layout()\n",
        "plt.ylabel(\"True Class\"), plt.xlabel(\"Predicted Class\")\n",
        "plt.show()"
      ],
      "metadata": {
        "colab": {
          "base_uri": "https://localhost:8080/",
          "height": 450
        },
        "id": "gNFwwJlN5lIk",
        "outputId": "b730720c-f00c-42ba-f443-1b4d1acb4c31"
      },
      "execution_count": null,
      "outputs": [
        {
          "output_type": "stream",
          "name": "stderr",
          "text": [
            "/usr/local/lib/python3.9/dist-packages/sklearn/linear_model/_logistic.py:444: ConvergenceWarning: lbfgs failed to converge (status=1):\n",
            "STOP: TOTAL NO. of ITERATIONS REACHED LIMIT.\n",
            "\n",
            "Increase the number of iterations (max_iter) or scale the data as shown in:\n",
            "    https://scikit-learn.org/stable/modules/preprocessing.html\n",
            "Please also refer to the documentation for alternative solver options:\n",
            "    https://scikit-learn.org/stable/modules/linear_model.html#logistic-regression\n",
            "  n_iter_i = _check_optimize_result(\n"
          ]
        },
        {
          "output_type": "display_data",
          "data": {
            "text/plain": [
              "<Figure size 432x288 with 1 Axes>"
            ],
            "image/png": "[encoded data removed]"
          },
          "metadata": {
            "needs_background": "light"
          }
        }
      ]
    },
    {
      "cell_type": "markdown",
      "source": [
        "# 11.8 Evaluating Regression Models\n"
      ],
      "metadata": {
        "id": "NiDQSWUI5pw7"
      }
    },
    {
      "cell_type": "markdown",
      "source": [
        "You want to evaluate the performance of a regression model.\n",
        "\n",
        "Use mean squared error (MSE)"
      ],
      "metadata": {
        "id": "wDtB0kSc55Sq"
      }
    },
    {
      "cell_type": "code",
      "source": [
        "# Load libraries\n",
        "from sklearn.datasets import make_regression\n",
        "from sklearn.model_selection import cross_val_score\n",
        "from sklearn.linear_model import LinearRegression\n",
        "# Generate features matrix, target vector\n",
        "features, target = make_regression(n_samples = 100,\n",
        " n_features = 3,\n",
        " n_informative = 3,\n",
        " n_targets = 1,\n",
        " noise = 50,\n",
        " coef = False,\n",
        " random_state = 1)\n",
        "# Create a linear regression object\n",
        "ols = LinearRegression()\n",
        "# Cross-validate the linear regression using (negative) MSE\n",
        "cross_val_score(ols, features, target, scoring='neg_mean_squared_error')"
      ],
      "metadata": {
        "colab": {
          "base_uri": "https://localhost:8080/"
        },
        "id": "0slf0ycH5scN",
        "outputId": "c01b0938-a7f4-4d2a-9968-047335bd946f"
      },
      "execution_count": null,
      "outputs": [
        {
          "output_type": "execute_result",
          "data": {
            "text/plain": [
              "array([-1974.65337976, -2004.54137625, -3935.19355723, -1060.04361386,\n",
              "       -1598.74104702])"
            ]
          },
          "metadata": {},
          "execution_count": 36
        }
      ]
    },
    {
      "cell_type": "markdown",
      "source": [
        "Another common regression metric is the coefficient of determination, R^2\n",
        ":"
      ],
      "metadata": {
        "id": "irelX9735yFJ"
      }
    },
    {
      "cell_type": "code",
      "source": [
        "cross_val_score(ols, features, target, scoring='r2')"
      ],
      "metadata": {
        "colab": {
          "base_uri": "https://localhost:8080/"
        },
        "id": "lHa3MunG5ycj",
        "outputId": "ec7f5cc6-67ce-4c43-ed05-358e004ba7b9"
      },
      "execution_count": null,
      "outputs": [
        {
          "output_type": "execute_result",
          "data": {
            "text/plain": [
              "array([0.8622399 , 0.85838075, 0.74723548, 0.91354743, 0.84469331])"
            ]
          },
          "metadata": {},
          "execution_count": 37
        }
      ]
    },
    {
      "cell_type": "markdown",
      "source": [
        "**Discussion**"
      ],
      "metadata": {
        "id": "6oxEcdOc5972"
      }
    },
    {
      "cell_type": "markdown",
      "source": [
        "# 11.9 Evaluating Clustering Models"
      ],
      "metadata": {
        "id": "z_1ZxRy36DTx"
      }
    },
    {
      "cell_type": "markdown",
      "source": [
        "You have used an unsupervised learning algorithm to cluster your data. Now you\n",
        "want to know how well it did.\n",
        "\n",
        "The short answer is that you probably can’t, at least not in the way you want.\n",
        "That said, one option is to evaluate clustering using silhouette coefficients, which\n",
        "measure the quality of the clusters:"
      ],
      "metadata": {
        "id": "2kHouJ0K6NVH"
      }
    },
    {
      "cell_type": "code",
      "source": [
        "import numpy as np\n",
        "from sklearn.metrics import silhouette_score\n",
        "from sklearn import datasets\n",
        "from sklearn.cluster import KMeans\n",
        "from sklearn.datasets import make_blobs\n",
        "# Generate feature matrix\n",
        "features, _ = make_blobs(n_samples = 1000,\n",
        " n_features = 10,\n",
        " centers = 2,\n",
        " cluster_std = 0.5,\n",
        " shuffle = True,\n",
        " random_state = 1)\n",
        "model = KMeans(n_clusters=2, random_state=1).fit(features)\n",
        "# Get predicted classes\n",
        "target_predicted = model.labels_\n",
        "# Evaluate model\n",
        "silhouette_score(features, target_predicted)"
      ],
      "metadata": {
        "colab": {
          "base_uri": "https://localhost:8080/"
        },
        "id": "CutRUarN6CMI",
        "outputId": "91174a94-9514-454f-85b3-08721c05593a"
      },
      "execution_count": null,
      "outputs": [
        {
          "output_type": "execute_result",
          "data": {
            "text/plain": [
              "0.8916265564072141"
            ]
          },
          "metadata": {},
          "execution_count": 39
        }
      ]
    },
    {
      "cell_type": "markdown",
      "source": [
        "# 11.10 Creating a Custom Evaluation Metric"
      ],
      "metadata": {
        "id": "Y6cidGEH6XjE"
      }
    },
    {
      "cell_type": "markdown",
      "source": [
        "You want to evaluate a model using a metric you created\n",
        "\n",
        "Create the metric as a function and convert it into a scorer function using scikit\u0002learn’s make_scorer:"
      ],
      "metadata": {
        "id": "mhGRdyTV6ajS"
      }
    },
    {
      "cell_type": "code",
      "source": [
        "from sklearn.metrics import make_scorer, r2_score\n",
        "from sklearn.model_selection import train_test_split\n",
        "from sklearn.linear_model import Ridge\n",
        "from sklearn.datasets import make_regression\n",
        "# Generate features matrix and target vector\n",
        "features, target = make_regression(n_samples = 100,\n",
        " n_features = 3,\n",
        " random_state = 1)\n",
        "# Create training set and test set\n",
        "features_train, features_test, target_train, target_test = train_test_split(\n",
        " features, target, test_size=0.10, random_state=1)\n",
        "# Create custom metric\n",
        "def custom_metric(target_test, target_predicted):\n",
        " # Calculate r-squared score\n",
        " r2 = r2_score(target_test, target_predicted)\n",
        " # Return r-squared score\n",
        " return r2\n",
        "# Make scorer and define that higher scores are better\n",
        "score = make_scorer(custom_metric, greater_is_better=True)\n",
        "# Create ridge regression object\n",
        "classifier = Ridge()\n",
        "# Train ridge regression model\n",
        "model = classifier.fit(features_train, target_train)\n",
        "# Apply custom scorer\n",
        "score(model, features_test, target_test)"
      ],
      "metadata": {
        "colab": {
          "base_uri": "https://localhost:8080/"
        },
        "id": "HAmv4ezE6Y3z",
        "outputId": "0d4d382c-01b3-4652-d26c-36a40dc426d2"
      },
      "execution_count": null,
      "outputs": [
        {
          "output_type": "execute_result",
          "data": {
            "text/plain": [
              "0.9997906102882058"
            ]
          },
          "metadata": {},
          "execution_count": 40
        }
      ]
    },
    {
      "cell_type": "markdown",
      "source": [
        "**Discussion**\n"
      ],
      "metadata": {
        "id": "FT1-Wy-P6iGX"
      }
    },
    {
      "cell_type": "code",
      "source": [
        "# Predict values\n",
        "target_predicted = model.predict(features_test)\n",
        "# Calculate r-squared score\n",
        "r2_score(target_test, target_predicted)"
      ],
      "metadata": {
        "colab": {
          "base_uri": "https://localhost:8080/"
        },
        "id": "MRJrhw-86mIT",
        "outputId": "c002fcdd-db25-49b5-efec-4dfc16c866ad"
      },
      "execution_count": null,
      "outputs": [
        {
          "output_type": "execute_result",
          "data": {
            "text/plain": [
              "0.9997906102882058"
            ]
          },
          "metadata": {},
          "execution_count": 41
        }
      ]
    },
    {
      "cell_type": "markdown",
      "source": [
        "# 11.11 Visualizing the Effect of Training Set Size"
      ],
      "metadata": {
        "id": "l2P_2MQz6pGl"
      }
    },
    {
      "cell_type": "code",
      "source": [
        "# Load libraries\n",
        "import numpy as np\n",
        "import matplotlib.pyplot as plt\n",
        "from sklearn.ensemble import RandomForestClassifier\n",
        "from sklearn.datasets import load_digits\n",
        "from sklearn.model_selection import learning_curve\n",
        "# Load data\n",
        "digits = load_digits()\n",
        "# Create feature matrix and target vector\n",
        "features, target = digits.data, digits.target\n",
        "# Create CV training and test scores for various training set sizes\n",
        "train_sizes, train_scores, test_scores = learning_curve(# Classifier\n",
        " RandomForestClassifier(),\n",
        "# Feature matrix\n",
        "features,\n",
        "# Target vector\n",
        "target,\n",
        "# Number of folds\n",
        "cv=10,\n",
        "# Performance metric\n",
        "scoring='accuracy',\n",
        "# Use all computer cores\n",
        "n_jobs=-1,\n",
        "# Sizes of 50\n",
        "# training set\n",
        " train_sizes=np.linspace(\n",
        " 0.01,\n",
        "1.0,\n",
        "50))\n",
        "# Create means and standard deviations of training set scores\n",
        "train_mean = np.mean(train_scores, axis=1)\n",
        "train_std = np.std(train_scores, axis=1)\n",
        "# Create means and standard deviations of test set scores\n",
        "test_mean = np.mean(test_scores, axis=1)\n",
        "test_std = np.std(test_scores, axis=1)\n",
        "# Draw lines\n",
        "plt.plot(train_sizes, train_mean, '--', color=\"#111111\", label=\"Training score\")\n",
        "plt.plot(train_sizes, test_mean, color=\"#111111\", label=\"Cross-validation score\")\n",
        "# Draw bands\n",
        "plt.fill_between(train_sizes, train_mean - train_std,\n",
        " train_mean + train_std, color=\"#DDDDDD\")\n",
        "plt.fill_between(train_sizes, test_mean - test_std,\n",
        " test_mean + test_std, color=\"#DDDDDD\")\n",
        "# Create plot\n",
        "plt.title(\"Learning Curve\")\n",
        "plt.xlabel(\"Training Set Size\"), plt.ylabel(\"Accuracy Score\"),\n",
        "plt.legend(loc=\"best\")\n",
        "plt.tight_layout()\n",
        "plt.show()"
      ],
      "metadata": {
        "colab": {
          "base_uri": "https://localhost:8080/",
          "height": 297
        },
        "id": "_Nd1WYW06qFL",
        "outputId": "62400245-30e6-4144-9d7c-1f95f5da95cd"
      },
      "execution_count": null,
      "outputs": [
        {
          "output_type": "display_data",
          "data": {
            "text/plain": [
              "<Figure size 432x288 with 1 Axes>"
            ],
            "image/png": "[encoded data removed]"
          },
          "metadata": {
            "needs_background": "light"
          }
        }
      ]
    },
    {
      "cell_type": "markdown",
      "source": [
        "# 11.12 Creating a Text Report of Evaluation Metrics"
      ],
      "metadata": {
        "id": "pVr4k6ooCS3y"
      }
    },
    {
      "cell_type": "markdown",
      "source": [
        "You want a quick description of a classifier’s performance.\n",
        "\n",
        "Use scikit-learn’s classification_report:"
      ],
      "metadata": {
        "id": "Im73oz1mCiLz"
      }
    },
    {
      "cell_type": "code",
      "source": [
        "# Load libraries\n",
        "from sklearn import datasets\n",
        "from sklearn.linear_model import LogisticRegression\n",
        "from sklearn.model_selection import train_test_split\n",
        "from sklearn.metrics import classification_report\n",
        "# Load data\n",
        "iris = datasets.load_iris()\n",
        "# Create feature matrix\n",
        "features = iris.data\n",
        "# Create target vector\n",
        "target = iris.target\n",
        "# Create list of target class names\n",
        "class_names = iris.target_names\n",
        "# Create training and test set\n",
        "features_train, features_test, target_train, target_test = train_test_split(\n",
        " features, target, random_state=1)\n",
        "# Create logistic regression\n",
        "classifier = LogisticRegression()\n",
        "# Train model and make predictions\n",
        "model = classifier.fit(features_train, target_train)\n",
        "target_predicted = model.predict(features_test)\n",
        "# Create a classification report\n",
        "print(classification_report(target_test,\n",
        " target_predicted,\n",
        "target_names=class_names))"
      ],
      "metadata": {
        "colab": {
          "base_uri": "https://localhost:8080/"
        },
        "id": "fjQyNvhqCXne",
        "outputId": "563ea0a2-5e1a-4561-852d-62bc92f5b41d"
      },
      "execution_count": null,
      "outputs": [
        {
          "output_type": "stream",
          "name": "stdout",
          "text": [
            "              precision    recall  f1-score   support\n",
            "\n",
            "      setosa       1.00      1.00      1.00        13\n",
            "  versicolor       1.00      0.94      0.97        16\n",
            "   virginica       0.90      1.00      0.95         9\n",
            "\n",
            "    accuracy                           0.97        38\n",
            "   macro avg       0.97      0.98      0.97        38\n",
            "weighted avg       0.98      0.97      0.97        38\n",
            "\n"
          ]
        },
        {
          "output_type": "stream",
          "name": "stderr",
          "text": [
            "/usr/local/lib/python3.9/dist-packages/sklearn/linear_model/_logistic.py:444: ConvergenceWarning: lbfgs failed to converge (status=1):\n",
            "STOP: TOTAL NO. of ITERATIONS REACHED LIMIT.\n",
            "\n",
            "Increase the number of iterations (max_iter) or scale the data as shown in:\n",
            "    https://scikit-learn.org/stable/modules/preprocessing.html\n",
            "Please also refer to the documentation for alternative solver options:\n",
            "    https://scikit-learn.org/stable/modules/linear_model.html#logistic-regression\n",
            "  n_iter_i = _check_optimize_result(\n"
          ]
        }
      ]
    },
    {
      "cell_type": "markdown",
      "source": [
        "# 11.13 Visualizing the Effect of Hyperparameter Values"
      ],
      "metadata": {
        "id": "M6ti4MMACmzs"
      }
    },
    {
      "cell_type": "markdown",
      "source": [
        "You want to understand how the performance of a model changes as the value of\n",
        "some hyperparameter changes.\n",
        "\n",
        "Plot the validation curve"
      ],
      "metadata": {
        "id": "WxL_RlOpCorQ"
      }
    },
    {
      "cell_type": "code",
      "source": [
        "# Load libraries\n",
        "import matplotlib.pyplot as plt\n",
        "import numpy as np\n",
        "from sklearn.datasets import load_digits\n",
        "from sklearn.ensemble import RandomForestClassifier\n",
        "from sklearn.model_selection import validation_curve\n",
        "# Load data\n",
        "digits = load_digits()\n",
        "# Create feature matrix and target vector\n",
        "features, target = digits.data, digits.target\n",
        "# Create range of values for parameter\n",
        "param_range = np.arange(1, 250, 2)\n",
        "# Calculate accuracy on training and test set using range of parameter values\n",
        "train_scores, test_scores = validation_curve(\n",
        " # Classifier\n",
        " RandomForestClassifier(),\n",
        " # Feature matrix\n",
        " features,\n",
        " # Target vector\n",
        " target,\n",
        " # Hyperparameter to examine\n",
        " param_name=\"n_estimators\",\n",
        " # Range of hyperparameter's values\n",
        " param_range=param_range,\n",
        " # Number of folds\n",
        " cv=3,\n",
        " # Performance metric\n",
        " scoring=\"accuracy\",\n",
        " # Use all computer cores\n",
        " n_jobs=-1)\n",
        "# Calculate mean and standard deviation for training set scores\n",
        "train_mean = np.mean(train_scores, axis=1)\n",
        "train_std = np.std(train_scores, axis=1)\n",
        "# Calculate mean and standard deviation for test set scores\n",
        "test_mean = np.mean(test_scores, axis=1)\n",
        "test_std = np.std(test_scores, axis=1)\n",
        "# Plot mean accuracy scores for training and test sets\n",
        "plt.plot(param_range, train_mean, label=\"Training score\", color=\"black\")\n",
        "plt.plot(param_range, test_mean, label=\"Cross-validation score\", color=\"dimgrey\")\n",
        "# Plot accurancy bands for training and test sets\n",
        "plt.fill_between(param_range, train_mean - train_std,\n",
        " train_mean + train_std, color=\"gray\")\n",
        "plt.fill_between(param_range, test_mean - test_std,\n",
        " test_mean + test_std, color=\"gainsboro\")\n",
        "# Create plot\n",
        "plt.title(\"Validation Curve With Random Forest\")\n",
        "plt.xlabel(\"Number Of Trees\")\n",
        "plt.ylabel(\"Accuracy Score\")\n",
        "plt.tight_layout()\n",
        "plt.legend(loc=\"best\")\n",
        "plt.show()"
      ],
      "metadata": {
        "colab": {
          "base_uri": "https://localhost:8080/",
          "height": 297
        },
        "id": "FDyQU1w8Cr8z",
        "outputId": "23e66b35-31b1-4cd6-b34e-0435355c7086"
      },
      "execution_count": null,
      "outputs": [
        {
          "output_type": "display_data",
          "data": {
            "text/plain": [
              "<Figure size 432x288 with 1 Axes>"
            ],
            "image/png": "[encoded data removed]"
          },
          "metadata": {
            "needs_background": "light"
          }
        }
      ]
    }
  ]
}