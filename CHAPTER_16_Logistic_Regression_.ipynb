{
  "nbformat": 4,
  "nbformat_minor": 0,
  "metadata": {
    "colab": {
      "provenance": [],
      "authorship_tag": "ABX9TyPGiNUG0mHPv9K5vbOOYmYd",
      "include_colab_link": true
    },
    "kernelspec": {
      "name": "python3",
      "display_name": "Python 3"
    },
    "language_info": {
      "name": "python"
    }
  },
  "cells": [
    {
      "cell_type": "markdown",
      "metadata": {
        "id": "view-in-github",
        "colab_type": "text"
      },
      "source": [
        "<a href=\"https://colab.research.google.com/github/blowmeaway1234/Machine-Learning/blob/main/CHAPTER_16_Logistic_Regression_.ipynb\" target=\"_parent\"><img src=\"https://colab.research.google.com/assets/colab-badge.svg\" alt=\"Open In Colab\"/></a>"
      ]
    },
    {
      "cell_type": "markdown",
      "source": [
        "# 16.1 Training a Binary Classifier"
      ],
      "metadata": {
        "id": "8zjjetkPPCB0"
      }
    },
    {
      "cell_type": "code",
      "execution_count": 1,
      "metadata": {
        "id": "1gcdrpokOeis"
      },
      "outputs": [],
      "source": [
        "# Load libraries\n",
        "from sklearn.linear_model import LogisticRegression\n",
        "from sklearn import datasets\n",
        "from sklearn.preprocessing import StandardScaler\n",
        "# Load data with only two classes\n",
        "iris = datasets.load_iris()\n",
        "features = iris.data[:100,:]\n",
        "target = iris.target[:100]\n",
        "# Standardize features\n",
        "scaler = StandardScaler()\n",
        "features_standardized = scaler.fit_transform(features)\n",
        "# Create logistic regression object\n",
        "logistic_regression = LogisticRegression(random_state=0)\n",
        "# Train model\n",
        "model = logistic_regression.fit(features_standardized, target)"
      ]
    },
    {
      "cell_type": "code",
      "source": [
        "# Create new observation\n",
        "new_observation = [[.5, .5, .5, .5]]\n"
      ],
      "metadata": {
        "id": "vZiy11x3QO0X"
      },
      "execution_count": 2,
      "outputs": []
    },
    {
      "cell_type": "code",
      "source": [
        "# Predict class\n",
        "model.predict(new_observation)"
      ],
      "metadata": {
        "colab": {
          "base_uri": "https://localhost:8080/"
        },
        "id": "70qgnPyQQO-w",
        "outputId": "da3886cd-5acb-4437-d341-28deafdd05dc"
      },
      "execution_count": 3,
      "outputs": [
        {
          "output_type": "execute_result",
          "data": {
            "text/plain": [
              "array([1])"
            ]
          },
          "metadata": {},
          "execution_count": 3
        }
      ]
    },
    {
      "cell_type": "code",
      "source": [
        "# View predicted probabilities\n",
        "model.predict_proba(new_observation)"
      ],
      "metadata": {
        "colab": {
          "base_uri": "https://localhost:8080/"
        },
        "id": "5pd09DHzQPGm",
        "outputId": "adff0139-48b2-4917-9681-5e1bdcc0e43f"
      },
      "execution_count": 4,
      "outputs": [
        {
          "output_type": "execute_result",
          "data": {
            "text/plain": [
              "array([[0.17738424, 0.82261576]])"
            ]
          },
          "metadata": {},
          "execution_count": 4
        }
      ]
    },
    {
      "cell_type": "markdown",
      "source": [
        "# 16.2 Training a Multiclass Classifier"
      ],
      "metadata": {
        "id": "wLebsa0EQJdG"
      }
    },
    {
      "cell_type": "code",
      "source": [
        "# Load libraries\n",
        "from sklearn.linear_model import LogisticRegression\n",
        "from sklearn import datasets\n",
        "from sklearn.preprocessing import StandardScaler\n",
        "# Load data\n",
        "iris = datasets.load_iris()\n",
        "features = iris.data\n",
        "target = iris.target\n",
        "# Standardize features\n",
        "scaler = StandardScaler()\n",
        "features_standardized = scaler.fit_transform(features)\n",
        "# Create one-vs-rest logistic regression object\n",
        "logistic_regression = LogisticRegression(random_state=0, multi_class=\"ovr\")\n",
        "# Train model\n",
        "model = logistic_regression.fit(features_standardized, target)"
      ],
      "metadata": {
        "id": "3H5ocgvoQzhD"
      },
      "execution_count": 5,
      "outputs": []
    },
    {
      "cell_type": "markdown",
      "source": [
        "# 16.3 Reducing Variance Through Regularization"
      ],
      "metadata": {
        "id": "AH8hOBv_Q66E"
      }
    },
    {
      "cell_type": "code",
      "source": [
        "# Load libraries\n",
        "from sklearn.linear_model import LogisticRegressionCV\n",
        "from sklearn import datasets\n",
        "from sklearn.preprocessing import StandardScaler\n",
        "# Load data\n",
        "iris = datasets.load_iris()\n",
        "features = iris.data\n",
        "target = iris.target\n",
        "# Standardize features\n",
        "scaler = StandardScaler()\n",
        "features_standardized = scaler.fit_transform(features)\n",
        "# Create decision tree classifier object\n",
        "logistic_regression = LogisticRegressionCV(\n",
        " penalty='l2', Cs=10, random_state=0, n_jobs=-1)\n",
        "# Train model\n",
        "model = logistic_regression.fit(features_standardized, target)"
      ],
      "metadata": {
        "id": "LSUfcROBQ9vd"
      },
      "execution_count": 6,
      "outputs": []
    },
    {
      "cell_type": "markdown",
      "source": [
        "# 16.4 Training a Classifier on Very Large Data"
      ],
      "metadata": {
        "id": "Ya5kFx5QRhhY"
      }
    },
    {
      "cell_type": "code",
      "source": [
        "# Load libraries\n",
        "from sklearn.linear_model import LogisticRegression\n",
        "from sklearn import datasets\n",
        "from sklearn.preprocessing import StandardScaler\n",
        "# Load data\n",
        "iris = datasets.load_iris()\n",
        "features = iris.data\n",
        "target = iris.target\n",
        "# Standardize features\n",
        "scaler = StandardScaler()\n",
        "features_standardized = scaler.fit_transform(features)\n",
        "# Create logistic regression object\n",
        "logistic_regression = LogisticRegression(random_state=0, solver=\"sag\")\n",
        "# Train model\n",
        "model = logistic_regression.fit(features_standardized, target)"
      ],
      "metadata": {
        "id": "uJztX2FKRjGC"
      },
      "execution_count": 8,
      "outputs": []
    },
    {
      "cell_type": "markdown",
      "source": [
        "# 16.5 Handling Imbalanced Classes"
      ],
      "metadata": {
        "id": "hDI965AoRtF4"
      }
    },
    {
      "cell_type": "code",
      "source": [
        "# Load libraries\n",
        "import numpy as np\n",
        "from sklearn.linear_model import LogisticRegression\n",
        "from sklearn import datasets\n",
        "from sklearn.preprocessing import StandardScaler\n",
        "iris = datasets.load_iris()\n",
        "features = iris.data\n",
        "target = iris.target\n",
        "# Make class highly imbalanced by removing first 40 observations\n",
        "features = features[40:,:]\n",
        "target = target[40:]\n",
        "# Create target vector indicating if class 0, otherwise 1\n",
        "target = np.where((target == 0), 0, 1)\n",
        "# Standardize features\n",
        "scaler = StandardScaler()\n",
        "features_standardized = scaler.fit_transform(features)\n",
        "# Create decision tree classifier object\n",
        "logistic_regression = LogisticRegression(random_state=0, class_weight=\"balanced\")\n",
        "# Train model\n",
        "model = logistic_regression.fit(features_standardized, target)"
      ],
      "metadata": {
        "id": "jj930JJwRn3k"
      },
      "execution_count": 9,
      "outputs": []
    }
  ]
}