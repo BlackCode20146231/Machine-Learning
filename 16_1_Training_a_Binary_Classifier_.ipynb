{
  "nbformat": 4,
  "nbformat_minor": 0,
  "metadata": {
    "colab": {
      "provenance": [],
      "authorship_tag": "ABX9TyOdjZMYnI3q/VSibou69g8g",
      "include_colab_link": true
    },
    "kernelspec": {
      "name": "python3",
      "display_name": "Python 3"
    },
    "language_info": {
      "name": "python"
    }
  },
  "cells": [
    {
      "cell_type": "markdown",
      "metadata": {
        "id": "view-in-github",
        "colab_type": "text"
      },
      "source": [
        "<a href=\"https://colab.research.google.com/github/blowmeaway1234/Machine-Learning/blob/main/16_1_Training_a_Binary_Classifier_.ipynb\" target=\"_parent\"><img src=\"https://colab.research.google.com/assets/colab-badge.svg\" alt=\"Open In Colab\"/></a>"
      ]
    },
    {
      "cell_type": "code",
      "execution_count": null,
      "metadata": {
        "id": "1gcdrpokOeis"
      },
      "outputs": [],
      "source": [
        "# Load libraries\n",
        "from sklearn.linear_model import LogisticRegression\n",
        "from sklearn import datasets\n",
        "from sklearn.preprocessing import StandardScaler\n",
        "# Load data with only two classes\n",
        "iris = datasets.load_iris()\n",
        "features = iris.data[:100,:]\n",
        "target = iris.target[:100]\n",
        "# Standardize features\n",
        "scaler = StandardScaler()\n",
        "features_standardized = scaler.fit_transform(features)"
      ]
    },
    {
      "cell_type": "markdown",
      "source": [
        "# "
      ],
      "metadata": {
        "id": "8zjjetkPPCB0"
      }
    }
  ]
}