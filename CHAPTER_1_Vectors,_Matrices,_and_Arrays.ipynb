{
  "nbformat": 4,
  "nbformat_minor": 0,
  "metadata": {
    "colab": {
      "provenance": [],
      "collapsed_sections": [
        "hB2j7jZG8ijT",
        "tS7-LTjK-loN",
        "F6CqB8QO_VQp",
        "MYMtwjizAPRI",
        "9BaUFSLHBDgM",
        "-Car0cMQBgoa",
        "9Fun53BjCSWM",
        "1KK954jxDD0j",
        "6YRmRf17Fe-W",
        "CxuSkBfXF9mz",
        "F8IR-nJeVbO1"
      ],
      "authorship_tag": "ABX9TyNK2jSPln3M+tus/LWRbc26",
      "include_colab_link": true
    },
    "kernelspec": {
      "name": "python3",
      "display_name": "Python 3"
    },
    "language_info": {
      "name": "python"
    }
  },
  "cells": [
    {
      "cell_type": "markdown",
      "metadata": {
        "id": "view-in-github",
        "colab_type": "text"
      },
      "source": [
        "<a href=\"https://colab.research.google.com/github/BlackCode20146231/Machine-Learning/blob/main/CHAPTER_1_Vectors%2C_Matrices%2C_and_Arrays.ipynb\" target=\"_parent\"><img src=\"https://colab.research.google.com/assets/colab-badge.svg\" alt=\"Open In Colab\"/></a>"
      ]
    },
    {
      "cell_type": "markdown",
      "source": [
        "# 1.1 Creating a Vector"
      ],
      "metadata": {
        "id": "hB2j7jZG8ijT"
      }
    },
    {
      "cell_type": "markdown",
      "source": [
        "You need to create a vector.\n",
        "\n",
        "Use NumPy to create a one-dimensional array:"
      ],
      "metadata": {
        "id": "qMKymeic8mka"
      }
    },
    {
      "cell_type": "code",
      "source": [
        "# Load library\n",
        "import numpy as np\n",
        "# Create a vector as a row\n",
        "vector_row = np.array([1, 2, 3])\n",
        "# Create a vector as a column\n",
        "vector_column = np.array([[1],\n",
        "                          [2],\n",
        "                          [3]])\n",
        "print(vector_column)\n",
        "\n",
        "matrix_column = np.array([[1,2,4],[2,4,5],[3,6,7]])\n",
        "print('Matrix 3x3:\\n',matrix_column)"
      ],
      "metadata": {
        "colab": {
          "base_uri": "https://localhost:8080/"
        },
        "id": "h7gAhU1K8lYo",
        "outputId": "42bc0667-28e6-4fdd-aa58-5b0471ca1f35"
      },
      "execution_count": 20,
      "outputs": [
        {
          "output_type": "stream",
          "name": "stdout",
          "text": [
            "[[1]\n",
            " [2]\n",
            " [3]]\n",
            "Matrix 3x3:\n",
            " [[1 2 4]\n",
            " [2 4 5]\n",
            " [3 6 7]]\n"
          ]
        }
      ]
    },
    {
      "cell_type": "markdown",
      "source": [
        "**Discussion**"
      ],
      "metadata": {
        "id": "cpsFe6U_8sYE"
      }
    },
    {
      "cell_type": "markdown",
      "source": [
        "# 1.2 Creating a Matrix"
      ],
      "metadata": {
        "id": "tS7-LTjK-loN"
      }
    },
    {
      "cell_type": "markdown",
      "source": [
        "You need to create a matrix.\n",
        "\n",
        "Use NumPy to create a two-dimensional array:"
      ],
      "metadata": {
        "id": "3Pjqti4l-pM2"
      }
    },
    {
      "cell_type": "code",
      "source": [
        "# Load library\n",
        "import numpy as np\n",
        "# Create a matrix\n",
        "matrix = np.array([[1, 2],\n",
        " [1, 2],\n",
        " [1, 2]])\n",
        "print(matrix)"
      ],
      "metadata": {
        "colab": {
          "base_uri": "https://localhost:8080/"
        },
        "id": "RTkTmX5z-svS",
        "outputId": "08609a4e-cfb3-454a-a2d9-3e243f088db9"
      },
      "execution_count": 25,
      "outputs": [
        {
          "output_type": "stream",
          "name": "stdout",
          "text": [
            "[[1 2]\n",
            " [1 2]\n",
            " [1 2]]\n"
          ]
        }
      ]
    },
    {
      "cell_type": "markdown",
      "source": [
        "**Discussion**"
      ],
      "metadata": {
        "id": "p2uSfJT9-yLT"
      }
    },
    {
      "cell_type": "markdown",
      "source": [
        "NumPy actually has a dedicated matrix data structure:"
      ],
      "metadata": {
        "id": "y41ROnf7_SC6"
      }
    },
    {
      "cell_type": "code",
      "source": [
        "matrix_object = np.mat([[1, 2],\n",
        " [1, 2],\n",
        " [1, 2]])\n",
        "print(matrix_object)"
      ],
      "metadata": {
        "colab": {
          "base_uri": "https://localhost:8080/"
        },
        "id": "UsdWXc2x-w0m",
        "outputId": "2e85b9ad-1480-490f-a62d-93d89c29cb65"
      },
      "execution_count": 26,
      "outputs": [
        {
          "output_type": "stream",
          "name": "stdout",
          "text": [
            "[[1 2]\n",
            " [1 2]\n",
            " [1 2]]\n"
          ]
        }
      ]
    },
    {
      "cell_type": "markdown",
      "source": [],
      "metadata": {
        "id": "We3D33ey_VJX"
      }
    },
    {
      "cell_type": "markdown",
      "source": [
        "# 1.3 Creating a Sparse Matrix"
      ],
      "metadata": {
        "id": "F6CqB8QO_VQp"
      }
    },
    {
      "cell_type": "markdown",
      "source": [
        "Given data with very few nonzero values, you want to efficiently represent it.\n",
        "\n",
        "Create a sparse matrix:"
      ],
      "metadata": {
        "id": "Na3V_cIt_YnH"
      }
    },
    {
      "cell_type": "code",
      "source": [
        "# Load libraries\n",
        "import numpy as np\n",
        "from scipy import sparse\n",
        "# Create a matrix\n",
        "matrix = np.array([[0, 0],\n",
        " [0, 1],\n",
        " [3, 0]])\n",
        "# Create compressed sparse row (CSR) matrix\n",
        "matrix_sparse = sparse.csr_matrix(matrix)\n",
        "# View sparse matrix\n",
        "print(matrix_sparse)"
      ],
      "metadata": {
        "colab": {
          "base_uri": "https://localhost:8080/"
        },
        "id": "wbvquBRf_cQo",
        "outputId": "c8720d8c-bdba-48f1-92c9-4082df2b4c17"
      },
      "execution_count": 29,
      "outputs": [
        {
          "output_type": "stream",
          "name": "stdout",
          "text": [
            "  (1, 1)\t1\n",
            "  (2, 0)\t3\n"
          ]
        }
      ]
    },
    {
      "cell_type": "code",
      "source": [
        "# Create larger matrix\n",
        "matrix_large = np.array([[0, 0, 0, 0, 0, 0, 0, 0, 0, 0],\n",
        " [0, 1, 0, 0, 0, 0, 0, 0, 0, 0],\n",
        " [3, 0, 0, 0, 0, 0, 0, 0, 0, 0]])\n",
        "# View larger matrix\n",
        "print(matrix_large)"
      ],
      "metadata": {
        "colab": {
          "base_uri": "https://localhost:8080/"
        },
        "id": "FUpdZuqP_kOV",
        "outputId": "606d219b-26ff-4ef0-fc2b-b7e23e6241b2"
      },
      "execution_count": 40,
      "outputs": [
        {
          "output_type": "stream",
          "name": "stdout",
          "text": [
            "[[0 0 0 0 0 0 0 0 0 0]\n",
            " [0 1 0 0 0 0 0 0 0 0]\n",
            " [3 0 0 0 0 0 0 0 0 0]]\n"
          ]
        }
      ]
    },
    {
      "cell_type": "code",
      "source": [
        "# Create compressed sparse row (CSR) matrix\n",
        "matrix_large_sparse = sparse.csr_matrix(matrix_large)\n",
        "# View original sparse matrix\n",
        "print(matrix_sparse,'\\n')\n",
        "# View larger sparse matrix\n",
        "print(matrix_large_sparse)\n"
      ],
      "metadata": {
        "colab": {
          "base_uri": "https://localhost:8080/"
        },
        "id": "PjKSzznc_wUD",
        "outputId": "03b64f68-2c52-47ea-a99f-bf653bd38758"
      },
      "execution_count": 41,
      "outputs": [
        {
          "output_type": "stream",
          "name": "stdout",
          "text": [
            "  (1, 1)\t1\n",
            "  (2, 0)\t3 \n",
            "\n",
            "  (1, 1)\t1\n",
            "  (2, 0)\t3\n"
          ]
        }
      ]
    },
    {
      "cell_type": "markdown",
      "source": [
        "# 1.4 Selecting Elements\n"
      ],
      "metadata": {
        "id": "MYMtwjizAPRI"
      }
    },
    {
      "cell_type": "markdown",
      "source": [
        "You need to select one or more elements in a vector or matrix.\n",
        "\n",
        "NumPy’s arrays make that easy:\n"
      ],
      "metadata": {
        "id": "YKjLXkwaAVKo"
      }
    },
    {
      "cell_type": "code",
      "source": [
        "# Load library\n",
        "import numpy as np\n",
        "# Create row vector\n",
        "vector = np.array([1, 2, 3, 4, 5, 6])\n",
        "# Create matrix\n",
        "matrix = np.array([[1, 2, 3],\n",
        " [4, 5, 6],\n",
        " [7, 8, 9]])"
      ],
      "metadata": {
        "id": "gLu2g8ELAXbc"
      },
      "execution_count": 43,
      "outputs": []
    },
    {
      "cell_type": "code",
      "source": [
        "# Select third element of vector\n",
        "vector[2]"
      ],
      "metadata": {
        "colab": {
          "base_uri": "https://localhost:8080/"
        },
        "id": "fUO3e8GnAb2F",
        "outputId": "05a2d047-fd58-4690-9f2a-09f56335d617"
      },
      "execution_count": 44,
      "outputs": [
        {
          "output_type": "execute_result",
          "data": {
            "text/plain": [
              "3"
            ]
          },
          "metadata": {},
          "execution_count": 44
        }
      ]
    },
    {
      "cell_type": "code",
      "source": [
        "# Select second row, second column\n",
        "matrix[1,1]"
      ],
      "metadata": {
        "colab": {
          "base_uri": "https://localhost:8080/"
        },
        "id": "-XrJX1a8AeD2",
        "outputId": "2f37d501-1fb0-4a3c-85f9-4643e72c418f"
      },
      "execution_count": 45,
      "outputs": [
        {
          "output_type": "execute_result",
          "data": {
            "text/plain": [
              "5"
            ]
          },
          "metadata": {},
          "execution_count": 45
        }
      ]
    },
    {
      "cell_type": "markdown",
      "source": [
        "**Discussion**"
      ],
      "metadata": {
        "id": "FRNxtraKAgbQ"
      }
    },
    {
      "cell_type": "code",
      "source": [
        "# Select all elements of a vector\n",
        "vector[:]"
      ],
      "metadata": {
        "colab": {
          "base_uri": "https://localhost:8080/"
        },
        "id": "DwcNexdpAjJc",
        "outputId": "dcb3cb88-c7f9-4026-e1f6-d23d6ca6e763"
      },
      "execution_count": 46,
      "outputs": [
        {
          "output_type": "execute_result",
          "data": {
            "text/plain": [
              "array([1, 2, 3, 4, 5, 6])"
            ]
          },
          "metadata": {},
          "execution_count": 46
        }
      ]
    },
    {
      "cell_type": "code",
      "source": [
        "# Select everything up to and including the third element\n",
        "vector[:3]"
      ],
      "metadata": {
        "colab": {
          "base_uri": "https://localhost:8080/"
        },
        "id": "QHxeKdlWAmh6",
        "outputId": "339c8624-c49d-4b47-ad67-85d19662a6e6"
      },
      "execution_count": 47,
      "outputs": [
        {
          "output_type": "execute_result",
          "data": {
            "text/plain": [
              "array([1, 2, 3])"
            ]
          },
          "metadata": {},
          "execution_count": 47
        }
      ]
    },
    {
      "cell_type": "code",
      "source": [
        "# Select everything after the third element\n",
        "vector[3:]"
      ],
      "metadata": {
        "colab": {
          "base_uri": "https://localhost:8080/"
        },
        "id": "ddABaGZzAn3k",
        "outputId": "bee93388-f3f6-433b-818b-2cd4b5c5def4"
      },
      "execution_count": 48,
      "outputs": [
        {
          "output_type": "execute_result",
          "data": {
            "text/plain": [
              "array([4, 5, 6])"
            ]
          },
          "metadata": {},
          "execution_count": 48
        }
      ]
    },
    {
      "cell_type": "code",
      "source": [
        "# Select the last element\n",
        "vector[-1]"
      ],
      "metadata": {
        "colab": {
          "base_uri": "https://localhost:8080/"
        },
        "id": "0GXhrSqXAtMt",
        "outputId": "55199ec0-f9ae-485c-c138-38c4062bbe89"
      },
      "execution_count": 49,
      "outputs": [
        {
          "output_type": "execute_result",
          "data": {
            "text/plain": [
              "6"
            ]
          },
          "metadata": {},
          "execution_count": 49
        }
      ]
    },
    {
      "cell_type": "code",
      "source": [
        "# Select the first two rows and all columns of a matrix\n",
        "matrix[:2,:]"
      ],
      "metadata": {
        "colab": {
          "base_uri": "https://localhost:8080/"
        },
        "id": "QyuLMpirAwQO",
        "outputId": "ded7b841-70ad-48ca-8c46-648fb7f6ae6e"
      },
      "execution_count": 50,
      "outputs": [
        {
          "output_type": "execute_result",
          "data": {
            "text/plain": [
              "array([[1, 2, 3],\n",
              "       [4, 5, 6]])"
            ]
          },
          "metadata": {},
          "execution_count": 50
        }
      ]
    },
    {
      "cell_type": "code",
      "source": [
        "# Select all rows and the second column\n",
        "print(matrix,'\\n')\n",
        "matrix[:,1:2]"
      ],
      "metadata": {
        "colab": {
          "base_uri": "https://localhost:8080/"
        },
        "id": "1Hj1Q2GfAyTY",
        "outputId": "21bb3f88-5d5b-447c-8315-899b5779d455"
      },
      "execution_count": 53,
      "outputs": [
        {
          "output_type": "stream",
          "name": "stdout",
          "text": [
            "[[1 2 3]\n",
            " [4 5 6]\n",
            " [7 8 9]] \n",
            "\n"
          ]
        },
        {
          "output_type": "execute_result",
          "data": {
            "text/plain": [
              "array([[2],\n",
              "       [5],\n",
              "       [8]])"
            ]
          },
          "metadata": {},
          "execution_count": 53
        }
      ]
    },
    {
      "cell_type": "markdown",
      "source": [
        "# 1.5 Describing a Matrix"
      ],
      "metadata": {
        "id": "9BaUFSLHBDgM"
      }
    },
    {
      "cell_type": "markdown",
      "source": [
        "You want to describe the shape, size, and dimensions of the matrix.\n",
        "\n",
        "Use shape, size, and ndim:"
      ],
      "metadata": {
        "id": "xGYfXtk3BGpm"
      }
    },
    {
      "cell_type": "code",
      "source": [
        "# Load library\n",
        "import numpy as np\n",
        "# Create matrix\n",
        "matrix = np.array([[1, 2, 3, 4],\n",
        " [5, 6, 7, 8],\n",
        " [9, 10, 11, 12]])"
      ],
      "metadata": {
        "id": "3a7-0BjPBEzM"
      },
      "execution_count": 57,
      "outputs": []
    },
    {
      "cell_type": "code",
      "source": [
        "# View number of rows and columns\n",
        "matrix.shape"
      ],
      "metadata": {
        "colab": {
          "base_uri": "https://localhost:8080/"
        },
        "id": "GUs2AfB7BSrg",
        "outputId": "f296e9be-d3f5-4ada-8838-85bcae50f600"
      },
      "execution_count": 58,
      "outputs": [
        {
          "output_type": "execute_result",
          "data": {
            "text/plain": [
              "(3, 4)"
            ]
          },
          "metadata": {},
          "execution_count": 58
        }
      ]
    },
    {
      "cell_type": "code",
      "source": [
        "# View number of elements (rows * columns)\n",
        "matrix.size"
      ],
      "metadata": {
        "colab": {
          "base_uri": "https://localhost:8080/"
        },
        "id": "YkC-5Sr1BXnq",
        "outputId": "16673202-88a7-43a1-c480-60208faaaf63"
      },
      "execution_count": 59,
      "outputs": [
        {
          "output_type": "execute_result",
          "data": {
            "text/plain": [
              "12"
            ]
          },
          "metadata": {},
          "execution_count": 59
        }
      ]
    },
    {
      "cell_type": "code",
      "source": [
        "# View number of dimensions\n",
        "matrix.ndim"
      ],
      "metadata": {
        "colab": {
          "base_uri": "https://localhost:8080/"
        },
        "id": "Fnx2WXygBZiS",
        "outputId": "f35d73eb-5d1f-4a77-a48f-f956c035d639"
      },
      "execution_count": 60,
      "outputs": [
        {
          "output_type": "execute_result",
          "data": {
            "text/plain": [
              "2"
            ]
          },
          "metadata": {},
          "execution_count": 60
        }
      ]
    },
    {
      "cell_type": "markdown",
      "source": [
        "# 1.6 Applying Operations to Elements"
      ],
      "metadata": {
        "id": "-Car0cMQBgoa"
      }
    },
    {
      "cell_type": "markdown",
      "source": [
        "You want to apply some function to multiple elements in an array\n",
        "\n",
        "Use NumPy’s vectorize:"
      ],
      "metadata": {
        "id": "cHq1Fm_DBsO7"
      }
    },
    {
      "cell_type": "code",
      "source": [
        "# Load library\n",
        "import numpy as np\n",
        "# Create matrix\n",
        "matrix = np.array([[1, 2, 3],\n",
        " [4, 5, 6],\n",
        " [7, 8, 9]])\n",
        "# Create function that adds 100 to something\n",
        "add_100 = lambda i: i + 100\n",
        "# Create vectorized function\n",
        "vectorized_add_100 = np.vectorize(add_100)\n",
        "# Apply function to all elements in matrix\n",
        "vectorized_add_100(matrix)"
      ],
      "metadata": {
        "colab": {
          "base_uri": "https://localhost:8080/"
        },
        "id": "dWxQTww7Bkc_",
        "outputId": "59e0d1cb-477d-41b7-b4d5-69485a25b329"
      },
      "execution_count": 61,
      "outputs": [
        {
          "output_type": "execute_result",
          "data": {
            "text/plain": [
              "array([[101, 102, 103],\n",
              "       [104, 105, 106],\n",
              "       [107, 108, 109]])"
            ]
          },
          "metadata": {},
          "execution_count": 61
        }
      ]
    },
    {
      "cell_type": "markdown",
      "source": [
        "**Discussion**\n",
        "\n",
        "    NumPy’s vectorize class converts a function into a function that can apply to all ele‐\n",
        "    ments in an array or slice of an array. It’s worth noting that vectorize is essentially a\n",
        "    for loop over the elements and does not increase performance.\n",
        "    Furthermore, NumPy arrays allow us to perform operations between arrays even if their dimensions are not\n",
        "    the same (a process called broadcasting). For example, we can create a much simpler\n",
        "    version of our solution using broadcasting:"
      ],
      "metadata": {
        "id": "vsf-623VBx0P"
      }
    },
    {
      "cell_type": "code",
      "source": [
        "# Add 100 to all elements\n",
        "matrix + 100"
      ],
      "metadata": {
        "colab": {
          "base_uri": "https://localhost:8080/"
        },
        "id": "05eXYW-XByij",
        "outputId": "e147b5bc-87bf-42de-8301-409ebfe9f3a8"
      },
      "execution_count": 62,
      "outputs": [
        {
          "output_type": "execute_result",
          "data": {
            "text/plain": [
              "array([[101, 102, 103],\n",
              "       [104, 105, 106],\n",
              "       [107, 108, 109]])"
            ]
          },
          "metadata": {},
          "execution_count": 62
        }
      ]
    },
    {
      "cell_type": "markdown",
      "source": [
        "# 1.7 Finding the Maximum and Minimum Values"
      ],
      "metadata": {
        "id": "9Fun53BjCSWM"
      }
    },
    {
      "cell_type": "markdown",
      "source": [
        "You need to find the maximum or minimum value in an array.\n",
        "\n",
        "Use NumPy’s max and min:"
      ],
      "metadata": {
        "id": "_C4IxBJ7CUU-"
      }
    },
    {
      "cell_type": "code",
      "source": [
        "# Load library\n",
        "import numpy as np\n",
        "# Create matrix\n",
        "matrix = np.array([[1, 2, 3],\n",
        " [4, 5, 6],\n",
        " [7, 8, 9]])\n",
        "# Return maximum element\n",
        "np.max(matrix)"
      ],
      "metadata": {
        "colab": {
          "base_uri": "https://localhost:8080/"
        },
        "id": "NEWYJ9hqCWkG",
        "outputId": "d1828141-cedf-4e46-dfe0-d186c351fcc6"
      },
      "execution_count": 64,
      "outputs": [
        {
          "output_type": "execute_result",
          "data": {
            "text/plain": [
              "9"
            ]
          },
          "metadata": {},
          "execution_count": 64
        }
      ]
    },
    {
      "cell_type": "code",
      "source": [
        "# Return minimum element\n",
        "print(matrix)\n",
        "np.min(matrix)"
      ],
      "metadata": {
        "colab": {
          "base_uri": "https://localhost:8080/"
        },
        "id": "cUoO_LrTCcBY",
        "outputId": "7962a490-be6e-48a2-cd1d-1381fc9f1e7f"
      },
      "execution_count": 68,
      "outputs": [
        {
          "output_type": "stream",
          "name": "stdout",
          "text": [
            "[[1 2 3]\n",
            " [4 5 6]\n",
            " [7 8 9]]\n"
          ]
        },
        {
          "output_type": "execute_result",
          "data": {
            "text/plain": [
              "1"
            ]
          },
          "metadata": {},
          "execution_count": 68
        }
      ]
    },
    {
      "cell_type": "markdown",
      "source": [
        "**Discussion**\n",
        "\n",
        "    Often we want to know the maximum and minimum value in an array or subset of an\n",
        "    array. This can be accomplished with the max and min methods. Using the axis\n",
        "    parameter we can also apply the operation along a certain axis:"
      ],
      "metadata": {
        "id": "hdfZjZs4ChrA"
      }
    },
    {
      "cell_type": "code",
      "source": [
        "# Find maximum element in each column\n",
        "print(matrix)\n",
        "np.max(matrix, axis=0) #0 = each column"
      ],
      "metadata": {
        "colab": {
          "base_uri": "https://localhost:8080/"
        },
        "id": "OmKeuLFuCiZp",
        "outputId": "b496db53-4d04-456d-a897-ed8442037d92"
      },
      "execution_count": 67,
      "outputs": [
        {
          "output_type": "stream",
          "name": "stdout",
          "text": [
            "[[1 2 3]\n",
            " [4 5 6]\n",
            " [7 8 9]]\n"
          ]
        },
        {
          "output_type": "execute_result",
          "data": {
            "text/plain": [
              "array([7, 8, 9])"
            ]
          },
          "metadata": {},
          "execution_count": 67
        }
      ]
    },
    {
      "cell_type": "code",
      "source": [
        "# Find maximum element in each row\n",
        "np.max(matrix, axis=1) #1 = each row"
      ],
      "metadata": {
        "colab": {
          "base_uri": "https://localhost:8080/"
        },
        "id": "Gc3hsIqoC4Qk",
        "outputId": "fc72d31a-5445-4e5d-f748-6e79b0fba1ab"
      },
      "execution_count": 69,
      "outputs": [
        {
          "output_type": "execute_result",
          "data": {
            "text/plain": [
              "array([3, 6, 9])"
            ]
          },
          "metadata": {},
          "execution_count": 69
        }
      ]
    },
    {
      "cell_type": "markdown",
      "source": [
        "# 1.8 Calculating the Average, Variance, and Standard Deviation"
      ],
      "metadata": {
        "id": "1KK954jxDD0j"
      }
    },
    {
      "cell_type": "markdown",
      "source": [
        "You want to calculate some descriptive statistics about an array\n",
        "\n",
        "Use NumPy’s mean, var, and std:"
      ],
      "metadata": {
        "id": "YUJ7eNLtDIyf"
      }
    },
    {
      "cell_type": "code",
      "source": [
        "# Load library\n",
        "import numpy as np\n",
        "# Create matrix\n",
        "matrix = np.array([[1, 2, 3],\n",
        " [4, 5, 6],\n",
        " [7, 8, 9]])"
      ],
      "metadata": {
        "id": "SCD9P2t8DCex"
      },
      "execution_count": 70,
      "outputs": []
    },
    {
      "cell_type": "code",
      "source": [
        "# Return mean (trung bình có trọng số của tất cả các giá trị)\n",
        "np.mean(matrix)"
      ],
      "metadata": {
        "colab": {
          "base_uri": "https://localhost:8080/"
        },
        "id": "67aO2Hi1DNeW",
        "outputId": "c1a88fc5-df81-4725-b587-81f7ad72651c"
      },
      "execution_count": 71,
      "outputs": [
        {
          "output_type": "execute_result",
          "data": {
            "text/plain": [
              "5.0"
            ]
          },
          "metadata": {},
          "execution_count": 71
        }
      ]
    },
    {
      "cell_type": "code",
      "source": [
        "# Return variance (Phương sai)\n",
        "np.var(matrix)"
      ],
      "metadata": {
        "colab": {
          "base_uri": "https://localhost:8080/"
        },
        "id": "2uoEvRrZDPL9",
        "outputId": "4f3ac0c1-dde0-493a-8cd6-fa1c75a91994"
      },
      "execution_count": 72,
      "outputs": [
        {
          "output_type": "execute_result",
          "data": {
            "text/plain": [
              "6.666666666666667"
            ]
          },
          "metadata": {},
          "execution_count": 72
        }
      ]
    },
    {
      "cell_type": "code",
      "source": [
        "# Return standard deviation (Độ lệch chuẩn)\n",
        "np.std(matrix)"
      ],
      "metadata": {
        "colab": {
          "base_uri": "https://localhost:8080/"
        },
        "id": "EjUShkroDc_U",
        "outputId": "71c5f6e8-3591-4865-dc3d-59d60cf922da"
      },
      "execution_count": 73,
      "outputs": [
        {
          "output_type": "execute_result",
          "data": {
            "text/plain": [
              "2.581988897471611"
            ]
          },
          "metadata": {},
          "execution_count": 73
        }
      ]
    },
    {
      "cell_type": "markdown",
      "source": [
        "**Discussion**"
      ],
      "metadata": {
        "id": "qPpXo2Q6Dnb0"
      }
    },
    {
      "cell_type": "code",
      "source": [
        "# Find the mean value in each column\n",
        "np.mean(matrix, axis=0)\n"
      ],
      "metadata": {
        "colab": {
          "base_uri": "https://localhost:8080/"
        },
        "id": "57K8vLDnDlMo",
        "outputId": "89a77872-17d0-42d5-94d4-0109a0f44c74"
      },
      "execution_count": 76,
      "outputs": [
        {
          "output_type": "execute_result",
          "data": {
            "text/plain": [
              "array([4., 5., 6.])"
            ]
          },
          "metadata": {},
          "execution_count": 76
        }
      ]
    },
    {
      "cell_type": "code",
      "source": [
        "# Find the mean value in each row\n",
        "np.mean(matrix, axis=1)\n"
      ],
      "metadata": {
        "colab": {
          "base_uri": "https://localhost:8080/"
        },
        "id": "zgVT2zf7E8Zf",
        "outputId": "80cc12f0-772d-4d87-dc5b-0c881b00557f"
      },
      "execution_count": 79,
      "outputs": [
        {
          "output_type": "execute_result",
          "data": {
            "text/plain": [
              "array([2., 5., 8.])"
            ]
          },
          "metadata": {},
          "execution_count": 79
        }
      ]
    },
    {
      "cell_type": "code",
      "source": [
        "# Find the variance value in each column\n",
        "np.var(matrix, axis=0)"
      ],
      "metadata": {
        "colab": {
          "base_uri": "https://localhost:8080/"
        },
        "id": "j58z-WyhEx7O",
        "outputId": "75223a07-1f65-47bc-b748-07da9eed8383"
      },
      "execution_count": 80,
      "outputs": [
        {
          "output_type": "execute_result",
          "data": {
            "text/plain": [
              "array([6., 6., 6.])"
            ]
          },
          "metadata": {},
          "execution_count": 80
        }
      ]
    },
    {
      "cell_type": "code",
      "source": [
        "# Find the variance value in each row\n",
        "np.var(matrix, axis=1)"
      ],
      "metadata": {
        "colab": {
          "base_uri": "https://localhost:8080/"
        },
        "id": "91k_E_LbFAQ3",
        "outputId": "ecafeddf-cb96-4be6-bfa0-0a64d6f0c97b"
      },
      "execution_count": 81,
      "outputs": [
        {
          "output_type": "execute_result",
          "data": {
            "text/plain": [
              "array([0.66666667, 0.66666667, 0.66666667])"
            ]
          },
          "metadata": {},
          "execution_count": 81
        }
      ]
    },
    {
      "cell_type": "code",
      "source": [
        "# Find the standard deviation value in each column\n",
        "np.std(matrix, axis=0)"
      ],
      "metadata": {
        "colab": {
          "base_uri": "https://localhost:8080/"
        },
        "id": "JD5L-wjlEy8L",
        "outputId": "b881e161-9553-40e3-9ed2-f938b032c4b0"
      },
      "execution_count": 78,
      "outputs": [
        {
          "output_type": "execute_result",
          "data": {
            "text/plain": [
              "array([2.44948974, 2.44948974, 2.44948974])"
            ]
          },
          "metadata": {},
          "execution_count": 78
        }
      ]
    },
    {
      "cell_type": "code",
      "source": [
        "# Find the standard deviation value in each row\n",
        "np.std(matrix, axis=1)"
      ],
      "metadata": {
        "colab": {
          "base_uri": "https://localhost:8080/"
        },
        "id": "5Q1oycPGFEEV",
        "outputId": "2dfc7123-d65f-44fe-d9cf-94169a7d5332"
      },
      "execution_count": 82,
      "outputs": [
        {
          "output_type": "execute_result",
          "data": {
            "text/plain": [
              "array([0.81649658, 0.81649658, 0.81649658])"
            ]
          },
          "metadata": {},
          "execution_count": 82
        }
      ]
    },
    {
      "cell_type": "markdown",
      "source": [
        "# 1.9 Reshaping Arrays"
      ],
      "metadata": {
        "id": "6YRmRf17Fe-W"
      }
    },
    {
      "cell_type": "markdown",
      "source": [
        "You want to change the shape (number of rows and columns) of an array without\n",
        "changing the element values.\n",
        "\n",
        "Use NumPy’s reshape:"
      ],
      "metadata": {
        "id": "ch12rmhzFjxR"
      }
    },
    {
      "cell_type": "code",
      "source": [
        "# Load library\n",
        "import numpy as np\n",
        "# Create 4x3 matrix\n",
        "matrix = np.array([[1, 2, 3],\n",
        " [4, 5, 6],\n",
        " [7, 8, 9],\n",
        " [10, 11, 12]])\n",
        "# Reshape matrix into 2x6 matrix\n",
        "matrix.reshape(2, 6)"
      ],
      "metadata": {
        "colab": {
          "base_uri": "https://localhost:8080/"
        },
        "id": "rn8pkzQxFhOb",
        "outputId": "f9a0f2b6-efea-47dc-f88b-376bc7b5f803"
      },
      "execution_count": 84,
      "outputs": [
        {
          "output_type": "execute_result",
          "data": {
            "text/plain": [
              "array([[ 1,  2,  3,  4,  5,  6],\n",
              "       [ 7,  8,  9, 10, 11, 12]])"
            ]
          },
          "metadata": {},
          "execution_count": 84
        }
      ]
    },
    {
      "cell_type": "markdown",
      "source": [
        "**Discussion**"
      ],
      "metadata": {
        "id": "y7erWgXJFrK2"
      }
    },
    {
      "cell_type": "code",
      "source": [
        "# We can see the size of a matrix using size\n",
        "matrix.size"
      ],
      "metadata": {
        "colab": {
          "base_uri": "https://localhost:8080/"
        },
        "id": "FxQWhGDYFsLN",
        "outputId": "72ff5b83-2343-4c9d-944f-9c21e6d2270b"
      },
      "execution_count": 91,
      "outputs": [
        {
          "output_type": "execute_result",
          "data": {
            "text/plain": [
              "12"
            ]
          },
          "metadata": {},
          "execution_count": 91
        }
      ]
    },
    {
      "cell_type": "code",
      "source": [
        "#reshape(-1, 1) means one row and as many columns as needed:\n",
        "matrix.reshape(1, -1)"
      ],
      "metadata": {
        "colab": {
          "base_uri": "https://localhost:8080/"
        },
        "id": "0VUFnNMaFwWd",
        "outputId": "dbd259a0-113a-47ad-83cf-7c61f58a7efc"
      },
      "execution_count": 90,
      "outputs": [
        {
          "output_type": "execute_result",
          "data": {
            "text/plain": [
              "array([[ 1,  2,  3,  4,  5,  6,  7,  8,  9, 10, 11, 12]])"
            ]
          },
          "metadata": {},
          "execution_count": 90
        }
      ]
    },
    {
      "cell_type": "code",
      "source": [
        "#Finally, if we provide one integer, reshape will return a 1D array of that length:\n",
        "matrix.reshape(12)"
      ],
      "metadata": {
        "colab": {
          "base_uri": "https://localhost:8080/"
        },
        "id": "xZVkkRsBF1Bd",
        "outputId": "2d2c01f7-ac9e-473e-f340-678859d0db3c"
      },
      "execution_count": 92,
      "outputs": [
        {
          "output_type": "execute_result",
          "data": {
            "text/plain": [
              "array([ 1,  2,  3,  4,  5,  6,  7,  8,  9, 10, 11, 12])"
            ]
          },
          "metadata": {},
          "execution_count": 92
        }
      ]
    },
    {
      "cell_type": "markdown",
      "source": [
        "# 1.10 Transposing a Vector or Matrix"
      ],
      "metadata": {
        "id": "CxuSkBfXF9mz"
      }
    },
    {
      "cell_type": "markdown",
      "source": [
        "You need to transpose a vector or matrix.\n",
        "\n",
        "Use the T method:"
      ],
      "metadata": {
        "id": "h76Z7ovvGBm_"
      }
    },
    {
      "cell_type": "code",
      "source": [
        "# Load library\n",
        "import numpy as np\n",
        "# Create matrix\n",
        "matrix = np.array([[1, 2, 3],\n",
        " [4, 5, 6],\n",
        " [7, 8, 9]])\n",
        "# Transpose matrix\n",
        "matrix.T"
      ],
      "metadata": {
        "colab": {
          "base_uri": "https://localhost:8080/"
        },
        "id": "ewRmqt9RGEjG",
        "outputId": "53afed60-31d4-40e4-eae1-e45516a8b9f2"
      },
      "execution_count": 93,
      "outputs": [
        {
          "output_type": "execute_result",
          "data": {
            "text/plain": [
              "array([[1, 4, 7],\n",
              "       [2, 5, 8],\n",
              "       [3, 6, 9]])"
            ]
          },
          "metadata": {},
          "execution_count": 93
        }
      ]
    },
    {
      "cell_type": "markdown",
      "source": [
        "**Discussion**"
      ],
      "metadata": {
        "id": "RSErQed3GIrs"
      }
    },
    {
      "cell_type": "code",
      "source": [
        "# Transpose vector\n",
        "np.array([1, 2, 3, 4, 5, 6]).T"
      ],
      "metadata": {
        "colab": {
          "base_uri": "https://localhost:8080/"
        },
        "id": "krsbhRWJGJ6q",
        "outputId": "f481fd0a-1477-40f3-b468-7fdbf2f89a5e"
      },
      "execution_count": 94,
      "outputs": [
        {
          "output_type": "execute_result",
          "data": {
            "text/plain": [
              "array([1, 2, 3, 4, 5, 6])"
            ]
          },
          "metadata": {},
          "execution_count": 94
        }
      ]
    },
    {
      "cell_type": "code",
      "source": [
        "# Tranpose row vector\n",
        "np.array([[1, 2, 3, 4, 5, 6]]).T"
      ],
      "metadata": {
        "colab": {
          "base_uri": "https://localhost:8080/"
        },
        "id": "mB4lUo01VWl7",
        "outputId": "b868c094-9649-4917-d6db-16f4574ec459"
      },
      "execution_count": 95,
      "outputs": [
        {
          "output_type": "execute_result",
          "data": {
            "text/plain": [
              "array([[1],\n",
              "       [2],\n",
              "       [3],\n",
              "       [4],\n",
              "       [5],\n",
              "       [6]])"
            ]
          },
          "metadata": {},
          "execution_count": 95
        }
      ]
    },
    {
      "cell_type": "markdown",
      "source": [
        "# 1.11 Flattening a Matrix (làm phẳng một ma trận)\n"
      ],
      "metadata": {
        "id": "F8IR-nJeVbO1"
      }
    },
    {
      "cell_type": "markdown",
      "source": [
        "You need to transform a matrix into a one-dimensional array\n",
        "\n",
        "Use flatten:\n",
        "gần giống 1.9 Reshaping Arrays\n",
        "flatten is a simple method to transform a matrix into a one-dimensional array.\n",
        "Alternatively, we can use reshape to create a row vector"
      ],
      "metadata": {
        "id": "ZBIbtr0yVgPt"
      }
    },
    {
      "cell_type": "code",
      "source": [
        "# Load library\n",
        "import numpy as np\n",
        "# Create matrix\n",
        "matrix = np.array([[1, 2, 3],\n",
        " [4, 5, 6],\n",
        " [7, 8, 9]])\n",
        "# Flatten matrix\n",
        "matrix.flatten()"
      ],
      "metadata": {
        "colab": {
          "base_uri": "https://localhost:8080/"
        },
        "id": "5HOAIBHVVc7N",
        "outputId": "9e108d03-4f10-4e93-fab5-5d1711427f2c"
      },
      "execution_count": 99,
      "outputs": [
        {
          "output_type": "execute_result",
          "data": {
            "text/plain": [
              "array([1, 2, 3, 4, 5, 6, 7, 8, 9])"
            ]
          },
          "metadata": {},
          "execution_count": 99
        }
      ]
    },
    {
      "cell_type": "code",
      "source": [
        "#reshape(-1, 1) means one row and as many columns as needed:\n",
        "matrix.reshape(1, -1)"
      ],
      "metadata": {
        "colab": {
          "base_uri": "https://localhost:8080/"
        },
        "id": "jZZtBUpmVfzY",
        "outputId": "5f8330f4-3536-41f8-cdfc-917aefa4aa82"
      },
      "execution_count": 101,
      "outputs": [
        {
          "output_type": "execute_result",
          "data": {
            "text/plain": [
              "array([[1, 2, 3, 4, 5, 6, 7, 8, 9]])"
            ]
          },
          "metadata": {},
          "execution_count": 101
        }
      ]
    },
    {
      "cell_type": "markdown",
      "source": [
        "# 1.12 Finding the Rank of a Matrix"
      ],
      "metadata": {
        "id": "9Fq4hjtTWvjF"
      }
    },
    {
      "cell_type": "markdown",
      "source": [
        "You need to know the rank of a matrix.\n",
        "\n",
        "    Trong đại số tuyến tính, hạng của một ma trận A \n",
        "    [_là số chiều của không gian vectơ được sinh bởi các vectơ cột của nó_] \n",
        "    Điều này tương đương với số cột độc lập tuyến tính tối đa của A,\n",
        "    và như vậy, cũng chính là số chiều của không gian \n",
        "    vectơ sinh bởi các hàng của ma trận trên.\n",
        "\n",
        "Use NumPy’s linear algebra method matrix_rank:"
      ],
      "metadata": {
        "id": "eWijtG__W0oJ"
      }
    },
    {
      "cell_type": "code",
      "source": [
        "import numpy as np\n",
        "# Create matrix\n",
        "matrix = np.array([[1, 1, 1],\n",
        " [1, 1, 10],\n",
        " [1, 1, 15]])\n",
        "# Return matrix rank\n",
        "np.linalg.matrix_rank(matrix)"
      ],
      "metadata": {
        "colab": {
          "base_uri": "https://localhost:8080/"
        },
        "id": "DOb21erGWqg8",
        "outputId": "a250b0fc-bed3-47ac-f2ed-f3527bf18f49"
      },
      "execution_count": 102,
      "outputs": [
        {
          "output_type": "execute_result",
          "data": {
            "text/plain": [
              "2"
            ]
          },
          "metadata": {},
          "execution_count": 102
        }
      ]
    },
    {
      "cell_type": "markdown",
      "source": [
        "# 1.13 Calculating the Determinant (Định thức)\n",
        "\n"
      ],
      "metadata": {
        "id": "_Ch8Y_isXe1d"
      }
    },
    {
      "cell_type": "markdown",
      "source": [
        "You need to know the determinant of a matrix.\n",
        "\n",
        "Use NumPy’s linear algebra method det:\n",
        "\n",
        "    Định thức, trong đại số tuyến tính, là một hàm cho mỗi ma trận vuông A, tương ứng với số vô hướng, ký hiệu là det.\n",
        "    Ý nghĩa hình học của định thức là tỷ lệ xích cho thể tích khi A được coi là một biến đổi tuyến tính. \n",
        "    Định thức được sử dụng để giải các hệ phương trình đại số tuyến tính."
      ],
      "metadata": {
        "id": "BjiK6yVVXj-P"
      }
    },
    {
      "cell_type": "code",
      "source": [
        "# Load library\n",
        "import numpy as np\n",
        "# Create matrix\n",
        "matrix = np.array([[1, 2, 3],\n",
        " [2, 4, 6],\n",
        " [3, 8, 9]])\n",
        "# Return determinant of matrix\n",
        "np.linalg.det(matrix)"
      ],
      "metadata": {
        "colab": {
          "base_uri": "https://localhost:8080/"
        },
        "id": "tgEA1nukXpFo",
        "outputId": "583fc65a-951c-44d0-82c8-0a1ca9f5d99c"
      },
      "execution_count": 104,
      "outputs": [
        {
          "output_type": "execute_result",
          "data": {
            "text/plain": [
              "0.0"
            ]
          },
          "metadata": {},
          "execution_count": 104
        }
      ]
    },
    {
      "cell_type": "markdown",
      "source": [
        "# 1.14 Getting the Diagonal of a Matrix (Đường chéo)\n",
        "\n"
      ],
      "metadata": {
        "id": "kAA78m6Uc_Zv"
      }
    },
    {
      "cell_type": "markdown",
      "source": [
        "You need to get the diagonal elements of a matrix.\n",
        "\n",
        "Use diagonal\n",
        "\n",
        "    Trong hình học, một đường chéo là một đoạn thẳng nối hai đỉnh của một đa giác hoặc đa diện,\n",
        "    khi những đỉnh này không nằm trên cùng một cạnh. \n",
        "    Thông thường, bất kỳ đường không nằm ở mép nào cũng được gọi là đường chéo\n",
        "\n",
        "    Trong đại số tuyến tính, một ma trận đường chéo là một ma trận trong đó các phần tử bên ngoài đường chéo chính đều bằng 0;\n",
        "    thuật ngữ này thường đề cập đến ma trận vuông. Các phần tử của đường chéo chính có thể bằng không hoặc khác không."
      ],
      "metadata": {
        "id": "54cF2Ba7h-nD"
      }
    },
    {
      "cell_type": "code",
      "source": [
        "# Load library\n",
        "import numpy as np\n",
        "# Create matrix\n",
        "matrix = np.array([[1, 2, 3],\n",
        " [2, 4, 6],\n",
        " [3, 8, 9]])\n",
        "# Return diagonal elements\n",
        "matrix.diagonal()"
      ],
      "metadata": {
        "colab": {
          "base_uri": "https://localhost:8080/"
        },
        "id": "ytrfKN2Yc-3C",
        "outputId": "3ffd28a5-b9c6-4efc-9bf1-b5715b849212"
      },
      "execution_count": 105,
      "outputs": [
        {
          "output_type": "execute_result",
          "data": {
            "text/plain": [
              "array([1, 4, 9])"
            ]
          },
          "metadata": {},
          "execution_count": 105
        }
      ]
    },
    {
      "cell_type": "code",
      "source": [
        "# Return diagonal one above the main diagonal\n",
        "matrix.diagonal(offset=1)"
      ],
      "metadata": {
        "colab": {
          "base_uri": "https://localhost:8080/"
        },
        "id": "zerzuTMAe1mN",
        "outputId": "30ca4ea9-ea26-4119-9276-31b319f77f39"
      },
      "execution_count": 106,
      "outputs": [
        {
          "output_type": "execute_result",
          "data": {
            "text/plain": [
              "array([2, 6])"
            ]
          },
          "metadata": {},
          "execution_count": 106
        }
      ]
    },
    {
      "cell_type": "code",
      "source": [
        "# Return diagonal one below the main diagonal\n",
        "matrix.diagonal(offset=-1)"
      ],
      "metadata": {
        "colab": {
          "base_uri": "https://localhost:8080/"
        },
        "id": "miKpbj_Ce3PV",
        "outputId": "b1fac8f9-1c72-47a8-d08c-43b0db74cdd7"
      },
      "execution_count": 107,
      "outputs": [
        {
          "output_type": "execute_result",
          "data": {
            "text/plain": [
              "array([2, 8])"
            ]
          },
          "metadata": {},
          "execution_count": 107
        }
      ]
    },
    {
      "cell_type": "markdown",
      "source": [
        "# 1.15 Calculating the Trace of a Matrix\n",
        "\n"
      ],
      "metadata": {
        "id": "DXrVvrS1ezuE"
      }
    },
    {
      "cell_type": "markdown",
      "source": [
        "You need to calculate the trace of a matrix.\n",
        "\n",
        "Use trace:\n",
        "\n",
        "    Trong đại số tuyến tính, vết của một ma trận vuông A bậc nxn được xác định \n",
        "    bằng tổng các phần tử trên đường chéo chính của A"
      ],
      "metadata": {
        "id": "z3VatNx3iC_S"
      }
    },
    {
      "cell_type": "code",
      "source": [
        "#Load library\n",
        "import numpy as np\n",
        "# Create matrix\n",
        "matrix = np.array([[1, 2, 3],\n",
        " [2, 4, 6],\n",
        " [3, 8, 9]])\n",
        "# Return trace\n",
        "matrix.trace()"
      ],
      "metadata": {
        "colab": {
          "base_uri": "https://localhost:8080/"
        },
        "id": "u3RVqfZdfGaT",
        "outputId": "a858cd2b-6309-495f-e77f-7affc3fd1153"
      },
      "execution_count": 109,
      "outputs": [
        {
          "output_type": "execute_result",
          "data": {
            "text/plain": [
              "14"
            ]
          },
          "metadata": {},
          "execution_count": 109
        }
      ]
    },
    {
      "cell_type": "code",
      "source": [
        "# Return diagonal and sum elements\n",
        "sum(matrix.diagonal())"
      ],
      "metadata": {
        "colab": {
          "base_uri": "https://localhost:8080/"
        },
        "id": "CHsVlv5PfLjn",
        "outputId": "b152f8d4-8fde-4674-d8a1-07019e63ae7a"
      },
      "execution_count": 110,
      "outputs": [
        {
          "output_type": "execute_result",
          "data": {
            "text/plain": [
              "14"
            ]
          },
          "metadata": {},
          "execution_count": 110
        }
      ]
    },
    {
      "cell_type": "markdown",
      "source": [
        "# 1.16 Finding Eigenvalues and  (Giá trị riêng và vectơ riêng)\n",
        "\n",
        "You need to find the eigenvalues and eigenvectors of a square matrix.\n",
        "\n",
        "Use NumPy’s linalg.eig:\n",
        "\n",
        "\n",
        "\n"
      ],
      "metadata": {
        "id": "tW3cua7efNpZ"
      }
    },
    {
      "cell_type": "code",
      "source": [
        "# Load library\n",
        "import numpy as np\n",
        "# Create matrix\n",
        "matrix = np.array([[1, -1, 3],\n",
        " [1, 1, 6],\n",
        " [3, 8, 9]])\n",
        "# Calculate eigenvalues and eigenvectors\n",
        "eigenvalues, eigenvectors = np.linalg.eig(matrix)\n",
        "# View eigenvalues\n",
        "eigenvalues\n"
      ],
      "metadata": {
        "colab": {
          "base_uri": "https://localhost:8080/"
        },
        "id": "GRy461jvfcnw",
        "outputId": "20e0e738-6a06-420a-cb90-c9c9fd2a9414"
      },
      "execution_count": 113,
      "outputs": [
        {
          "output_type": "execute_result",
          "data": {
            "text/plain": [
              "array([13.55075847,  0.74003145, -3.29078992])"
            ]
          },
          "metadata": {},
          "execution_count": 113
        }
      ]
    },
    {
      "cell_type": "code",
      "source": [
        "# View eigenvectors\n",
        "eigenvectors"
      ],
      "metadata": {
        "colab": {
          "base_uri": "https://localhost:8080/"
        },
        "id": "vUcgoG37fhOK",
        "outputId": "be39b9b5-d754-41b4-865c-688e97e30746"
      },
      "execution_count": 114,
      "outputs": [
        {
          "output_type": "execute_result",
          "data": {
            "text/plain": [
              "array([[-0.17622017, -0.96677403, -0.53373322],\n",
              "       [-0.435951  ,  0.2053623 , -0.64324848],\n",
              "       [-0.88254925,  0.15223105,  0.54896288]])"
            ]
          },
          "metadata": {},
          "execution_count": 114
        }
      ]
    },
    {
      "cell_type": "markdown",
      "source": [
        "# 1.17 Calculating Dot Products\n",
        "\n"
      ],
      "metadata": {
        "id": "kh3F1R5ffj0c"
      }
    },
    {
      "cell_type": "markdown",
      "source": [
        "You need to calculate the dot product of two vectors.\n",
        "\n",
        "Use NumPy’s dot:"
      ],
      "metadata": {
        "id": "Jz_F6M75iGUw"
      }
    },
    {
      "cell_type": "code",
      "source": [
        "\n",
        "# Load library\n",
        "import numpy as np\n",
        "# Create two vectors\n",
        "vector_a = np.array([1,2,3])\n",
        "vector_b = np.array([4,5,6])\n",
        "# Calculate dot product\n",
        "np.dot(vector_a, vector_b)"
      ],
      "metadata": {
        "colab": {
          "base_uri": "https://localhost:8080/"
        },
        "id": "zFkbeDbRfnPK",
        "outputId": "8f87990a-99c0-43dc-ff0e-faec78879e51"
      },
      "execution_count": 117,
      "outputs": [
        {
          "output_type": "execute_result",
          "data": {
            "text/plain": [
              "32"
            ]
          },
          "metadata": {},
          "execution_count": 117
        }
      ]
    },
    {
      "cell_type": "code",
      "source": [
        "# Calculate dot product\n",
        "vector_a @ vector_b"
      ],
      "metadata": {
        "colab": {
          "base_uri": "https://localhost:8080/"
        },
        "id": "Rnqhwvv8fv-v",
        "outputId": "de7a18cc-da61-4ece-a73b-a70bc2c8b140"
      },
      "execution_count": 118,
      "outputs": [
        {
          "output_type": "execute_result",
          "data": {
            "text/plain": [
              "32"
            ]
          },
          "metadata": {},
          "execution_count": 118
        }
      ]
    },
    {
      "cell_type": "markdown",
      "source": [
        "# 1.18 Adding and Subtracting Matrices\n",
        "\n",
        "\n",
        "\n"
      ],
      "metadata": {
        "id": "fC-LqKEvfxmI"
      }
    },
    {
      "cell_type": "markdown",
      "source": [
        "You need to calculate the dot product of two vectors.\n",
        "\n",
        "Use NumPy’s dot:"
      ],
      "metadata": {
        "id": "YOJM0XkPiOTi"
      }
    },
    {
      "cell_type": "code",
      "source": [
        "# Load library\n",
        "import numpy as np\n",
        "# Create matrix\n",
        "matrix_a = np.array([[1, 1, 1],\n",
        " [1, 1, 1],\n",
        " [1, 1, 2]])"
      ],
      "metadata": {
        "id": "cioOca2uf5jG"
      },
      "execution_count": 120,
      "outputs": []
    },
    {
      "cell_type": "code",
      "source": [
        "# Create matrix\n",
        "matrix_b = np.array([[1, 3, 1],\n",
        " [1, 3, 1],\n",
        " [1, 3, 8]])"
      ],
      "metadata": {
        "id": "8qG4AZx9f-pf"
      },
      "execution_count": 121,
      "outputs": []
    },
    {
      "cell_type": "code",
      "source": [
        "# Add two matrices\n",
        "np.add(matrix_a, matrix_b)"
      ],
      "metadata": {
        "colab": {
          "base_uri": "https://localhost:8080/"
        },
        "id": "0e9NDr36gANA",
        "outputId": "470178f6-0a05-4463-a797-a258fde35744"
      },
      "execution_count": 122,
      "outputs": [
        {
          "output_type": "execute_result",
          "data": {
            "text/plain": [
              "array([[ 2,  4,  2],\n",
              "       [ 2,  4,  2],\n",
              "       [ 2,  4, 10]])"
            ]
          },
          "metadata": {},
          "execution_count": 122
        }
      ]
    },
    {
      "cell_type": "code",
      "source": [
        "# Subtract two matrices\n",
        "np.subtract(matrix_a, matrix_b)"
      ],
      "metadata": {
        "colab": {
          "base_uri": "https://localhost:8080/"
        },
        "id": "mzJcBDrJgBzm",
        "outputId": "c6df65a9-acbe-441f-8294-7d307abc09e8"
      },
      "execution_count": 123,
      "outputs": [
        {
          "output_type": "execute_result",
          "data": {
            "text/plain": [
              "array([[ 0, -2,  0],\n",
              "       [ 0, -2,  0],\n",
              "       [ 0, -2, -6]])"
            ]
          },
          "metadata": {},
          "execution_count": 123
        }
      ]
    },
    {
      "cell_type": "markdown",
      "source": [
        "**Discussion**"
      ],
      "metadata": {
        "id": "sCpInQ2YgGLS"
      }
    },
    {
      "cell_type": "code",
      "source": [
        "# Add two matrices\n",
        "matrix_a + matrix_b"
      ],
      "metadata": {
        "colab": {
          "base_uri": "https://localhost:8080/"
        },
        "id": "4Zbn60etgHJ2",
        "outputId": "053469b3-c500-4163-da79-2f0b5c288338"
      },
      "execution_count": 124,
      "outputs": [
        {
          "output_type": "execute_result",
          "data": {
            "text/plain": [
              "array([[ 2,  4,  2],\n",
              "       [ 2,  4,  2],\n",
              "       [ 2,  4, 10]])"
            ]
          },
          "metadata": {},
          "execution_count": 124
        }
      ]
    },
    {
      "cell_type": "markdown",
      "source": [
        "# 1.19 Multiplying Matrices\n",
        "\n"
      ],
      "metadata": {
        "id": "gwJ0rWC4gKea"
      }
    },
    {
      "cell_type": "markdown",
      "source": [
        "You want to multiply two matrices\n",
        "\n",
        "Use NumPy’s dot:"
      ],
      "metadata": {
        "id": "pGnN57YhiTsE"
      }
    },
    {
      "cell_type": "code",
      "source": [
        "# Load library\n",
        "import numpy as np\n",
        "# Create matrix\n",
        "matrix_a = np.array([[1, 1],\n",
        " [1, 2]])\n",
        "# Create matrix\n",
        "matrix_b = np.array([[1, 3],\n",
        " [1, 2]])"
      ],
      "metadata": {
        "id": "nd-m082VgO9e"
      },
      "execution_count": 125,
      "outputs": []
    },
    {
      "cell_type": "code",
      "source": [
        "# Multiply two matrices\n",
        "np.dot(matrix_a, matrix_b)"
      ],
      "metadata": {
        "colab": {
          "base_uri": "https://localhost:8080/"
        },
        "id": "v1uWHmutgRUQ",
        "outputId": "a4aefcaf-a9b3-4dbb-fdc3-b60f4b71e250"
      },
      "execution_count": 126,
      "outputs": [
        {
          "output_type": "execute_result",
          "data": {
            "text/plain": [
              "array([[2, 5],\n",
              "       [3, 7]])"
            ]
          },
          "metadata": {},
          "execution_count": 126
        }
      ]
    },
    {
      "cell_type": "markdown",
      "source": [
        "**Discussion**"
      ],
      "metadata": {
        "id": "LazAbIZBgUCq"
      }
    },
    {
      "cell_type": "code",
      "source": [
        "# Multiply two matrices\n",
        "matrix_a @ matrix_b"
      ],
      "metadata": {
        "colab": {
          "base_uri": "https://localhost:8080/"
        },
        "id": "NuBqS9GrgUrm",
        "outputId": "98f0bb52-e5b1-43c5-b805-62d709cfedcd"
      },
      "execution_count": 127,
      "outputs": [
        {
          "output_type": "execute_result",
          "data": {
            "text/plain": [
              "array([[2, 5],\n",
              "       [3, 7]])"
            ]
          },
          "metadata": {},
          "execution_count": 127
        }
      ]
    },
    {
      "cell_type": "code",
      "source": [
        "# Multiply two matrices element-wise (Nhân hai ma trận theo từng phần tử)\n",
        "matrix_a * matrix_b"
      ],
      "metadata": {
        "colab": {
          "base_uri": "https://localhost:8080/"
        },
        "id": "oBm7jbkXgezs",
        "outputId": "e8ca5899-3903-4af5-fb36-d161e61e2853"
      },
      "execution_count": 128,
      "outputs": [
        {
          "output_type": "execute_result",
          "data": {
            "text/plain": [
              "array([[1, 3],\n",
              "       [1, 4]])"
            ]
          },
          "metadata": {},
          "execution_count": 128
        }
      ]
    },
    {
      "cell_type": "markdown",
      "source": [
        "# 1.20 Inverting a Matrix (Đảo ngược ma trận)\n",
        "\n"
      ],
      "metadata": {
        "id": "RkR6VAFggW18"
      }
    },
    {
      "cell_type": "markdown",
      "source": [
        "You want to calculate the inverse of a square matrix.\n",
        "\n",
        "Use NumPy’s linear algebra inv method:"
      ],
      "metadata": {
        "id": "elLGbH2AiZMg"
      }
    },
    {
      "cell_type": "code",
      "source": [
        "# Load library\n",
        "import numpy as np\n",
        "# Create matrix\n",
        "matrix = np.array([[1, 4],\n",
        " [2, 5]])\n",
        "# Calculate inverse of matrix\n",
        "np.linalg.inv(matrix)"
      ],
      "metadata": {
        "colab": {
          "base_uri": "https://localhost:8080/"
        },
        "id": "2FTbto_LgpRH",
        "outputId": "641c257f-8553-44d7-fc77-aba5f84d75df"
      },
      "execution_count": 129,
      "outputs": [
        {
          "output_type": "execute_result",
          "data": {
            "text/plain": [
              "array([[-1.66666667,  1.33333333],\n",
              "       [ 0.66666667, -0.33333333]])"
            ]
          },
          "metadata": {},
          "execution_count": 129
        }
      ]
    },
    {
      "cell_type": "code",
      "source": [
        "# Multiply matrix and its inverse\n",
        "matrix @ np.linalg.inv(matrix)"
      ],
      "metadata": {
        "colab": {
          "base_uri": "https://localhost:8080/"
        },
        "id": "dSfxpl0rg1Q0",
        "outputId": "37abb797-df24-44d4-8c23-bf924ba47188"
      },
      "execution_count": 130,
      "outputs": [
        {
          "output_type": "execute_result",
          "data": {
            "text/plain": [
              "array([[1.00000000e+00, 0.00000000e+00],\n",
              "       [1.11022302e-16, 1.00000000e+00]])"
            ]
          },
          "metadata": {},
          "execution_count": 130
        }
      ]
    },
    {
      "cell_type": "markdown",
      "source": [
        "# 1.21 Generating Random Values\n",
        "\n"
      ],
      "metadata": {
        "id": "SV3gG7rehEJM"
      }
    },
    {
      "cell_type": "markdown",
      "source": [
        "You want to generate pseudorandom values\n",
        "\n",
        "Use NumPy’s random:"
      ],
      "metadata": {
        "id": "35oeTuLlieTy"
      }
    },
    {
      "cell_type": "code",
      "source": [
        "# Load library\n",
        "import numpy as np\n",
        "# Set seed\n",
        "np.random.seed(0)\n",
        "# Generate three random floats between 0.0 and 1.0\n",
        "np.random.random(3)"
      ],
      "metadata": {
        "colab": {
          "base_uri": "https://localhost:8080/"
        },
        "id": "8BmfTWfThH6E",
        "outputId": "2ad500fa-05b3-472c-8747-1a2a6dcc82a7"
      },
      "execution_count": 131,
      "outputs": [
        {
          "output_type": "execute_result",
          "data": {
            "text/plain": [
              "array([0.5488135 , 0.71518937, 0.60276338])"
            ]
          },
          "metadata": {},
          "execution_count": 131
        }
      ]
    },
    {
      "cell_type": "markdown",
      "source": [
        "**Discussion**"
      ],
      "metadata": {
        "id": "6iO3DdiLhNNj"
      }
    },
    {
      "cell_type": "code",
      "source": [
        "# Generate three random integers between 1 and 10\n",
        "np.random.randint(0, 11, 3)"
      ],
      "metadata": {
        "colab": {
          "base_uri": "https://localhost:8080/"
        },
        "id": "iLMZL2DKhK4C",
        "outputId": "b3f904e1-06e5-4b47-8559-4bbd2e7e7c41"
      },
      "execution_count": 132,
      "outputs": [
        {
          "output_type": "execute_result",
          "data": {
            "text/plain": [
              "array([3, 7, 9])"
            ]
          },
          "metadata": {},
          "execution_count": 132
        }
      ]
    },
    {
      "cell_type": "code",
      "source": [
        "# Draw three numbers from a normal distribution with mean 0.0\n",
        "# and standard deviation of 1.0\n",
        "np.random.normal(0.0, 1.0, 3)"
      ],
      "metadata": {
        "colab": {
          "base_uri": "https://localhost:8080/"
        },
        "id": "onsSxhArhav0",
        "outputId": "bf354297-8e8a-4655-e70c-3396a9b6e825"
      },
      "execution_count": 133,
      "outputs": [
        {
          "output_type": "execute_result",
          "data": {
            "text/plain": [
              "array([-1.42232584,  1.52006949, -0.29139398])"
            ]
          },
          "metadata": {},
          "execution_count": 133
        }
      ]
    },
    {
      "cell_type": "code",
      "source": [
        "# Draw three numbers from a logistic distribution with mean 0.0 and scale of 1.0\n",
        "np.random.logistic(0.0, 1.0, 3)"
      ],
      "metadata": {
        "colab": {
          "base_uri": "https://localhost:8080/"
        },
        "id": "_8KQwd8FhgD0",
        "outputId": "ab590dda-ff7e-4af3-a9c8-ecf7b17c2a6d"
      },
      "execution_count": 134,
      "outputs": [
        {
          "output_type": "execute_result",
          "data": {
            "text/plain": [
              "array([-0.98118713, -0.08939902,  1.46416405])"
            ]
          },
          "metadata": {},
          "execution_count": 134
        }
      ]
    },
    {
      "cell_type": "code",
      "source": [
        "# Draw three numbers greater than or equal to 1.0 and less than 2.0\n",
        "np.random.uniform(1.0, 2.0, 3)"
      ],
      "metadata": {
        "colab": {
          "base_uri": "https://localhost:8080/"
        },
        "id": "k3fV-TDGhmLm",
        "outputId": "f45cbc25-0fb6-4d61-dfdf-3c0283ab03e8"
      },
      "execution_count": 135,
      "outputs": [
        {
          "output_type": "execute_result",
          "data": {
            "text/plain": [
              "array([1.47997717, 1.3927848 , 1.83607876])"
            ]
          },
          "metadata": {},
          "execution_count": 135
        }
      ]
    }
  ]
}