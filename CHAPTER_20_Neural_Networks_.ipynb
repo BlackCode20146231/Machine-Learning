{
  "nbformat": 4,
  "nbformat_minor": 0,
  "metadata": {
    "colab": {
      "provenance": [],
      "gpuType": "T4",
      "authorship_tag": "ABX9TyNXMXHKxyWVHsz61W8qT5SM",
      "include_colab_link": true
    },
    "kernelspec": {
      "name": "python3",
      "display_name": "Python 3"
    },
    "language_info": {
      "name": "python"
    },
    "accelerator": "GPU",
    "gpuClass": "standard"
  },
  "cells": [
    {
      "cell_type": "markdown",
      "metadata": {
        "id": "view-in-github",
        "colab_type": "text"
      },
      "source": [
        "<a href=\"https://colab.research.google.com/github/blowmeaway1234/Machine-Learning/blob/main/CHAPTER_20_Neural_Networks_.ipynb\" target=\"_parent\"><img src=\"https://colab.research.google.com/assets/colab-badge.svg\" alt=\"Open In Colab\"/></a>"
      ]
    },
    {
      "cell_type": "markdown",
      "source": [
        "#CHAPTER 20 NEURAL NETWORKS"
      ],
      "metadata": {
        "id": "6okgY23ZcBYS"
      }
    },
    {
      "cell_type": "markdown",
      "source": [
        "# 20.1 Preprocessing Data for Neural Networks"
      ],
      "metadata": {
        "id": "JBduW9e_Vpd6"
      }
    },
    {
      "cell_type": "code",
      "source": [
        "# Load libraries\n",
        "from sklearn import preprocessing\n",
        "import numpy as np\n",
        "# Create feature\n",
        "features = np.array([[-100.1, 3240.1],\n",
        " [-200.2, -234.1],\n",
        " [5000.5, 150.1],\n",
        " [6000.6, -125.1],\n",
        " [9000.9, -673.1]])\n",
        "# Create scaler\n",
        "scaler = preprocessing.StandardScaler()\n",
        "# Transform the feature\n",
        "features_standardized = scaler.fit_transform(features)\n",
        "# Show feature\n",
        "features_standardized"
      ],
      "metadata": {
        "colab": {
          "base_uri": "https://localhost:8080/"
        },
        "id": "aXLIAjTJX908",
        "outputId": "8f6bb50c-e73e-4276-e291-788bb21dd5fd"
      },
      "execution_count": 1,
      "outputs": [
        {
          "output_type": "execute_result",
          "data": {
            "text/plain": [
              "array([[-1.12541308,  1.96429418],\n",
              "       [-1.15329466, -0.50068741],\n",
              "       [ 0.29529406, -0.22809346],\n",
              "       [ 0.57385917, -0.42335076],\n",
              "       [ 1.40955451, -0.81216255]])"
            ]
          },
          "metadata": {},
          "execution_count": 1
        }
      ]
    },
    {
      "cell_type": "code",
      "source": [
        "# Print mean and standard deviation\n",
        "print(\"Mean:\", round(features_standardized[:,0].mean()))\n",
        "print(\"Standard deviation:\", features_standardized[:,0].std())"
      ],
      "metadata": {
        "colab": {
          "base_uri": "https://localhost:8080/"
        },
        "id": "urrf_MYfX_o4",
        "outputId": "2b62ae80-371e-4ed3-a021-306ebe978996"
      },
      "execution_count": 2,
      "outputs": [
        {
          "output_type": "stream",
          "name": "stdout",
          "text": [
            "Mean: 0\n",
            "Standard deviation: 0.9999999999999999\n"
          ]
        }
      ]
    },
    {
      "cell_type": "markdown",
      "source": [
        "# 20.2 Designing a Neural Network"
      ],
      "metadata": {
        "id": "XlKbfApMVpgq"
      }
    },
    {
      "cell_type": "code",
      "source": [
        "# Load libraries\n",
        "from keras import models\n",
        "from keras import layers\n",
        "# Start neural network\n",
        "network = models.Sequential()\n",
        "# Add fully connected layer with a ReLU activation function\n",
        "network.add(layers.Dense(units=16, activation=\"relu\", input_shape=(10,)))\n",
        "# Add fully connected layer with a ReLU activation function\n",
        "network.add(layers.Dense(units=16, activation=\"relu\"))\n",
        "# Add fully connected layer with a sigmoid activation function\n",
        "network.add(layers.Dense(units=1, activation=\"sigmoid\"))\n",
        "# Compile neural network\n",
        "network.compile(loss=\"binary_crossentropy\", # Cross-entropy\n",
        " optimizer=\"rmsprop\", # Root Mean Square Propagation\n",
        " metrics=[\"accuracy\"]) # Accuracy performance metric"
      ],
      "metadata": {
        "id": "C9K4_28nYQeI"
      },
      "execution_count": 3,
      "outputs": []
    },
    {
      "cell_type": "markdown",
      "source": [
        "# 20.3 Training a Binary Classifier"
      ],
      "metadata": {
        "id": "THchYleZVpjJ"
      }
    },
    {
      "cell_type": "code",
      "source": [
        "# Load libraries\n",
        "import numpy as np\n",
        "from keras.datasets import imdb\n",
        "from keras.preprocessing.text import Tokenizer\n",
        "from keras import models\n",
        "from keras import layers\n",
        "# Set random seed\n",
        "np.random.seed(0)\n",
        "# Set the number of features we want\n",
        "number_of_features = 1000\n",
        "# Load data and target vector from movie review data\n",
        "(data_train, target_train), (data_test, target_test) = imdb.load_data(\n",
        " num_words=number_of_features)\n",
        "# Convert movie review data to one-hot encoded feature matrix\n",
        "tokenizer = Tokenizer(num_words=number_of_features)\n",
        "features_train = tokenizer.sequences_to_matrix(data_train, mode=\"binary\")\n",
        "features_test = tokenizer.sequences_to_matrix(data_test, mode=\"binary\")\n",
        "# Start neural network\n",
        "network = models.Sequential()\n",
        "# Add fully connected layer with a ReLU activation function\n",
        "network.add(layers.Dense(units=16, activation=\"relu\", input_shape=(\n",
        " number_of_features,)))\n",
        "# Add fully connected layer with a ReLU activation function\n",
        "network.add(layers.Dense(units=16, activation=\"relu\"))\n",
        "# Add fully connected layer with a sigmoid activation function\n",
        "network.add(layers.Dense(units=1, activation=\"sigmoid\"))\n",
        "# Compile neural network\n",
        "network.compile(loss=\"binary_crossentropy\", # Cross-entropy\n",
        " optimizer=\"rmsprop\", # Root Mean Square Propagation\n",
        " metrics=[\"accuracy\"]) # Accuracy performance metric"
      ],
      "metadata": {
        "colab": {
          "base_uri": "https://localhost:8080/"
        },
        "id": "-GIFDyTpYj-X",
        "outputId": "e9481f50-0dea-437f-b5bf-e15ed542a1fd"
      },
      "execution_count": 4,
      "outputs": [
        {
          "output_type": "stream",
          "name": "stdout",
          "text": [
            "Downloading data from https://storage.googleapis.com/tensorflow/tf-keras-datasets/imdb.npz\n",
            "17464789/17464789 [==============================] - 0s 0us/step\n"
          ]
        }
      ]
    },
    {
      "cell_type": "code",
      "source": [
        "# Train neural network\n",
        "history = network.fit(features_train, # Features\n",
        " target_train, # Target vector\n",
        "epochs=3, # Number of epochs\n",
        " verbose=1, # Print description after each epoch\n",
        " batch_size=100, # Number of observations per batch\n",
        " validation_data=(features_test, target_test)) # Test data"
      ],
      "metadata": {
        "colab": {
          "base_uri": "https://localhost:8080/"
        },
        "id": "2HKfVc84Yl_2",
        "outputId": "64547192-6797-41dd-e4f7-c2a42be2f498"
      },
      "execution_count": 5,
      "outputs": [
        {
          "output_type": "stream",
          "name": "stdout",
          "text": [
            "Epoch 1/3\n",
            "250/250 [==============================] - 7s 8ms/step - loss: 0.4206 - accuracy: 0.8138 - val_loss: 0.3332 - val_accuracy: 0.8592\n",
            "Epoch 2/3\n",
            "250/250 [==============================] - 1s 5ms/step - loss: 0.3244 - accuracy: 0.8650 - val_loss: 0.3278 - val_accuracy: 0.8600\n",
            "Epoch 3/3\n",
            "250/250 [==============================] - 1s 5ms/step - loss: 0.3127 - accuracy: 0.8693 - val_loss: 0.3261 - val_accuracy: 0.8588\n"
          ]
        }
      ]
    },
    {
      "cell_type": "code",
      "source": [
        "# View shape of feature matrix\n",
        "features_train.shape"
      ],
      "metadata": {
        "colab": {
          "base_uri": "https://localhost:8080/"
        },
        "id": "L3BrYL9EYrqw",
        "outputId": "27c05a14-4796-4b70-f014-8e14882ce508"
      },
      "execution_count": 6,
      "outputs": [
        {
          "output_type": "execute_result",
          "data": {
            "text/plain": [
              "(25000, 1000)"
            ]
          },
          "metadata": {},
          "execution_count": 6
        }
      ]
    },
    {
      "cell_type": "markdown",
      "source": [
        "# 20.4 Training a Multiclass Classifier"
      ],
      "metadata": {
        "id": "XlV4HWPHVplv"
      }
    },
    {
      "cell_type": "code",
      "source": [
        "# Load libraries\n",
        "import numpy as np\n",
        "from keras.datasets import reuters\n",
        "from keras.utils.np_utils import to_categorical\n",
        "from keras.preprocessing.text import Tokenizer\n",
        "from keras import models\n",
        "from keras import layers\n",
        "# Set random seed\n",
        "np.random.seed(0)\n",
        "# Set the number of features we want\n",
        "number_of_features = 5000\n",
        "# Load feature and target data\n",
        "data = reuters.load_data(num_words=number_of_features)\n",
        "(data_train, target_vector_train), (data_test, target_vector_test) = data\n",
        "# Convert feature data to a one-hot encoded feature matrix\n",
        "tokenizer = Tokenizer(num_words=number_of_features)\n",
        "features_train = tokenizer.sequences_to_matrix(data_train, mode=\"binary\")\n",
        "features_test = tokenizer.sequences_to_matrix(data_test, mode=\"binary\")\n",
        "# One-hot encode target vector to create a target matrix\n",
        "target_train = to_categorical(target_vector_train)\n",
        "target_test = to_categorical(target_vector_test)\n",
        "# Start neural network\n",
        "network = models.Sequential()\n",
        "# Add fully connected layer with a ReLU activation function\n",
        "network.add(layers.Dense(units=100,\n",
        " activation=\"relu\",\n",
        "input_shape=(number_of_features,)))\n",
        "# Add fully connected layer with a ReLU activation function\n",
        "network.add(layers.Dense(units=100, activation=\"relu\"))\n",
        "# Add fully connected layer with a softmax activation function\n",
        "network.add(layers.Dense(units=46, activation=\"softmax\"))\n",
        "# Compile neural network\n",
        "network.compile(loss=\"categorical_crossentropy\", # Cross-entropy\n",
        " optimizer=\"rmsprop\", # Root Mean Square Propagation\n",
        " metrics=[\"accuracy\"]) # Accuracy performance metric\n",
        "# Train neural network\n",
        "history = network.fit(features_train, # Features\n",
        " target_train, # Target\n",
        "epochs=3, # Three epochs\n",
        " verbose=0, # No output\n",
        " batch_size=100, # Number of observations per batch\n",
        " validation_data=(features_test, target_test)) # Test data"
      ],
      "metadata": {
        "colab": {
          "base_uri": "https://localhost:8080/"
        },
        "id": "waQWjxNYYuki",
        "outputId": "c895f777-2d2d-4727-8356-4cb383275769"
      },
      "execution_count": 7,
      "outputs": [
        {
          "output_type": "stream",
          "name": "stdout",
          "text": [
            "Downloading data from https://storage.googleapis.com/tensorflow/tf-keras-datasets/reuters.npz\n",
            "2110848/2110848 [==============================] - 0s 0us/step\n"
          ]
        }
      ]
    },
    {
      "cell_type": "code",
      "source": [
        "# View target matrix\n",
        "target_train"
      ],
      "metadata": {
        "colab": {
          "base_uri": "https://localhost:8080/"
        },
        "id": "-0GMI_JEY-oM",
        "outputId": "d8f7f6d8-3201-421a-b86b-407cc4343459"
      },
      "execution_count": 8,
      "outputs": [
        {
          "output_type": "execute_result",
          "data": {
            "text/plain": [
              "array([[0., 0., 0., ..., 0., 0., 0.],\n",
              "       [0., 0., 0., ..., 0., 0., 0.],\n",
              "       [0., 0., 0., ..., 0., 0., 0.],\n",
              "       ...,\n",
              "       [0., 0., 0., ..., 0., 0., 0.],\n",
              "       [0., 0., 0., ..., 0., 0., 0.],\n",
              "       [0., 0., 0., ..., 0., 0., 0.]], dtype=float32)"
            ]
          },
          "metadata": {},
          "execution_count": 8
        }
      ]
    },
    {
      "cell_type": "markdown",
      "source": [
        "# 20.5 Training a Regressor"
      ],
      "metadata": {
        "id": "bZTEzWikVpoS"
      }
    },
    {
      "cell_type": "code",
      "source": [
        "# Load libraries\n",
        "import numpy as np\n",
        "from keras.preprocessing.text import Tokenizer\n",
        "from keras import models\n",
        "from keras import layers\n",
        "from sklearn.datasets import make_regression\n",
        "from sklearn.model_selection import train_test_split\n",
        "from sklearn import preprocessing\n",
        "# Set random seed\n",
        "np.random.seed(0)\n",
        "# Generate features matrix and target vector\n",
        "features, target = make_regression(n_samples = 10000,\n",
        " n_features = 3,\n",
        " n_informative = 3,\n",
        " n_targets = 1,\n",
        " noise = 0.0,\n",
        " random_state = 0)\n",
        "# Divide our data into training and test sets\n",
        "features_train, features_test, target_train, target_test = train_test_split(\n",
        "features, target, test_size=0.33, random_state=0)\n",
        "# Start neural network\n",
        "network = models.Sequential()\n",
        "# Add fully connected layer with a ReLU activation function\n",
        "network.add(layers.Dense(units=32,\n",
        " activation=\"relu\",\n",
        "input_shape=(features_train.shape[1],)))\n",
        "# Add fully connected layer with a ReLU activation function\n",
        "network.add(layers.Dense(units=32, activation=\"relu\"))\n",
        "# Add fully connected layer with no activation function\n",
        "network.add(layers.Dense(units=1))\n",
        "# Compile neural network\n",
        "network.compile(loss=\"mse\", # Mean squared error\n",
        " optimizer=\"RMSprop\", # Optimization algorithm\n",
        " metrics=[\"mse\"]) # Mean squared error\n",
        "# Train neural network\n",
        "history = network.fit(features_train, # Features\n",
        " target_train, # Target vector\n",
        "epochs=10, # Number of epochs\n",
        " verbose=0, # No output\n",
        " batch_size=100, # Number of observations per batch\n",
        " validation_data=(features_test, target_test)) # Test data"
      ],
      "metadata": {
        "id": "IEWx7VbwZCKl"
      },
      "execution_count": 9,
      "outputs": []
    },
    {
      "cell_type": "markdown",
      "source": [
        "# 20.6 Making Predictions"
      ],
      "metadata": {
        "id": "mUdz2O0EVpq6"
      }
    },
    {
      "cell_type": "code",
      "source": [
        "# Load libraries\n",
        "import numpy as np\n",
        "from keras.datasets import imdb\n",
        "from keras.preprocessing.text import Tokenizer\n",
        "from keras import models\n",
        "from keras import layers\n",
        "# Set random seed\n",
        "np.random.seed(0)\n",
        "# Set the number of features we want\n",
        "number_of_features = 10000\n",
        "# Load data and target vector from IMDB movie data\n",
        "(data_train, target_train), (data_test, target_test) = imdb.load_data(\n",
        " num_words=number_of_features)\n",
        "# Convert IMDB data to a one-hot encoded feature matrix\n",
        "tokenizer = Tokenizer(num_words=number_of_features)\n",
        "features_train = tokenizer.sequences_to_matrix(data_train, mode=\"binary\")\n",
        "features_test = tokenizer.sequences_to_matrix(data_test, mode=\"binary\")\n",
        "# Start neural network\n",
        "network = models.Sequential()\n",
        "# Add fully connected layer with a ReLU activation function\n",
        "network.add(layers.Dense(units=16,\n",
        " activation=\"relu\",\n",
        "input_shape=(number_of_features,)))\n",
        "# Add fully connected layer with a ReLU activation function\n",
        "network.add(layers.Dense(units=16, activation=\"relu\"))\n",
        "# Add fully connected layer with a sigmoid activation function\n",
        "network.add(layers.Dense(units=1, activation=\"sigmoid\"))\n",
        "# Compile neural network\n",
        "network.compile(loss=\"binary_crossentropy\", # Cross-entropy\n",
        " optimizer=\"rmsprop\", # Root Mean Square Propagation\n",
        " metrics=[\"accuracy\"]) # Accuracy performance metric\n",
        " # Train neural network\n",
        "history = network.fit(features_train, # Features\n",
        " target_train, # Target vector\n",
        "epochs=3, # Number of epochs\n",
        " verbose=0, # No output\n",
        " batch_size=100, # Number of observations per batch\n",
        " validation_data=(features_test, target_test)) # Test data\n",
        "# Predict classes of test set\n",
        "predicted_target = network.predict(features_test)"
      ],
      "metadata": {
        "colab": {
          "base_uri": "https://localhost:8080/"
        },
        "id": "yZC5zxx7ZYZD",
        "outputId": "4aff6010-1fe1-4cc0-d9f1-325e4224e316"
      },
      "execution_count": 10,
      "outputs": [
        {
          "output_type": "stream",
          "name": "stdout",
          "text": [
            "782/782 [==============================] - 1s 2ms/step\n"
          ]
        }
      ]
    },
    {
      "cell_type": "code",
      "source": [
        "# View the probability the first observation is class 1\n",
        "predicted_target[0]"
      ],
      "metadata": {
        "colab": {
          "base_uri": "https://localhost:8080/"
        },
        "id": "yfMGxNPZZgfY",
        "outputId": "5e278b99-6e22-4440-a14d-468798938516"
      },
      "execution_count": 11,
      "outputs": [
        {
          "output_type": "execute_result",
          "data": {
            "text/plain": [
              "array([0.06848579], dtype=float32)"
            ]
          },
          "metadata": {},
          "execution_count": 11
        }
      ]
    },
    {
      "cell_type": "markdown",
      "source": [
        "# 20.7 Visualize Training History"
      ],
      "metadata": {
        "id": "7S-QUzc9Vptl"
      }
    },
    {
      "cell_type": "code",
      "source": [
        "# Load libraries\n",
        "import numpy as np\n",
        "from keras.datasets import imdb\n",
        "from keras.preprocessing.text import Tokenizer\n",
        "from keras import models\n",
        "from keras import layers\n",
        "import matplotlib.pyplot as plt\n",
        "# Set random seed\n",
        "np.random.seed(0)\n",
        "# Set the number of features we want\n",
        "number_of_features = 10000\n",
        "# Load data and target vector from movie review data\n",
        "(data_train, target_train), (data_test, target_test) = imdb.load_data(\n",
        " num_words=number_of_features)\n",
        "# Convert movie review data to a one-hot encoded feature matrix\n",
        "tokenizer = Tokenizer(num_words=number_of_features)\n",
        "features_train = tokenizer.sequences_to_matrix(data_train, mode=\"binary\")\n",
        "features_test = tokenizer.sequences_to_matrix(data_test, mode=\"binary\")\n",
        "# Start neural network\n",
        "network = models.Sequential()\n",
        "# Add fully connected layer with a ReLU activation function\n",
        "network.add(layers.Dense(units=16,\n",
        " activation=\"relu\",\n",
        "input_shape=(number_of_features,)))\n",
        "# Add fully connected layer with a ReLU activation function\n",
        "network.add(layers.Dense(units=16, activation=\"relu\"))\n",
        "# Add fully connected layer with a sigmoid activation function\n",
        "network.add(layers.Dense(units=1, activation=\"sigmoid\"))\n",
        "# Compile neural network\n",
        "network.compile(loss=\"binary_crossentropy\", # Cross-entropy\n",
        " optimizer=\"rmsprop\", # Root Mean Square Propagation\n",
        " metrics=[\"accuracy\"]) # Accuracy performance metric\n",
        "# Train neural network\n",
        "history = network.fit(features_train, # Features\n",
        " target_train, # Target\n",
        "epochs=15, # Number of epochs\n",
        " verbose=0, # No output\n",
        " batch_size=1000, # Number of observations per batch\n",
        " validation_data=(features_test, target_test)) # Test data\n",
        "# Get training and test loss histories\n",
        "training_loss = history.history[\"loss\"]\n",
        "test_loss = history.history[\"val_loss\"]\n",
        "# Create count of the number of epochs\n",
        "epoch_count = range(1, len(training_loss) + 1)\n",
        "# Visualize loss history\n",
        "plt.plot(epoch_count, training_loss, \"r--\")\n",
        "plt.plot(epoch_count, test_loss, \"b-\")\n",
        "plt.legend([\"Training Loss\", \"Test Loss\"])\n",
        "plt.xlabel(\"Epoch\")\n",
        "plt.ylabel(\"Loss\")\n",
        "plt.show();"
      ],
      "metadata": {
        "colab": {
          "base_uri": "https://localhost:8080/",
          "height": 449
        },
        "id": "8WDjVG4RZm-k",
        "outputId": "bff0ec5e-81e7-4ed2-fda3-eb0478e6e990"
      },
      "execution_count": 12,
      "outputs": [
        {
          "output_type": "display_data",
          "data": {
            "text/plain": [
              "<Figure size 640x480 with 1 Axes>"
            ],
            "image/png": "[encoded data removed]"
          },
          "metadata": {}
        }
      ]
    },
    {
      "cell_type": "code",
      "source": [
        "# Get training and test accuracy histories\n",
        "training_accuracy = history.history[\"accuracy\"]\n",
        "test_accuracy = history.history[\"val_accuracy\"]\n",
        "plt.plot(epoch_count, training_accuracy, \"r--\")\n",
        "plt.plot(epoch_count, test_accuracy, \"b-\")\n",
        "# Visualize accuracy history\n",
        "plt.legend([\"Training Accuracy\", \"Test Accuracy\"])\n",
        "plt.xlabel(\"Epoch\")\n",
        "plt.ylabel(\"Accuracy Score\")\n",
        "plt.show()"
      ],
      "metadata": {
        "colab": {
          "base_uri": "https://localhost:8080/",
          "height": 449
        },
        "id": "pE3uyot3Zv4w",
        "outputId": "8906a319-6ae4-4a7a-9709-351bcb1c6edf"
      },
      "execution_count": 16,
      "outputs": [
        {
          "output_type": "display_data",
          "data": {
            "text/plain": [
              "<Figure size 640x480 with 1 Axes>"
            ],
            "image/png": "[encoded data removed]"
          },
          "metadata": {}
        }
      ]
    },
    {
      "cell_type": "markdown",
      "source": [
        "# 20.8 Reducing Overfitting with Weight Regularization"
      ],
      "metadata": {
        "id": "V2xm7lJJVpwR"
      }
    },
    {
      "cell_type": "code",
      "source": [
        "# Load libraries\n",
        "import numpy as np\n",
        "from keras.datasets import imdb\n",
        "from keras.preprocessing.text import Tokenizer\n",
        "from keras import models\n",
        "from keras import layers\n",
        "from keras import regularizers\n",
        "# Set random seed\n",
        "np.random.seed(0)\n",
        "# Set the number of features we want\n",
        "number_of_features = 1000\n",
        "# Load data and target vector from movie review data\n",
        "(data_train, target_train), (data_test, target_test) = imdb.load_data(\n",
        " num_words=number_of_features)\n",
        "# Convert movie review data to a one-hot encoded feature matrix\n",
        "tokenizer = Tokenizer(num_words=number_of_features)\n",
        "features_train = tokenizer.sequences_to_matrix(data_train, mode=\"binary\")\n",
        "features_test = tokenizer.sequences_to_matrix(data_test, mode=\"binary\")\n",
        "# Start neural network\n",
        "network = models.Sequential()\n",
        "# Add fully connected layer with a ReLU activation function\n",
        "network.add(layers.Dense(units=16,\n",
        " activation=\"relu\",\n",
        "kernel_regularizer=regularizers.l2(0.01),\n",
        " input_shape=(number_of_features,)))\n",
        "# Add fully connected layer with a ReLU activation function\n",
        "network.add(layers.Dense(units=16,\n",
        " kernel_regularizer=regularizers.l2(0.01),\n",
        " activation=\"relu\"))\n",
        "# Add fully connected layer with a sigmoid activation function\n",
        "network.add(layers.Dense(units=1, activation=\"sigmoid\"))\n",
        "# Compile neural network\n",
        "network.compile(loss=\"binary_crossentropy\", # Cross-entropy\n",
        " optimizer=\"rmsprop\", # Root Mean Square Propagation\n",
        " metrics=[\"accuracy\"]) # Accuracy performance metric\n",
        "# Train neural network\n",
        "history = network.fit(features_train, # Features\n",
        " target_train, # Target vector\n",
        "epochs=3, # Number of epochs\n",
        " verbose=0, # No output\n",
        " batch_size=100, # Number of observations per batch\n",
        " validation_data=(features_test, target_test)) # Test data"
      ],
      "metadata": {
        "id": "RWFyNqp5Z78f"
      },
      "execution_count": 17,
      "outputs": []
    },
    {
      "cell_type": "markdown",
      "source": [
        "# 20.9 Reducing Overfitting with Early Stopping"
      ],
      "metadata": {
        "id": "nCpwqzU2Vpy5"
      }
    },
    {
      "cell_type": "code",
      "source": [
        "# Load libraries\n",
        "import numpy as np\n",
        "from keras.datasets import imdb\n",
        "from keras.preprocessing.text import Tokenizer\n",
        "from keras import models\n",
        "from keras import layers\n",
        "from keras.callbacks import EarlyStopping, ModelCheckpoint\n",
        "# Set random seed\n",
        "np.random.seed(0)\n",
        "# Set the number of features we want\n",
        "number_of_features = 1000\n",
        "# Load data and target vector from movie review data\n",
        "(data_train, target_train), (data_test, target_test) = imdb.load_data(\n",
        " num_words=number_of_features)\n",
        "# Convert movie review data to a one-hot encoded feature matrix\n",
        "tokenizer = Tokenizer(num_words=number_of_features)\n",
        "features_train = tokenizer.sequences_to_matrix(data_train, mode=\"binary\")\n",
        "features_test = tokenizer.sequences_to_matrix(data_test, mode=\"binary\")\n",
        "network = models.Sequential()\n",
        "# Add fully connected layer with a ReLU activation function\n",
        "network.add(layers.Dense(units=16,\n",
        " activation=\"relu\",\n",
        "input_shape=(number_of_features,)))\n",
        "# Add fully connected layer with a ReLU activation function\n",
        "network.add(layers.Dense(units=16, activation=\"relu\"))\n",
        "# Add fully connected layer with a sigmoid activation function\n",
        "network.add(layers.Dense(units=1, activation=\"sigmoid\"))\n",
        "# Compile neural network\n",
        "network.compile(loss=\"binary_crossentropy\", # Cross-entropy\n",
        " optimizer=\"rmsprop\", # Root Mean Square Propagation\n",
        " metrics=[\"accuracy\"]) # Accuracy performance metric\n",
        "# Set callback functions to early stop training and save the best model so far\n",
        "callbacks = [EarlyStopping(monitor=\"val_loss\", patience=2),\n",
        " ModelCheckpoint(filepath=\"best_model.h5\",\n",
        " monitor=\"val_loss\",\n",
        "save_best_only=True)]\n",
        "# Train neural network\n",
        "history = network.fit(features_train, # Features\n",
        " target_train, # Target vector\n",
        "epochs=20, # Number of epochs\n",
        " callbacks=callbacks, # Early stopping\n",
        " verbose=0, # Print description after each epoch\n",
        " batch_size=100, # Number of observations per batch\n",
        " validation_data=(features_test, target_test)) # Test data"
      ],
      "metadata": {
        "id": "64hZqLQBZ-lo"
      },
      "execution_count": 18,
      "outputs": []
    },
    {
      "cell_type": "markdown",
      "source": [
        "# 20.10 Reducing Overfitting with Dropout"
      ],
      "metadata": {
        "id": "wbegNEF5Vp1a"
      }
    },
    {
      "cell_type": "code",
      "source": [
        "# Load libraries\n",
        "import numpy as np\n",
        "from keras.datasets import imdb\n",
        "from keras.preprocessing.text import Tokenizer\n",
        "from keras import models\n",
        "from keras import layers\n",
        "# Set random seed\n",
        "np.random.seed(0)\n",
        "# Set the number of features we want\n",
        "number_of_features = 1000\n",
        "# Load data and target vector from movie review data\n",
        "(data_train, target_train), (data_test, target_test) = imdb.load_data(\n",
        " num_words=number_of_features)\n",
        "# Convert movie review data to a one-hot encoded feature matrix\n",
        "tokenizer = Tokenizer(num_words=number_of_features)\n",
        "features_train = tokenizer.sequences_to_matrix(data_train, mode=\"binary\")\n",
        "features_test = tokenizer.sequences_to_matrix(data_test, mode=\"binary\")\n",
        "# Start neural network\n",
        "network = models.Sequential()\n",
        "# Add a dropout layer for input layer\n",
        "network.add(layers.Dropout(0.2, input_shape=(number_of_features,)))\n",
        "# Add fully connected layer with a ReLU activation function\n",
        "network.add(layers.Dense(units=16, activation=\"relu\"))\n",
        "network.add(layers.Dropout(0.5))\n",
        "# Add fully connected layer with a ReLU activation function\n",
        "network.add(layers.Dense(units=16, activation=\"relu\"))\n",
        "# Add a dropout layer for previous hidden layer\n",
        "network.add(layers.Dropout(0.5))\n",
        "# Add fully connected layer with a sigmoid activation function\n",
        "network.add(layers.Dense(units=1, activation=\"sigmoid\"))\n",
        "# Compile neural network\n",
        "network.compile(loss=\"binary_crossentropy\", # Cross-entropy\n",
        " optimizer=\"rmsprop\", # Root Mean Square Propagation\n",
        " metrics=[\"accuracy\"]) # Accuracy performance metric\n",
        "# Train neural network\n",
        "history = network.fit(features_train, # Features\n",
        " target_train, # Target vector\n",
        "epochs=3, # Number of epochs\n",
        " verbose=0, # No output\n",
        " batch_size=100, # Number of observations per batch\n",
        " validation_data=(features_test, target_test)) # Test data"
      ],
      "metadata": {
        "id": "mj7y3g57aaPJ"
      },
      "execution_count": 19,
      "outputs": []
    },
    {
      "cell_type": "markdown",
      "source": [
        "# 20.11 Saving Model Training Progress"
      ],
      "metadata": {
        "id": "oozwNxYsVp4C"
      }
    },
    {
      "cell_type": "code",
      "source": [
        "# Load libraries\n",
        "import numpy as np\n",
        "from keras.datasets import imdb\n",
        "from keras.preprocessing.text import Tokenizer\n",
        "from keras import models\n",
        "from keras import layers\n",
        "from keras.callbacks import ModelCheckpoint\n",
        "# Set random seed\n",
        "np.random.seed(0)\n",
        "# Set the number of features we want\n",
        "number_of_features = 1000\n",
        "# Load data and target vector from movie review data\n",
        "(data_train, target_train), (data_test, target_test) = imdb.load_data(\n",
        " num_words=number_of_features)\n",
        "# Convert movie review data to a one-hot encoded feature matrix\n",
        "tokenizer = Tokenizer(num_words=number_of_features)\n",
        "features_train = tokenizer.sequences_to_matrix(data_train, mode=\"binary\")\n",
        "features_test = tokenizer.sequences_to_matrix(data_test, mode=\"binary\")\n",
        "# Start neural network\n",
        "network = models.Sequential()\n",
        "# Add fully connected layer with a ReLU activation function\n",
        "network.add(layers.Dense(units=16,\n",
        " activation=\"relu\",\n",
        "input_shape=(number_of_features,)))\n",
        "# Add fully connected layer with a sigmoid activation function\n",
        "network.add(layers.Dense(units=1, activation=\"sigmoid\"))\n",
        "# Compile neural network\n",
        "network.compile(loss=\"binary_crossentropy\", # Cross-entropy\n",
        " optimizer=\"rmsprop\", # Root Mean Square Propagation\n",
        " metrics=[\"accuracy\"]) # Accuracy performance metric\n",
        "# Set callback functions to early stop training and save the best model so far\n",
        "checkpoint = [ModelCheckpoint(filepath=\"models.hdf5\")]\n",
        "# Train neural network\n",
        "history = network.fit(features_train, # Features\n",
        " target_train, # Target vector\n",
        "epochs=3, # Number of epochs\n",
        " callbacks=checkpoint, # Checkpoint\n",
        " verbose=0, # No output\n",
        " batch_size=100, # Number of observations per batch\n",
        " validation_data=(features_test, target_test)) # Test data"
      ],
      "metadata": {
        "id": "2b6tDNebalCK"
      },
      "execution_count": 20,
      "outputs": []
    },
    {
      "cell_type": "markdown",
      "source": [
        "# 20.12 k-Fold Cross-Validating Neural Networks"
      ],
      "metadata": {
        "id": "HsSO9KY2Vp6t"
      }
    },
    {
      "cell_type": "code",
      "source": [
        "# Load libraries\n",
        "import numpy as np\n",
        "from keras import models\n",
        "from keras import layers\n",
        "from keras.wrappers.scikit_learn import KerasClassifier\n",
        "from sklearn.model_selection import cross_val_score\n",
        "from sklearn.datasets import make_classification\n",
        "# Set random seed\n",
        "np.random.seed(0)\n",
        "# Number of features\n",
        "number_of_features = 100\n",
        "# Generate features matrix and target vector\n",
        "features, target = make_classification(n_samples = 10000,\n",
        " n_features = number_of_features,\n",
        " n_informative = 3,\n",
        " n_redundant = 0,\n",
        " n_classes = 2,\n",
        " weights = [.5, .5],\n",
        " random_state = 0)\n",
        "# Create function returning a compiled network\n",
        "def create_network():\n",
        " # Start neural network\n",
        " network = models.Sequential()\n",
        " # Add fully connected layer with a ReLU activation function\n",
        " network.add(layers.Dense(units=16, activation=\"relu\", input_shape=(\n",
        " number_of_features,)))\n",
        " # Add fully connected layer with a ReLU activation function\n",
        " network.add(layers.Dense(units=16, activation=\"relu\"))\n",
        " # Add fully connected layer with a sigmoid activation function\n",
        " network.add(layers.Dense(units=1, activation=\"sigmoid\"))\n",
        " # Compile neural network\n",
        " network.compile(loss=\"binary_crossentropy\", # Cross-entropy\n",
        " optimizer=\"rmsprop\", # Root Mean Square Propagation\n",
        " metrics=[\"accuracy\"]) # Accuracy performance metric\n",
        " # Return compiled network\n",
        " return network\n",
        "# Wrap Keras model so it can be used by scikit-learn\n",
        "neural_network = KerasClassifier(build_fn=create_network,\n",
        " epochs=10,\n",
        "batch_size=100,\n",
        "verbose=0)\n",
        "# Evaluate neural network using three-fold cross-validation\n",
        "cross_val_score(neural_network, features, target, cv=3)"
      ],
      "metadata": {
        "colab": {
          "base_uri": "https://localhost:8080/"
        },
        "id": "OQTVHTX7aulr",
        "outputId": "be3cd69f-5f3a-4f9a-8f60-fb19e13d02d6"
      },
      "execution_count": 21,
      "outputs": [
        {
          "output_type": "stream",
          "name": "stderr",
          "text": [
            "<ipython-input-21-ac197b1b1e90>:38: DeprecationWarning: KerasClassifier is deprecated, use Sci-Keras (https://github.com/adriangb/scikeras) instead. See https://www.adriangb.com/scikeras/stable/migration.html for help migrating.\n",
            "  neural_network = KerasClassifier(build_fn=create_network,\n"
          ]
        },
        {
          "output_type": "execute_result",
          "data": {
            "text/plain": [
              "array([0.88242352, 0.90939093, 0.88838881])"
            ]
          },
          "metadata": {},
          "execution_count": 21
        }
      ]
    },
    {
      "cell_type": "markdown",
      "source": [
        "# 20.13 Tuning Neural Networks"
      ],
      "metadata": {
        "id": "OSrZuoUVVp9W"
      }
    },
    {
      "cell_type": "code",
      "source": [
        "# Load libraries\n",
        "import numpy as np\n",
        "from keras import models\n",
        "from keras import layers\n",
        "from keras.wrappers.scikit_learn import KerasClassifier\n",
        "from sklearn.model_selection import GridSearchCV\n",
        "from sklearn.datasets import make_classification\n",
        "# Set random seed\n",
        "np.random.seed(0)\n",
        "# Number of features\n",
        "number_of_features = 100\n",
        "# Generate features matrix and target vector\n",
        "features, target = make_classification(n_samples = 10000,\n",
        " n_features = number_of_features,\n",
        " n_informative = 3,\n",
        " n_redundant = 0,\n",
        " n_classes = 2,\n",
        " weights = [.5, .5],\n",
        " random_state = 0)\n",
        "# Create function returning a compiled network\n",
        "def create_network(optimizer=\"rmsprop\"):\n",
        " # Start neural network\n",
        " network = models.Sequential()\n",
        " # Add fully connected layer with a ReLU activation function\n",
        " network.add(layers.Dense(units=16,\n",
        " activation=\"relu\",\n",
        "input_shape=(number_of_features,)))\n",
        " # Add fully connected layer with a ReLU activation function\n",
        " network.add(layers.Dense(units=16, activation=\"relu\"))\n",
        " # Add fully connected layer with a sigmoid activation function\n",
        " network.add(layers.Dense(units=1, activation=\"sigmoid\"))\n",
        " # Compile neural network\n",
        " network.compile(loss=\"binary_crossentropy\", # Cross-entropy\n",
        " optimizer=optimizer, # Optimizer\n",
        " metrics=[\"accuracy\"]) # Accuracy performance metric\n",
        " # Return compiled network\n",
        " return network\n",
        " # Wrap Keras model so it can be used by scikit-learn\n",
        "neural_network = KerasClassifier(build_fn=create_network, verbose=0)\n",
        "# Create hyperparameter space\n",
        "epochs = [5, 10]\n",
        "batches = [5, 10, 10]\n",
        "optimizers = [\"rmsprop\", \"adam\"]\n",
        "# Create hyperparameter options\n",
        "hyperparameters = dict(optimizer=optimizers, epochs=epochs, batch_size=batches)\n",
        "# Create grid search\n",
        "grid = GridSearchCV(estimator=neural_network, param_grid=hyperparameters)\n",
        "# Fit grid search\n",
        "grid_result = grid.fit(features, target)"
      ],
      "metadata": {
        "id": "aqpHgtUsbLBz"
      },
      "execution_count": null,
      "outputs": []
    },
    {
      "cell_type": "markdown",
      "source": [
        "# 20.14 Visualizing Neural Networks"
      ],
      "metadata": {
        "id": "Y4awR_N2Vp_2"
      }
    },
    {
      "cell_type": "code",
      "source": [
        "# Load libraries\n",
        "from keras import models\n",
        "from keras import layers\n",
        "from IPython.display import SVG\n",
        "from keras.utils.vis_utils import model_to_dot\n",
        "from keras.utils import plot_model\n",
        "# Start neural network\n",
        "network = models.Sequential()\n",
        "# Add fully connected layer with a ReLU activation function\n",
        "network.add(layers.Dense(units=16, activation=\"relu\", input_shape=(10,)))\n",
        "# Add fully connected layer with a ReLU activation function\n",
        "network.add(layers.Dense(units=16, activation=\"relu\"))\n",
        "# Add fully connected layer with a sigmoid activation function\n",
        "network.add(layers.Dense(units=1, activation=\"sigmoid\"))\n",
        "# Visualize network architecture\n",
        "SVG(model_to_dot(network, show_shapes=True).create(prog=\"dot\", format=\"svg\"))"
      ],
      "metadata": {
        "colab": {
          "base_uri": "https://localhost:8080/",
          "height": 561
        },
        "id": "gUU94g9AbV7q",
        "outputId": "6b27cad7-681a-4ff5-ebc2-df778753f06c"
      },
      "execution_count": 24,
      "outputs": [
        {
          "output_type": "execute_result",
          "data": {
            "text/plain": [
              "<IPython.core.display.SVG object>"
            ],
            "image/svg+xml": "<svg xmlns=\"http://www.w3.org/2000/svg\" xmlns:xlink=\"http://www.w3.org/1999/xlink\" width=\"343pt\" height=\"405pt\" viewBox=\"0.00 0.00 257.00 304.00\">\n<g id=\"graph0\" class=\"graph\" transform=\"scale(0.75 0.75) rotate(0) translate(4 300)\">\n<title>G</title>\n<polygon fill=\"white\" stroke=\"transparent\" points=\"-4,4 -4,-300 253,-300 253,4 -4,4\"/>\n<!-- 139946430015728 -->\n<g id=\"node1\" class=\"node\">\n<title>139946430015728</title>\n<polygon fill=\"none\" stroke=\"black\" points=\"0,-249.5 0,-295.5 249,-295.5 249,-249.5 0,-249.5\"/>\n<text text-anchor=\"middle\" x=\"54.5\" y=\"-280.3\" font-family=\"Times,serif\" font-size=\"14.00\">dense_299_input</text>\n<polyline fill=\"none\" stroke=\"black\" points=\"0,-272.5 109,-272.5 \"/>\n<text text-anchor=\"middle\" x=\"54.5\" y=\"-257.3\" font-family=\"Times,serif\" font-size=\"14.00\">InputLayer</text>\n<polyline fill=\"none\" stroke=\"black\" points=\"109,-249.5 109,-295.5 \"/>\n<text text-anchor=\"middle\" x=\"136.5\" y=\"-280.3\" font-family=\"Times,serif\" font-size=\"14.00\">input:</text>\n<polyline fill=\"none\" stroke=\"black\" points=\"109,-272.5 164,-272.5 \"/>\n<text text-anchor=\"middle\" x=\"136.5\" y=\"-257.3\" font-family=\"Times,serif\" font-size=\"14.00\">output:</text>\n<polyline fill=\"none\" stroke=\"black\" points=\"164,-249.5 164,-295.5 \"/>\n<text text-anchor=\"middle\" x=\"206.5\" y=\"-280.3\" font-family=\"Times,serif\" font-size=\"14.00\">[(None, 10)]</text>\n<polyline fill=\"none\" stroke=\"black\" points=\"164,-272.5 249,-272.5 \"/>\n<text text-anchor=\"middle\" x=\"206.5\" y=\"-257.3\" font-family=\"Times,serif\" font-size=\"14.00\">[(None, 10)]</text>\n</g>\n<!-- 139943674576800 -->\n<g id=\"node2\" class=\"node\">\n<title>139943674576800</title>\n<polygon fill=\"none\" stroke=\"black\" points=\"22,-166.5 22,-212.5 227,-212.5 227,-166.5 22,-166.5\"/>\n<text text-anchor=\"middle\" x=\"59\" y=\"-197.3\" font-family=\"Times,serif\" font-size=\"14.00\">dense_299</text>\n<polyline fill=\"none\" stroke=\"black\" points=\"22,-189.5 96,-189.5 \"/>\n<text text-anchor=\"middle\" x=\"59\" y=\"-174.3\" font-family=\"Times,serif\" font-size=\"14.00\">Dense</text>\n<polyline fill=\"none\" stroke=\"black\" points=\"96,-166.5 96,-212.5 \"/>\n<text text-anchor=\"middle\" x=\"123.5\" y=\"-197.3\" font-family=\"Times,serif\" font-size=\"14.00\">input:</text>\n<polyline fill=\"none\" stroke=\"black\" points=\"96,-189.5 151,-189.5 \"/>\n<text text-anchor=\"middle\" x=\"123.5\" y=\"-174.3\" font-family=\"Times,serif\" font-size=\"14.00\">output:</text>\n<polyline fill=\"none\" stroke=\"black\" points=\"151,-166.5 151,-212.5 \"/>\n<text text-anchor=\"middle\" x=\"189\" y=\"-197.3\" font-family=\"Times,serif\" font-size=\"14.00\">(None, 10)</text>\n<polyline fill=\"none\" stroke=\"black\" points=\"151,-189.5 227,-189.5 \"/>\n<text text-anchor=\"middle\" x=\"189\" y=\"-174.3\" font-family=\"Times,serif\" font-size=\"14.00\">(None, 16)</text>\n</g>\n<!-- 139946430015728&#45;&gt;139943674576800 -->\n<g id=\"edge1\" class=\"edge\">\n<title>139946430015728-&gt;139943674576800</title>\n<path fill=\"none\" stroke=\"black\" d=\"M124.5,-249.37C124.5,-241.15 124.5,-231.66 124.5,-222.73\"/>\n<polygon fill=\"black\" stroke=\"black\" points=\"128,-222.61 124.5,-212.61 121,-222.61 128,-222.61\"/>\n</g>\n<!-- 139943119569872 -->\n<g id=\"node3\" class=\"node\">\n<title>139943119569872</title>\n<polygon fill=\"none\" stroke=\"black\" points=\"22,-83.5 22,-129.5 227,-129.5 227,-83.5 22,-83.5\"/>\n<text text-anchor=\"middle\" x=\"59\" y=\"-114.3\" font-family=\"Times,serif\" font-size=\"14.00\">dense_300</text>\n<polyline fill=\"none\" stroke=\"black\" points=\"22,-106.5 96,-106.5 \"/>\n<text text-anchor=\"middle\" x=\"59\" y=\"-91.3\" font-family=\"Times,serif\" font-size=\"14.00\">Dense</text>\n<polyline fill=\"none\" stroke=\"black\" points=\"96,-83.5 96,-129.5 \"/>\n<text text-anchor=\"middle\" x=\"123.5\" y=\"-114.3\" font-family=\"Times,serif\" font-size=\"14.00\">input:</text>\n<polyline fill=\"none\" stroke=\"black\" points=\"96,-106.5 151,-106.5 \"/>\n<text text-anchor=\"middle\" x=\"123.5\" y=\"-91.3\" font-family=\"Times,serif\" font-size=\"14.00\">output:</text>\n<polyline fill=\"none\" stroke=\"black\" points=\"151,-83.5 151,-129.5 \"/>\n<text text-anchor=\"middle\" x=\"189\" y=\"-114.3\" font-family=\"Times,serif\" font-size=\"14.00\">(None, 16)</text>\n<polyline fill=\"none\" stroke=\"black\" points=\"151,-106.5 227,-106.5 \"/>\n<text text-anchor=\"middle\" x=\"189\" y=\"-91.3\" font-family=\"Times,serif\" font-size=\"14.00\">(None, 16)</text>\n</g>\n<!-- 139943674576800&#45;&gt;139943119569872 -->\n<g id=\"edge2\" class=\"edge\">\n<title>139943674576800-&gt;139943119569872</title>\n<path fill=\"none\" stroke=\"black\" d=\"M124.5,-166.37C124.5,-158.15 124.5,-148.66 124.5,-139.73\"/>\n<polygon fill=\"black\" stroke=\"black\" points=\"128,-139.61 124.5,-129.61 121,-139.61 128,-139.61\"/>\n</g>\n<!-- 139942898076736 -->\n<g id=\"node4\" class=\"node\">\n<title>139942898076736</title>\n<polygon fill=\"none\" stroke=\"black\" points=\"22,-0.5 22,-46.5 227,-46.5 227,-0.5 22,-0.5\"/>\n<text text-anchor=\"middle\" x=\"59\" y=\"-31.3\" font-family=\"Times,serif\" font-size=\"14.00\">dense_301</text>\n<polyline fill=\"none\" stroke=\"black\" points=\"22,-23.5 96,-23.5 \"/>\n<text text-anchor=\"middle\" x=\"59\" y=\"-8.3\" font-family=\"Times,serif\" font-size=\"14.00\">Dense</text>\n<polyline fill=\"none\" stroke=\"black\" points=\"96,-0.5 96,-46.5 \"/>\n<text text-anchor=\"middle\" x=\"123.5\" y=\"-31.3\" font-family=\"Times,serif\" font-size=\"14.00\">input:</text>\n<polyline fill=\"none\" stroke=\"black\" points=\"96,-23.5 151,-23.5 \"/>\n<text text-anchor=\"middle\" x=\"123.5\" y=\"-8.3\" font-family=\"Times,serif\" font-size=\"14.00\">output:</text>\n<polyline fill=\"none\" stroke=\"black\" points=\"151,-0.5 151,-46.5 \"/>\n<text text-anchor=\"middle\" x=\"189\" y=\"-31.3\" font-family=\"Times,serif\" font-size=\"14.00\">(None, 16)</text>\n<polyline fill=\"none\" stroke=\"black\" points=\"151,-23.5 227,-23.5 \"/>\n<text text-anchor=\"middle\" x=\"189\" y=\"-8.3\" font-family=\"Times,serif\" font-size=\"14.00\">(None, 1)</text>\n</g>\n<!-- 139943119569872&#45;&gt;139942898076736 -->\n<g id=\"edge3\" class=\"edge\">\n<title>139943119569872-&gt;139942898076736</title>\n<path fill=\"none\" stroke=\"black\" d=\"M124.5,-83.37C124.5,-75.15 124.5,-65.66 124.5,-56.73\"/>\n<polygon fill=\"black\" stroke=\"black\" points=\"128,-56.61 124.5,-46.61 121,-56.61 128,-56.61\"/>\n</g>\n</g>\n</svg>"
          },
          "metadata": {},
          "execution_count": 24
        }
      ]
    },
    {
      "cell_type": "code",
      "source": [
        "# Save the visualization as a file\n",
        "plot_model(network, show_shapes=True, to_file=\"network.png\")"
      ],
      "metadata": {
        "colab": {
          "base_uri": "https://localhost:8080/",
          "height": 422
        },
        "id": "NlpjuofsbX2n",
        "outputId": "917eced3-574b-4c99-ce6d-a863bbdc241a"
      },
      "execution_count": 25,
      "outputs": [
        {
          "output_type": "execute_result",
          "data": {
            "image/png": "[encoded data removed]",
            "text/plain": [
              "<IPython.core.display.Image object>"
            ]
          },
          "metadata": {},
          "execution_count": 25
        }
      ]
    },
    {
      "cell_type": "code",
      "source": [
        "# Visualize network architecture\n",
        "SVG(model_to_dot(network, show_shapes=False).create(prog=\"dot\", format=\"svg\"))"
      ],
      "metadata": {
        "colab": {
          "base_uri": "https://localhost:8080/",
          "height": 491
        },
        "id": "E5zHI6Roba7b",
        "outputId": "53937393-4b16-481b-9cbb-3407e819fd13"
      },
      "execution_count": 26,
      "outputs": [
        {
          "output_type": "execute_result",
          "data": {
            "text/plain": [
              "<IPython.core.display.SVG object>"
            ],
            "image/svg+xml": "<svg xmlns=\"http://www.w3.org/2000/svg\" xmlns:xlink=\"http://www.w3.org/1999/xlink\" width=\"259pt\" height=\"352pt\" viewBox=\"0.00 0.00 194.00 264.00\">\n<g id=\"graph0\" class=\"graph\" transform=\"scale(0.75 0.75) rotate(0) translate(4 260)\">\n<title>G</title>\n<polygon fill=\"white\" stroke=\"transparent\" points=\"-4,4 -4,-260 190,-260 190,4 -4,4\"/>\n<!-- 139946430015728 -->\n<g id=\"node1\" class=\"node\">\n<title>139946430015728</title>\n<polygon fill=\"none\" stroke=\"black\" points=\"0,-219.5 0,-255.5 186,-255.5 186,-219.5 0,-219.5\"/>\n<text text-anchor=\"middle\" x=\"54.5\" y=\"-233.8\" font-family=\"Times,serif\" font-size=\"14.00\">dense_299_input</text>\n<polyline fill=\"none\" stroke=\"black\" points=\"109,-219.5 109,-255.5 \"/>\n<text text-anchor=\"middle\" x=\"147.5\" y=\"-233.8\" font-family=\"Times,serif\" font-size=\"14.00\">InputLayer</text>\n</g>\n<!-- 139943674576800 -->\n<g id=\"node2\" class=\"node\">\n<title>139943674576800</title>\n<polygon fill=\"none\" stroke=\"black\" points=\"31,-146.5 31,-182.5 155,-182.5 155,-146.5 31,-146.5\"/>\n<text text-anchor=\"middle\" x=\"68\" y=\"-160.8\" font-family=\"Times,serif\" font-size=\"14.00\">dense_299</text>\n<polyline fill=\"none\" stroke=\"black\" points=\"105,-146.5 105,-182.5 \"/>\n<text text-anchor=\"middle\" x=\"130\" y=\"-160.8\" font-family=\"Times,serif\" font-size=\"14.00\">Dense</text>\n</g>\n<!-- 139946430015728&#45;&gt;139943674576800 -->\n<g id=\"edge1\" class=\"edge\">\n<title>139946430015728-&gt;139943674576800</title>\n<path fill=\"none\" stroke=\"black\" d=\"M93,-219.31C93,-211.29 93,-201.55 93,-192.57\"/>\n<polygon fill=\"black\" stroke=\"black\" points=\"96.5,-192.53 93,-182.53 89.5,-192.53 96.5,-192.53\"/>\n</g>\n<!-- 139943119569872 -->\n<g id=\"node3\" class=\"node\">\n<title>139943119569872</title>\n<polygon fill=\"none\" stroke=\"black\" points=\"31,-73.5 31,-109.5 155,-109.5 155,-73.5 31,-73.5\"/>\n<text text-anchor=\"middle\" x=\"68\" y=\"-87.8\" font-family=\"Times,serif\" font-size=\"14.00\">dense_300</text>\n<polyline fill=\"none\" stroke=\"black\" points=\"105,-73.5 105,-109.5 \"/>\n<text text-anchor=\"middle\" x=\"130\" y=\"-87.8\" font-family=\"Times,serif\" font-size=\"14.00\">Dense</text>\n</g>\n<!-- 139943674576800&#45;&gt;139943119569872 -->\n<g id=\"edge2\" class=\"edge\">\n<title>139943674576800-&gt;139943119569872</title>\n<path fill=\"none\" stroke=\"black\" d=\"M93,-146.31C93,-138.29 93,-128.55 93,-119.57\"/>\n<polygon fill=\"black\" stroke=\"black\" points=\"96.5,-119.53 93,-109.53 89.5,-119.53 96.5,-119.53\"/>\n</g>\n<!-- 139942898076736 -->\n<g id=\"node4\" class=\"node\">\n<title>139942898076736</title>\n<polygon fill=\"none\" stroke=\"black\" points=\"31,-0.5 31,-36.5 155,-36.5 155,-0.5 31,-0.5\"/>\n<text text-anchor=\"middle\" x=\"68\" y=\"-14.8\" font-family=\"Times,serif\" font-size=\"14.00\">dense_301</text>\n<polyline fill=\"none\" stroke=\"black\" points=\"105,-0.5 105,-36.5 \"/>\n<text text-anchor=\"middle\" x=\"130\" y=\"-14.8\" font-family=\"Times,serif\" font-size=\"14.00\">Dense</text>\n</g>\n<!-- 139943119569872&#45;&gt;139942898076736 -->\n<g id=\"edge3\" class=\"edge\">\n<title>139943119569872-&gt;139942898076736</title>\n<path fill=\"none\" stroke=\"black\" d=\"M93,-73.31C93,-65.29 93,-55.55 93,-46.57\"/>\n<polygon fill=\"black\" stroke=\"black\" points=\"96.5,-46.53 93,-36.53 89.5,-46.53 96.5,-46.53\"/>\n</g>\n</g>\n</svg>"
          },
          "metadata": {},
          "execution_count": 26
        }
      ]
    },
    {
      "cell_type": "markdown",
      "source": [
        "# 20.15 Classifying Images"
      ],
      "metadata": {
        "id": "lERNh3FsVqCe"
      }
    },
    {
      "cell_type": "code",
      "source": [
        "import numpy as np\n",
        "from keras.datasets import mnist\n",
        "from keras.models import Sequential\n",
        "from keras.layers import Dense, Dropout, Flatten\n",
        "from keras.layers.convolutional import Conv2D, MaxPooling2D\n",
        "from keras.utils import np_utils\n",
        "from keras import backend as K\n",
        "# Set that the color channel value will be first\n",
        "K.set_image_data_format(\"channels_first\")\n",
        "# Set seed\n",
        "np.random.seed(0)\n",
        "# Set image information\n",
        "channels = 1\n",
        "height = 28\n",
        "width = 28\n",
        "# Load data and target from MNIST data\n",
        "(data_train, target_train), (data_test, target_test) = mnist.load_data()\n",
        "# Reshape training image data into features\n",
        "data_train = data_train.reshape(data_train.shape[0], channels, height, width)\n",
        "# Reshape test image data into features\n",
        "data_test = data_test.reshape(data_test.shape[0], channels, height, width)\n",
        "# Rescale pixel intensity to between 0 and 1\n",
        "features_train = data_train / 255\n",
        "features_test = data_test / 255\n",
        "# One-hot encode target\n",
        "target_train = np_utils.to_categorical(target_train)\n",
        "target_test = np_utils.to_categorical(target_test)\n",
        "number_of_classes = target_test.shape[1]\n",
        "# Start neural network\n",
        "network = Sequential()\n",
        "# Add convolutional layer with 64 filters, a 5x5 window, and ReLU activation function\n",
        "network.add(Conv2D(filters=64,\n",
        " kernel_size=(5, 5),\n",
        " input_shape=(channels, width, height),\n",
        " activation='relu'))\n",
        "# Add max pooling layer with a 2x2 window\n",
        "network.add(MaxPooling2D(pool_size=(2, 2)))\n",
        "# Add dropout layer\n",
        "network.add(Dropout(0.5))\n",
        "# Add layer to flatten input\n",
        "network.add(Flatten())\n",
        "# # Add fully connected layer of 128 units with a ReLU activation function\n",
        "network.add(Dense(128, activation=\"relu\"))\n",
        "# Add dropout layer\n",
        "network.add(Dropout(0.5))\n",
        "# Add fully connected layer with a softmax activation function\n",
        "network.add(Dense(number_of_classes, activation=\"softmax\"))\n",
        "network.compile(loss=\"categorical_crossentropy\", # Cross-entropy\n",
        " optimizer=\"rmsprop\", # Root Mean Square Propagation\n",
        " metrics=[\"accuracy\"]) # Accuracy performance metric\n",
        "# Train neural network\n",
        "network.fit(features_train, # Features\n",
        " target_train, # Target\n",
        " epochs=2, # Number of epochs\n",
        " verbose=0, # Don't print description after each epoch\n",
        " batch_size=1000, # Number of observations per batch\n",
        " validation_data=(features_test, target_test)) # Data for evaluation"
      ],
      "metadata": {
        "colab": {
          "base_uri": "https://localhost:8080/"
        },
        "id": "RIPAu6RzbfaS",
        "outputId": "c2ed498b-1f51-4bd9-84a0-f7b6c0d1a21d"
      },
      "execution_count": 27,
      "outputs": [
        {
          "output_type": "stream",
          "name": "stdout",
          "text": [
            "Downloading data from https://storage.googleapis.com/tensorflow/tf-keras-datasets/mnist.npz\n",
            "11490434/11490434 [==============================] - 0s 0us/step\n"
          ]
        },
        {
          "output_type": "execute_result",
          "data": {
            "text/plain": [
              "<keras.callbacks.History at 0x7f46fff46fb0>"
            ]
          },
          "metadata": {},
          "execution_count": 27
        }
      ]
    },
    {
      "cell_type": "markdown",
      "source": [
        "# 20.16 Improving Performance with Image Augmentation"
      ],
      "metadata": {
        "id": "FLYdMwIEVqFJ"
      }
    },
    {
      "cell_type": "code",
      "source": [
        "# Load library\n",
        "from keras.preprocessing.image import ImageDataGenerator\n",
        "# Create image augmentation\n",
        "augmentation = ImageDataGenerator(featurewise_center=True, # Apply ZCA whitening\n",
        " zoom_range=0.3, # Randomly zoom in on images\n",
        " width_shift_range=0.2, # Randomly shift images\n",
        " horizontal_flip=True, # Randomly flip images\n",
        " rotation_range=90) # Randomly rotate\n",
        "# Process all images from the directory 'raw/images'\n",
        "#augment_images = augmentation.flow_from_directory(\"raw/images,jpg\", # Image folder\n",
        "# batch_size=32, # Batch size\n",
        "#class_mode=\"binary\", # Classes\n",
        "#save_to_dir=\"processed/images\")"
      ],
      "metadata": {
        "id": "Ahmn5TC1bpoU"
      },
      "execution_count": 33,
      "outputs": []
    },
    {
      "cell_type": "code",
      "source": [
        "# Train neural network\n",
        "#network.fit_generator(augment_images,\n",
        "                      #Number of times to call the generator for each epoch\n",
        "                      #steps_per_epoch=2000,\n",
        "                      # Number of epochs\n",
        "                      #epochs=5,\n",
        "                      # Test data generator\n",
        "                      #validation_data=augment_images_test,\n",
        "                      # Number of items to call the generator\n",
        "                      # for each test epoch\n",
        "                      #validation_steps=800)"
      ],
      "metadata": {
        "id": "X9FI1Ag5bw1U"
      },
      "execution_count": 35,
      "outputs": []
    }
  ]
}